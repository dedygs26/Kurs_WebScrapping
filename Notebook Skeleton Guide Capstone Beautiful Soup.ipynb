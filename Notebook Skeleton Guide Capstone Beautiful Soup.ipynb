{
 "cells": [
  {
   "cell_type": "markdown",
   "metadata": {},
   "source": [
    "# Capstone Webscrapping using BeautifulSoup\n",
    "\n",
    "This notebook contains guidances & tasks on the data processing for the application\n",
    "\n",
    "(Please insert the background here )\n",
    "\n",
    "\n",
    "## Requesting the Data and Creating a BeautifulSoup\n",
    "\n",
    "Let's begin with requesting the web from the site with `get` method."
   ]
  },
  {
   "cell_type": "code",
   "execution_count": 2,
   "metadata": {
    "ExecuteTime": {
     "end_time": "2020-01-13T05:12:23.275508Z",
     "start_time": "2020-01-13T05:12:20.009898Z"
    }
   },
   "outputs": [],
   "source": [
    "import requests\n",
    "import matplotlib.pyplot as plt\n",
    "url_get = requests.get('https://www.exchange-rates.org/history/IDR/USD/T')"
   ]
  },
  {
   "cell_type": "markdown",
   "metadata": {},
   "source": [
    "To visualize what exactly you get from the `request.get`, we can use .content so ee what we exactly get, in here i slice it so it won't make our screen full of the html we get from the page. You can delete the slicing if you want to see what we fully get."
   ]
  },
  {
   "cell_type": "code",
   "execution_count": 3,
   "metadata": {
    "ExecuteTime": {
     "end_time": "2020-01-13T05:12:23.290648Z",
     "start_time": "2020-01-13T05:12:23.277650Z"
    }
   },
   "outputs": [
    {
     "data": {
      "text/plain": [
       "b'\\n<!DOCTYPE html>\\r\\n<!--[if lt IE 9]>\\r\\n    <html class=\"no-js ie8 oldie\" lang=\\'en\\' xml:lang=\\'en\\'>\\r\\n<![endif]-->\\r\\n<!--[if gt IE 8]><!--> <html class=\"no-js\" lang=\\'en\\' xml:lang=\\'en\\'> <!--<![endif]-->\\r\\n<head><title>Indonesian Rupiah Exchange Rate - US Dollar - Historical Exchange Rates</title>\\n<meta http-equiv=\"X-UA-Compatible\" content=\"IE=edge\">\\n<meta content=\"C#\" name=\"CODE_LANGUAGE\" />\\n<meta content=\"JavaScript\" name=\"vs_defaultClientScript\" />\\n<meta content=\"http://schemas.microsoft.com/intellisense/ie5\" name=\"vs_targetSchema\" />\\n<meta name=\"viewport\" content=\"width=device-width, initial-scale=1, maximum-scale=5\">\\n<meta http-equiv=\"Content-Type\" content=\"text/html; charset=utf-8\" />\\n\\n<meta name=\"mapping\" content=\"AP\" />\\n<base href=\"https://www.exchange-rates.org/\" />'"
      ]
     },
     "execution_count": 3,
     "metadata": {},
     "output_type": "execute_result"
    }
   ],
   "source": [
    "url_get.content[1:777]"
   ]
  },
  {
   "cell_type": "markdown",
   "metadata": {},
   "source": [
    "As we can see we get a very unstructured and complex html, which actually contains the codes needed to show the webpages on your web browser. But we as human still confused what and where we can use that piece of code, so here where we use the beautifulsoup. Beautiful soup class will result a beautifulsoup object. Beautiful Soup transforms a complex HTML document into a complex tree of Python objects. \n",
    "\n",
    "Let's make Beautiful soup object and feel free to explore the object here."
   ]
  },
  {
   "cell_type": "code",
   "execution_count": 4,
   "metadata": {
    "ExecuteTime": {
     "end_time": "2020-01-13T05:12:23.808122Z",
     "start_time": "2020-01-13T05:12:23.292610Z"
    }
   },
   "outputs": [
    {
     "name": "stdout",
     "output_type": "stream",
     "text": [
      "<class 'bs4.BeautifulSoup'>\n"
     ]
    }
   ],
   "source": [
    "from bs4 import BeautifulSoup \n",
    "\n",
    "soup = BeautifulSoup(url_get.content,\"html.parser\")\n",
    "print(type(soup))"
   ]
  },
  {
   "cell_type": "markdown",
   "metadata": {},
   "source": [
    "## Finding the right key to scrap the data & Extracting the right information"
   ]
  },
  {
   "cell_type": "markdown",
   "metadata": {},
   "source": [
    "Find the key and put the key into the `.find()` Put all the exploring the right key at this cell. (please change this markdown with your explanation)"
   ]
  },
  {
   "cell_type": "code",
   "execution_count": 5,
   "metadata": {
    "ExecuteTime": {
     "end_time": "2020-01-13T05:12:23.878904Z",
     "start_time": "2020-01-13T05:12:23.854974Z"
    },
    "scrolled": true
   },
   "outputs": [
    {
     "name": "stdout",
     "output_type": "stream",
     "text": [
      "table class=\"table table-striped table-hover table-hover-solid-row table-simple history-data\">\n",
      " <tbody>\n",
      "  <tr>\n",
      "   <td>\n",
      "    3/22/2021\n",
      "   </td>\n",
      "   <td>\n",
      "    Monday\n",
      "   </td>\n",
      "   <td>\n",
      "    <a href=\"/Rate/USD/IDR/3-22-2021\">\n",
      "     14,378.72677\n",
      "    </a>\n",
      "    IDR\n",
      "   </td>\n",
      "   <td class=\"text-narrow-screen-hidden\">\n",
      "    <a href=\"/Rate/USD/IDR/3-22-2021\">\n",
      "     USD IDR rate for 3/22/2021\n",
      "    </a>\n",
      "   </td>\n",
      "  </tr>\n",
      "  <tr>\n",
      "   <td>\n",
      "    3/19/2021\n",
      "   </td>\n",
      "   <td>\n",
      "    Friday\n",
      "   </td>\n",
      "   <td>\n",
      "    <a href=\"/Rate/USD/ID\n"
     ]
    }
   ],
   "source": [
    "table = soup.find('table',attrs={'class':\"table table-striped table-hover table-hover-solid-row table-simple history-data\"})\n",
    "print(table.prettify()[1:500])"
   ]
  },
  {
   "cell_type": "code",
   "execution_count": 6,
   "metadata": {},
   "outputs": [
    {
     "data": {
      "text/plain": [
       "[<tr><td>3/22/2021</td><td>Monday</td><td><a href=\"/Rate/USD/IDR/3-22-2021\">14,378.72677</a> IDR</td><td class=\"text-narrow-screen-hidden\"><a href=\"/Rate/USD/IDR/3-22-2021\">USD IDR rate for 3/22/2021</a></td></tr>,\n",
       " <tr><td>3/19/2021</td><td>Friday</td><td><a href=\"/Rate/USD/IDR/3-19-2021\">14,409.66972</a> IDR</td><td class=\"text-narrow-screen-hidden\"><a href=\"/Rate/USD/IDR/3-19-2021\">USD IDR rate for 3/19/2021</a></td></tr>,\n",
       " <tr><td>3/18/2021</td><td>Thursday</td><td><a href=\"/Rate/USD/IDR/3-18-2021\">14,423.29934</a> IDR</td><td class=\"text-narrow-screen-hidden\"><a href=\"/Rate/USD/IDR/3-18-2021\">USD IDR rate for 3/18/2021</a></td></tr>,\n",
       " <tr><td>3/17/2021</td><td>Wednesday</td><td><a href=\"/Rate/USD/IDR/3-17-2021\">14,346.28612</a> IDR</td><td class=\"text-narrow-screen-hidden\"><a href=\"/Rate/USD/IDR/3-17-2021\">USD IDR rate for 3/17/2021</a></td></tr>,\n",
       " <tr><td>3/16/2021</td><td>Tuesday</td><td><a href=\"/Rate/USD/IDR/3-16-2021\">14,407.76927</a> IDR</td><td class=\"text-narrow-screen-hidden\"><a href=\"/Rate/USD/IDR/3-16-2021\">USD IDR rate for 3/16/2021</a></td></tr>,\n",
       " <tr><td>3/15/2021</td><td>Monday</td><td><a href=\"/Rate/USD/IDR/3-15-2021\">14,423.68150</a> IDR</td><td class=\"text-narrow-screen-hidden\"><a href=\"/Rate/USD/IDR/3-15-2021\">USD IDR rate for 3/15/2021</a></td></tr>,\n",
       " <tr><td>3/12/2021</td><td>Friday</td><td><a href=\"/Rate/USD/IDR/3-12-2021\">14,393.57497</a> IDR</td><td class=\"text-narrow-screen-hidden\"><a href=\"/Rate/USD/IDR/3-12-2021\">USD IDR rate for 3/12/2021</a></td></tr>,\n",
       " <tr><td>3/11/2021</td><td>Thursday</td><td><a href=\"/Rate/USD/IDR/3-11-2021\">14,319.87571</a> IDR</td><td class=\"text-narrow-screen-hidden\"><a href=\"/Rate/USD/IDR/3-11-2021\">USD IDR rate for 3/11/2021</a></td></tr>,\n",
       " <tr><td>3/10/2021</td><td>Wednesday</td><td><a href=\"/Rate/USD/IDR/3-10-2021\">14,387.89293</a> IDR</td><td class=\"text-narrow-screen-hidden\"><a href=\"/Rate/USD/IDR/3-10-2021\">USD IDR rate for 3/10/2021</a></td></tr>,\n",
       " <tr><td>3/9/2021</td><td>Tuesday</td><td><a href=\"/Rate/USD/IDR/3-9-2021\">14,396.25662</a> IDR</td><td class=\"text-narrow-screen-hidden\"><a href=\"/Rate/USD/IDR/3-9-2021\">USD IDR rate for 3/9/2021</a></td></tr>,\n",
       " <tr><td>3/8/2021</td><td>Monday</td><td><a href=\"/Rate/USD/IDR/3-8-2021\">14,374.33106</a> IDR</td><td class=\"text-narrow-screen-hidden\"><a href=\"/Rate/USD/IDR/3-8-2021\">USD IDR rate for 3/8/2021</a></td></tr>,\n",
       " <tr><td>3/5/2021</td><td>Friday</td><td><a href=\"/Rate/USD/IDR/3-5-2021\">14,292.17893</a> IDR</td><td class=\"text-narrow-screen-hidden\"><a href=\"/Rate/USD/IDR/3-5-2021\">USD IDR rate for 3/5/2021</a></td></tr>,\n",
       " <tr class=\"inline-grid-ad-row first\"><td class=\"inline-grid-ad-cell first\" colspan=\"4\"><div class=\"google-wrap\">\n",
       " <style type=\"text/css\">\n",
       "     @media (min-width:770px)  { .inline-grid-ad-row { display: none; } }\n",
       "     table tr.inline-grid-ad-row > td:first-child,\n",
       "     table tr.inline-grid-ad-row:hover > td:first-child { background-color: #f9f9f9 !important; }\n",
       "   </style>\n",
       " <div class=\"_ap_apex_ad\" id=\"1b89b15f-48e9-4d38-a83b-795779503b7e\">\n",
       " <script>\n",
       "             if (window.innerWidth < 770) {\n",
       " \t\tvar adpushup = window.adpushup  = window.adpushup || {que:[]};\n",
       " \t\tadpushup.que.push(function() {\n",
       " \t\t\tadpushup.triggerAd(\"1b89b15f-48e9-4d38-a83b-795779503b7e\");\n",
       " \t\t});\n",
       "             }\n",
       " \t</script>\n",
       " </div>\n",
       " </div>\n",
       " </td></tr>]"
      ]
     },
     "execution_count": 6,
     "metadata": {},
     "output_type": "execute_result"
    }
   ],
   "source": [
    "tr = table.find_all('tr')\n",
    "tr[:13] # just call 2 founded tr"
   ]
  },
  {
   "cell_type": "markdown",
   "metadata": {},
   "source": [
    "Do the scrapping process here (please change this markdown with your explanation)"
   ]
  },
  {
   "cell_type": "code",
   "execution_count": 7,
   "metadata": {},
   "outputs": [
    {
     "data": {
      "text/plain": [
       "[<tr><td>3/22/2021</td><td>Monday</td><td><a href=\"/Rate/USD/IDR/3-22-2021\">14,378.72677</a> IDR</td><td class=\"text-narrow-screen-hidden\"><a href=\"/Rate/USD/IDR/3-22-2021\">USD IDR rate for 3/22/2021</a></td></tr>,\n",
       " <tr><td>3/19/2021</td><td>Friday</td><td><a href=\"/Rate/USD/IDR/3-19-2021\">14,409.66972</a> IDR</td><td class=\"text-narrow-screen-hidden\"><a href=\"/Rate/USD/IDR/3-19-2021\">USD IDR rate for 3/19/2021</a></td></tr>,\n",
       " <tr><td>3/18/2021</td><td>Thursday</td><td><a href=\"/Rate/USD/IDR/3-18-2021\">14,423.29934</a> IDR</td><td class=\"text-narrow-screen-hidden\"><a href=\"/Rate/USD/IDR/3-18-2021\">USD IDR rate for 3/18/2021</a></td></tr>,\n",
       " <tr><td>3/17/2021</td><td>Wednesday</td><td><a href=\"/Rate/USD/IDR/3-17-2021\">14,346.28612</a> IDR</td><td class=\"text-narrow-screen-hidden\"><a href=\"/Rate/USD/IDR/3-17-2021\">USD IDR rate for 3/17/2021</a></td></tr>,\n",
       " <tr><td>3/16/2021</td><td>Tuesday</td><td><a href=\"/Rate/USD/IDR/3-16-2021\">14,407.76927</a> IDR</td><td class=\"text-narrow-screen-hidden\"><a href=\"/Rate/USD/IDR/3-16-2021\">USD IDR rate for 3/16/2021</a></td></tr>,\n",
       " <tr><td>3/15/2021</td><td>Monday</td><td><a href=\"/Rate/USD/IDR/3-15-2021\">14,423.68150</a> IDR</td><td class=\"text-narrow-screen-hidden\"><a href=\"/Rate/USD/IDR/3-15-2021\">USD IDR rate for 3/15/2021</a></td></tr>,\n",
       " <tr><td>3/12/2021</td><td>Friday</td><td><a href=\"/Rate/USD/IDR/3-12-2021\">14,393.57497</a> IDR</td><td class=\"text-narrow-screen-hidden\"><a href=\"/Rate/USD/IDR/3-12-2021\">USD IDR rate for 3/12/2021</a></td></tr>,\n",
       " <tr><td>3/11/2021</td><td>Thursday</td><td><a href=\"/Rate/USD/IDR/3-11-2021\">14,319.87571</a> IDR</td><td class=\"text-narrow-screen-hidden\"><a href=\"/Rate/USD/IDR/3-11-2021\">USD IDR rate for 3/11/2021</a></td></tr>,\n",
       " <tr><td>3/10/2021</td><td>Wednesday</td><td><a href=\"/Rate/USD/IDR/3-10-2021\">14,387.89293</a> IDR</td><td class=\"text-narrow-screen-hidden\"><a href=\"/Rate/USD/IDR/3-10-2021\">USD IDR rate for 3/10/2021</a></td></tr>,\n",
       " <tr><td>3/9/2021</td><td>Tuesday</td><td><a href=\"/Rate/USD/IDR/3-9-2021\">14,396.25662</a> IDR</td><td class=\"text-narrow-screen-hidden\"><a href=\"/Rate/USD/IDR/3-9-2021\">USD IDR rate for 3/9/2021</a></td></tr>,\n",
       " <tr><td>3/8/2021</td><td>Monday</td><td><a href=\"/Rate/USD/IDR/3-8-2021\">14,374.33106</a> IDR</td><td class=\"text-narrow-screen-hidden\"><a href=\"/Rate/USD/IDR/3-8-2021\">USD IDR rate for 3/8/2021</a></td></tr>,\n",
       " <tr><td>3/5/2021</td><td>Friday</td><td><a href=\"/Rate/USD/IDR/3-5-2021\">14,292.17893</a> IDR</td><td class=\"text-narrow-screen-hidden\"><a href=\"/Rate/USD/IDR/3-5-2021\">USD IDR rate for 3/5/2021</a></td></tr>,\n",
       " <tr><td>3/4/2021</td><td>Thursday</td><td><a href=\"/Rate/USD/IDR/3-4-2021\">14,261.85426</a> IDR</td><td class=\"text-narrow-screen-hidden\"><a href=\"/Rate/USD/IDR/3-4-2021\">USD IDR rate for 3/4/2021</a></td></tr>,\n",
       " <tr><td>3/3/2021</td><td>Wednesday</td><td><a href=\"/Rate/USD/IDR/3-3-2021\">14,257.29443</a> IDR</td><td class=\"text-narrow-screen-hidden\"><a href=\"/Rate/USD/IDR/3-3-2021\">USD IDR rate for 3/3/2021</a></td></tr>,\n",
       " <tr><td>3/2/2021</td><td>Tuesday</td><td><a href=\"/Rate/USD/IDR/3-2-2021\">14,256.28041</a> IDR</td><td class=\"text-narrow-screen-hidden\"><a href=\"/Rate/USD/IDR/3-2-2021\">USD IDR rate for 3/2/2021</a></td></tr>,\n",
       " <tr><td>3/1/2021</td><td>Monday</td><td><a href=\"/Rate/USD/IDR/3-1-2021\">14,248.60576</a> IDR</td><td class=\"text-narrow-screen-hidden\"><a href=\"/Rate/USD/IDR/3-1-2021\">USD IDR rate for 3/1/2021</a></td></tr>,\n",
       " <tr><td>2/26/2021</td><td>Friday</td><td><a href=\"/Rate/USD/IDR/2-26-2021\">14,300.27815</a> IDR</td><td class=\"text-narrow-screen-hidden\"><a href=\"/Rate/USD/IDR/2-26-2021\">USD IDR rate for 2/26/2021</a></td></tr>,\n",
       " <tr><td>2/25/2021</td><td>Thursday</td><td><a href=\"/Rate/USD/IDR/2-25-2021\">14,139.73096</a> IDR</td><td class=\"text-narrow-screen-hidden\"><a href=\"/Rate/USD/IDR/2-25-2021\">USD IDR rate for 2/25/2021</a></td></tr>,\n",
       " <tr><td>2/24/2021</td><td>Wednesday</td><td><a href=\"/Rate/USD/IDR/2-24-2021\">14,083.03673</a> IDR</td><td class=\"text-narrow-screen-hidden\"><a href=\"/Rate/USD/IDR/2-24-2021\">USD IDR rate for 2/24/2021</a></td></tr>,\n",
       " <tr><td>2/23/2021</td><td>Tuesday</td><td><a href=\"/Rate/USD/IDR/2-23-2021\">14,092.64503</a> IDR</td><td class=\"text-narrow-screen-hidden\"><a href=\"/Rate/USD/IDR/2-23-2021\">USD IDR rate for 2/23/2021</a></td></tr>,\n",
       " <tr><td>2/22/2021</td><td>Monday</td><td><a href=\"/Rate/USD/IDR/2-22-2021\">14,118.07274</a> IDR</td><td class=\"text-narrow-screen-hidden\"><a href=\"/Rate/USD/IDR/2-22-2021\">USD IDR rate for 2/22/2021</a></td></tr>,\n",
       " <tr><td>2/19/2021</td><td>Friday</td><td><a href=\"/Rate/USD/IDR/2-19-2021\">14,066.79375</a> IDR</td><td class=\"text-narrow-screen-hidden\"><a href=\"/Rate/USD/IDR/2-19-2021\">USD IDR rate for 2/19/2021</a></td></tr>,\n",
       " <tr><td>2/18/2021</td><td>Thursday</td><td><a href=\"/Rate/USD/IDR/2-18-2021\">14,013.51318</a> IDR</td><td class=\"text-narrow-screen-hidden\"><a href=\"/Rate/USD/IDR/2-18-2021\">USD IDR rate for 2/18/2021</a></td></tr>,\n",
       " <tr><td>2/17/2021</td><td>Wednesday</td><td><a href=\"/Rate/USD/IDR/2-17-2021\">14,015.16095</a> IDR</td><td class=\"text-narrow-screen-hidden\"><a href=\"/Rate/USD/IDR/2-17-2021\">USD IDR rate for 2/17/2021</a></td></tr>,\n",
       " <tr><td>2/16/2021</td><td>Tuesday</td><td><a href=\"/Rate/USD/IDR/2-16-2021\">13,935.96629</a> IDR</td><td class=\"text-narrow-screen-hidden\"><a href=\"/Rate/USD/IDR/2-16-2021\">USD IDR rate for 2/16/2021</a></td></tr>,\n",
       " <tr><td>2/15/2021</td><td>Monday</td><td><a href=\"/Rate/USD/IDR/2-15-2021\">13,918.18725</a> IDR</td><td class=\"text-narrow-screen-hidden\"><a href=\"/Rate/USD/IDR/2-15-2021\">USD IDR rate for 2/15/2021</a></td></tr>,\n",
       " <tr><td>2/12/2021</td><td>Friday</td><td><a href=\"/Rate/USD/IDR/2-12-2021\">13,988.54710</a> IDR</td><td class=\"text-narrow-screen-hidden\"><a href=\"/Rate/USD/IDR/2-12-2021\">USD IDR rate for 2/12/2021</a></td></tr>,\n",
       " <tr><td>2/11/2021</td><td>Thursday</td><td><a href=\"/Rate/USD/IDR/2-11-2021\">13,982.27900</a> IDR</td><td class=\"text-narrow-screen-hidden\"><a href=\"/Rate/USD/IDR/2-11-2021\">USD IDR rate for 2/11/2021</a></td></tr>,\n",
       " <tr><td>2/10/2021</td><td>Wednesday</td><td><a href=\"/Rate/USD/IDR/2-10-2021\">13,994.09212</a> IDR</td><td class=\"text-narrow-screen-hidden\"><a href=\"/Rate/USD/IDR/2-10-2021\">USD IDR rate for 2/10/2021</a></td></tr>,\n",
       " <tr><td>2/9/2021</td><td>Tuesday</td><td><a href=\"/Rate/USD/IDR/2-9-2021\">13,920.52018</a> IDR</td><td class=\"text-narrow-screen-hidden\"><a href=\"/Rate/USD/IDR/2-9-2021\">USD IDR rate for 2/9/2021</a></td></tr>,\n",
       " <tr><td>2/8/2021</td><td>Monday</td><td><a href=\"/Rate/USD/IDR/2-8-2021\">14,007.25257</a> IDR</td><td class=\"text-narrow-screen-hidden\"><a href=\"/Rate/USD/IDR/2-8-2021\">USD IDR rate for 2/8/2021</a></td></tr>,\n",
       " <tr><td>2/5/2021</td><td>Friday</td><td><a href=\"/Rate/USD/IDR/2-5-2021\">14,008.99630</a> IDR</td><td class=\"text-narrow-screen-hidden\"><a href=\"/Rate/USD/IDR/2-5-2021\">USD IDR rate for 2/5/2021</a></td></tr>,\n",
       " <tr><td>2/4/2021</td><td>Thursday</td><td><a href=\"/Rate/USD/IDR/2-4-2021\">14,020.87878</a> IDR</td><td class=\"text-narrow-screen-hidden\"><a href=\"/Rate/USD/IDR/2-4-2021\">USD IDR rate for 2/4/2021</a></td></tr>,\n",
       " <tr><td>2/3/2021</td><td>Wednesday</td><td><a href=\"/Rate/USD/IDR/2-3-2021\">13,997.60682</a> IDR</td><td class=\"text-narrow-screen-hidden\"><a href=\"/Rate/USD/IDR/2-3-2021\">USD IDR rate for 2/3/2021</a></td></tr>,\n",
       " <tr><td>2/2/2021</td><td>Tuesday</td><td><a href=\"/Rate/USD/IDR/2-2-2021\">14,004.60175</a> IDR</td><td class=\"text-narrow-screen-hidden\"><a href=\"/Rate/USD/IDR/2-2-2021\">USD IDR rate for 2/2/2021</a></td></tr>,\n",
       " <tr><td>2/1/2021</td><td>Monday</td><td><a href=\"/Rate/USD/IDR/2-1-2021\">14,025.27450</a> IDR</td><td class=\"text-narrow-screen-hidden\"><a href=\"/Rate/USD/IDR/2-1-2021\">USD IDR rate for 2/1/2021</a></td></tr>,\n",
       " <tr><td>1/29/2021</td><td>Friday</td><td><a href=\"/Rate/USD/IDR/1-29-2021\">14,027.32457</a> IDR</td><td class=\"text-narrow-screen-hidden\"><a href=\"/Rate/USD/IDR/1-29-2021\">USD IDR rate for 1/29/2021</a></td></tr>,\n",
       " <tr><td>1/28/2021</td><td>Thursday</td><td><a href=\"/Rate/USD/IDR/1-28-2021\">14,048.06146</a> IDR</td><td class=\"text-narrow-screen-hidden\"><a href=\"/Rate/USD/IDR/1-28-2021\">USD IDR rate for 1/28/2021</a></td></tr>,\n",
       " <tr><td>1/27/2021</td><td>Wednesday</td><td><a href=\"/Rate/USD/IDR/1-27-2021\">14,048.72649</a> IDR</td><td class=\"text-narrow-screen-hidden\"><a href=\"/Rate/USD/IDR/1-27-2021\">USD IDR rate for 1/27/2021</a></td></tr>,\n",
       " <tr><td>1/26/2021</td><td>Tuesday</td><td><a href=\"/Rate/USD/IDR/1-26-2021\">14,062.91108</a> IDR</td><td class=\"text-narrow-screen-hidden\"><a href=\"/Rate/USD/IDR/1-26-2021\">USD IDR rate for 1/26/2021</a></td></tr>,\n",
       " <tr><td>1/25/2021</td><td>Monday</td><td><a href=\"/Rate/USD/IDR/1-25-2021\">14,021.11609</a> IDR</td><td class=\"text-narrow-screen-hidden\"><a href=\"/Rate/USD/IDR/1-25-2021\">USD IDR rate for 1/25/2021</a></td></tr>,\n",
       " <tr><td>1/22/2021</td><td>Friday</td><td><a href=\"/Rate/USD/IDR/1-22-2021\">14,025.60268</a> IDR</td><td class=\"text-narrow-screen-hidden\"><a href=\"/Rate/USD/IDR/1-22-2021\">USD IDR rate for 1/22/2021</a></td></tr>,\n",
       " <tr><td>1/21/2021</td><td>Thursday</td><td><a href=\"/Rate/USD/IDR/1-21-2021\">13,964.91920</a> IDR</td><td class=\"text-narrow-screen-hidden\"><a href=\"/Rate/USD/IDR/1-21-2021\">USD IDR rate for 1/21/2021</a></td></tr>,\n",
       " <tr><td>1/20/2021</td><td>Wednesday</td><td><a href=\"/Rate/USD/IDR/1-20-2021\">14,021.43046</a> IDR</td><td class=\"text-narrow-screen-hidden\"><a href=\"/Rate/USD/IDR/1-20-2021\">USD IDR rate for 1/20/2021</a></td></tr>,\n",
       " <tr><td>1/19/2021</td><td>Tuesday</td><td><a href=\"/Rate/USD/IDR/1-19-2021\">14,063.60877</a> IDR</td><td class=\"text-narrow-screen-hidden\"><a href=\"/Rate/USD/IDR/1-19-2021\">USD IDR rate for 1/19/2021</a></td></tr>,\n",
       " <tr><td>1/18/2021</td><td>Monday</td><td><a href=\"/Rate/USD/IDR/1-18-2021\">14,055.43768</a> IDR</td><td class=\"text-narrow-screen-hidden\"><a href=\"/Rate/USD/IDR/1-18-2021\">USD IDR rate for 1/18/2021</a></td></tr>,\n",
       " <tr><td>1/15/2021</td><td>Friday</td><td><a href=\"/Rate/USD/IDR/1-15-2021\">14,153.46654</a> IDR</td><td class=\"text-narrow-screen-hidden\"><a href=\"/Rate/USD/IDR/1-15-2021\">USD IDR rate for 1/15/2021</a></td></tr>,\n",
       " <tr><td>1/14/2021</td><td>Thursday</td><td><a href=\"/Rate/USD/IDR/1-14-2021\">14,070.58746</a> IDR</td><td class=\"text-narrow-screen-hidden\"><a href=\"/Rate/USD/IDR/1-14-2021\">USD IDR rate for 1/14/2021</a></td></tr>,\n",
       " <tr><td>1/13/2021</td><td>Wednesday</td><td><a href=\"/Rate/USD/IDR/1-13-2021\">14,125.90174</a> IDR</td><td class=\"text-narrow-screen-hidden\"><a href=\"/Rate/USD/IDR/1-13-2021\">USD IDR rate for 1/13/2021</a></td></tr>,\n",
       " <tr><td>1/12/2021</td><td>Tuesday</td><td><a href=\"/Rate/USD/IDR/1-12-2021\">14,074.81444</a> IDR</td><td class=\"text-narrow-screen-hidden\"><a href=\"/Rate/USD/IDR/1-12-2021\">USD IDR rate for 1/12/2021</a></td></tr>,\n",
       " <tr><td>1/11/2021</td><td>Monday</td><td><a href=\"/Rate/USD/IDR/1-11-2021\">14,137.24151</a> IDR</td><td class=\"text-narrow-screen-hidden\"><a href=\"/Rate/USD/IDR/1-11-2021\">USD IDR rate for 1/11/2021</a></td></tr>,\n",
       " <tr><td>1/8/2021</td><td>Friday</td><td><a href=\"/Rate/USD/IDR/1-8-2021\">13,991.16348</a> IDR</td><td class=\"text-narrow-screen-hidden\"><a href=\"/Rate/USD/IDR/1-8-2021\">USD IDR rate for 1/8/2021</a></td></tr>,\n",
       " <tr><td>1/7/2021</td><td>Thursday</td><td><a href=\"/Rate/USD/IDR/1-7-2021\">13,905.64377</a> IDR</td><td class=\"text-narrow-screen-hidden\"><a href=\"/Rate/USD/IDR/1-7-2021\">USD IDR rate for 1/7/2021</a></td></tr>,\n",
       " <tr><td>1/6/2021</td><td>Wednesday</td><td><a href=\"/Rate/USD/IDR/1-6-2021\">13,861.51463</a> IDR</td><td class=\"text-narrow-screen-hidden\"><a href=\"/Rate/USD/IDR/1-6-2021\">USD IDR rate for 1/6/2021</a></td></tr>,\n",
       " <tr><td>1/5/2021</td><td>Tuesday</td><td><a href=\"/Rate/USD/IDR/1-5-2021\">13,906.05686</a> IDR</td><td class=\"text-narrow-screen-hidden\"><a href=\"/Rate/USD/IDR/1-5-2021\">USD IDR rate for 1/5/2021</a></td></tr>,\n",
       " <tr><td>1/4/2021</td><td>Monday</td><td><a href=\"/Rate/USD/IDR/1-4-2021\">14,015.86887</a> IDR</td><td class=\"text-narrow-screen-hidden\"><a href=\"/Rate/USD/IDR/1-4-2021\">USD IDR rate for 1/4/2021</a></td></tr>,\n",
       " <tr><td>1/1/2021</td><td>Friday</td><td><a href=\"/Rate/USD/IDR/1-1-2021\">14,213.67526</a> IDR</td><td class=\"text-narrow-screen-hidden\"><a href=\"/Rate/USD/IDR/1-1-2021\">USD IDR rate for 1/1/2021</a></td></tr>,\n",
       " <tr><td>12/31/2020</td><td>Thursday</td><td><a href=\"/Rate/USD/IDR/12-31-2020\">14,120.57461</a> IDR</td><td class=\"text-narrow-screen-hidden\"><a href=\"/Rate/USD/IDR/12-31-2020\">USD IDR rate for 12/31/2020</a></td></tr>,\n",
       " <tr><td>12/30/2020</td><td>Wednesday</td><td><a href=\"/Rate/USD/IDR/12-30-2020\">14,020.01350</a> IDR</td><td class=\"text-narrow-screen-hidden\"><a href=\"/Rate/USD/IDR/12-30-2020\">USD IDR rate for 12/30/2020</a></td></tr>,\n",
       " <tr><td>12/29/2020</td><td>Tuesday</td><td><a href=\"/Rate/USD/IDR/12-29-2020\">14,108.18177</a> IDR</td><td class=\"text-narrow-screen-hidden\"><a href=\"/Rate/USD/IDR/12-29-2020\">USD IDR rate for 12/29/2020</a></td></tr>,\n",
       " <tr><td>12/28/2020</td><td>Monday</td><td><a href=\"/Rate/USD/IDR/12-28-2020\">14,139.81753</a> IDR</td><td class=\"text-narrow-screen-hidden\"><a href=\"/Rate/USD/IDR/12-28-2020\">USD IDR rate for 12/28/2020</a></td></tr>,\n",
       " <tr><td>12/25/2020</td><td>Friday</td><td><a href=\"/Rate/USD/IDR/12-25-2020\">14,211.65343</a> IDR</td><td class=\"text-narrow-screen-hidden\"><a href=\"/Rate/USD/IDR/12-25-2020\">USD IDR rate for 12/25/2020</a></td></tr>,\n",
       " <tr><td>12/24/2020</td><td>Thursday</td><td><a href=\"/Rate/USD/IDR/12-24-2020\">14,188.41293</a> IDR</td><td class=\"text-narrow-screen-hidden\"><a href=\"/Rate/USD/IDR/12-24-2020\">USD IDR rate for 12/24/2020</a></td></tr>,\n",
       " <tr><td>12/23/2020</td><td>Wednesday</td><td><a href=\"/Rate/USD/IDR/12-23-2020\">14,183.64082</a> IDR</td><td class=\"text-narrow-screen-hidden\"><a href=\"/Rate/USD/IDR/12-23-2020\">USD IDR rate for 12/23/2020</a></td></tr>,\n",
       " <tr><td>12/22/2020</td><td>Tuesday</td><td><a href=\"/Rate/USD/IDR/12-22-2020\">14,164.98134</a> IDR</td><td class=\"text-narrow-screen-hidden\"><a href=\"/Rate/USD/IDR/12-22-2020\">USD IDR rate for 12/22/2020</a></td></tr>,\n",
       " <tr><td>12/21/2020</td><td>Monday</td><td><a href=\"/Rate/USD/IDR/12-21-2020\">14,124.20148</a> IDR</td><td class=\"text-narrow-screen-hidden\"><a href=\"/Rate/USD/IDR/12-21-2020\">USD IDR rate for 12/21/2020</a></td></tr>,\n",
       " <tr><td>12/18/2020</td><td>Friday</td><td><a href=\"/Rate/USD/IDR/12-18-2020\">14,101.05758</a> IDR</td><td class=\"text-narrow-screen-hidden\"><a href=\"/Rate/USD/IDR/12-18-2020\">USD IDR rate for 12/18/2020</a></td></tr>,\n",
       " <tr><td>12/17/2020</td><td>Thursday</td><td><a href=\"/Rate/USD/IDR/12-17-2020\">14,101.72807</a> IDR</td><td class=\"text-narrow-screen-hidden\"><a href=\"/Rate/USD/IDR/12-17-2020\">USD IDR rate for 12/17/2020</a></td></tr>,\n",
       " <tr><td>12/16/2020</td><td>Wednesday</td><td><a href=\"/Rate/USD/IDR/12-16-2020\">14,084.50704</a> IDR</td><td class=\"text-narrow-screen-hidden\"><a href=\"/Rate/USD/IDR/12-16-2020\">USD IDR rate for 12/16/2020</a></td></tr>,\n",
       " <tr><td>12/15/2020</td><td>Tuesday</td><td><a href=\"/Rate/USD/IDR/12-15-2020\">14,124.19150</a> IDR</td><td class=\"text-narrow-screen-hidden\"><a href=\"/Rate/USD/IDR/12-15-2020\">USD IDR rate for 12/15/2020</a></td></tr>,\n",
       " <tr><td>12/14/2020</td><td>Monday</td><td><a href=\"/Rate/USD/IDR/12-14-2020\">14,087.17417</a> IDR</td><td class=\"text-narrow-screen-hidden\"><a href=\"/Rate/USD/IDR/12-14-2020\">USD IDR rate for 12/14/2020</a></td></tr>,\n",
       " <tr><td>12/11/2020</td><td>Friday</td><td><a href=\"/Rate/USD/IDR/12-11-2020\">14,076.36739</a> IDR</td><td class=\"text-narrow-screen-hidden\"><a href=\"/Rate/USD/IDR/12-11-2020\">USD IDR rate for 12/11/2020</a></td></tr>,\n",
       " <tr><td>12/10/2020</td><td>Thursday</td><td><a href=\"/Rate/USD/IDR/12-10-2020\">14,103.70444</a> IDR</td><td class=\"text-narrow-screen-hidden\"><a href=\"/Rate/USD/IDR/12-10-2020\">USD IDR rate for 12/10/2020</a></td></tr>,\n",
       " <tr><td>12/9/2020</td><td>Wednesday</td><td><a href=\"/Rate/USD/IDR/12-9-2020\">14,096.39851</a> IDR</td><td class=\"text-narrow-screen-hidden\"><a href=\"/Rate/USD/IDR/12-9-2020\">USD IDR rate for 12/9/2020</a></td></tr>,\n",
       " <tr><td>12/8/2020</td><td>Tuesday</td><td><a href=\"/Rate/USD/IDR/12-8-2020\">14,105.04229</a> IDR</td><td class=\"text-narrow-screen-hidden\"><a href=\"/Rate/USD/IDR/12-8-2020\">USD IDR rate for 12/8/2020</a></td></tr>,\n",
       " <tr><td>12/7/2020</td><td>Monday</td><td><a href=\"/Rate/USD/IDR/12-7-2020\">14,103.58039</a> IDR</td><td class=\"text-narrow-screen-hidden\"><a href=\"/Rate/USD/IDR/12-7-2020\">USD IDR rate for 12/7/2020</a></td></tr>,\n",
       " <tr><td>12/4/2020</td><td>Friday</td><td><a href=\"/Rate/USD/IDR/12-4-2020\">14,092.75807</a> IDR</td><td class=\"text-narrow-screen-hidden\"><a href=\"/Rate/USD/IDR/12-4-2020\">USD IDR rate for 12/4/2020</a></td></tr>,\n",
       " <tr><td>12/3/2020</td><td>Thursday</td><td><a href=\"/Rate/USD/IDR/12-3-2020\">14,109.15139</a> IDR</td><td class=\"text-narrow-screen-hidden\"><a href=\"/Rate/USD/IDR/12-3-2020\">USD IDR rate for 12/3/2020</a></td></tr>,\n",
       " <tr><td>12/2/2020</td><td>Wednesday</td><td><a href=\"/Rate/USD/IDR/12-2-2020\">14,094.65785</a> IDR</td><td class=\"text-narrow-screen-hidden\"><a href=\"/Rate/USD/IDR/12-2-2020\">USD IDR rate for 12/2/2020</a></td></tr>,\n",
       " <tr><td>12/1/2020</td><td>Tuesday</td><td><a href=\"/Rate/USD/IDR/12-1-2020\">14,118.51435</a> IDR</td><td class=\"text-narrow-screen-hidden\"><a href=\"/Rate/USD/IDR/12-1-2020\">USD IDR rate for 12/1/2020</a></td></tr>,\n",
       " <tr><td>11/30/2020</td><td>Monday</td><td><a href=\"/Rate/USD/IDR/11-30-2020\">14,114.11663</a> IDR</td><td class=\"text-narrow-screen-hidden\"><a href=\"/Rate/USD/IDR/11-30-2020\">USD IDR rate for 11/30/2020</a></td></tr>,\n",
       " <tr><td>11/27/2020</td><td>Friday</td><td><a href=\"/Rate/USD/IDR/11-27-2020\">14,078.12448</a> IDR</td><td class=\"text-narrow-screen-hidden\"><a href=\"/Rate/USD/IDR/11-27-2020\">USD IDR rate for 11/27/2020</a></td></tr>,\n",
       " <tr><td>11/26/2020</td><td>Thursday</td><td><a href=\"/Rate/USD/IDR/11-26-2020\">14,090.70769</a> IDR</td><td class=\"text-narrow-screen-hidden\"><a href=\"/Rate/USD/IDR/11-26-2020\">USD IDR rate for 11/26/2020</a></td></tr>,\n",
       " <tr><td>11/25/2020</td><td>Wednesday</td><td><a href=\"/Rate/USD/IDR/11-25-2020\">14,136.09929</a> IDR</td><td class=\"text-narrow-screen-hidden\"><a href=\"/Rate/USD/IDR/11-25-2020\">USD IDR rate for 11/25/2020</a></td></tr>,\n",
       " <tr><td>11/24/2020</td><td>Tuesday</td><td><a href=\"/Rate/USD/IDR/11-24-2020\">14,137.48161</a> IDR</td><td class=\"text-narrow-screen-hidden\"><a href=\"/Rate/USD/IDR/11-24-2020\">USD IDR rate for 11/24/2020</a></td></tr>,\n",
       " <tr><td>11/23/2020</td><td>Monday</td><td><a href=\"/Rate/USD/IDR/11-23-2020\">14,185.57119</a> IDR</td><td class=\"text-narrow-screen-hidden\"><a href=\"/Rate/USD/IDR/11-23-2020\">USD IDR rate for 11/23/2020</a></td></tr>,\n",
       " <tr><td>11/20/2020</td><td>Friday</td><td><a href=\"/Rate/USD/IDR/11-20-2020\">14,162.60519</a> IDR</td><td class=\"text-narrow-screen-hidden\"><a href=\"/Rate/USD/IDR/11-20-2020\">USD IDR rate for 11/20/2020</a></td></tr>,\n",
       " <tr><td>11/19/2020</td><td>Thursday</td><td><a href=\"/Rate/USD/IDR/11-19-2020\">14,165.50144</a> IDR</td><td class=\"text-narrow-screen-hidden\"><a href=\"/Rate/USD/IDR/11-19-2020\">USD IDR rate for 11/19/2020</a></td></tr>,\n",
       " <tr><td>11/18/2020</td><td>Wednesday</td><td><a href=\"/Rate/USD/IDR/11-18-2020\">14,051.29503</a> IDR</td><td class=\"text-narrow-screen-hidden\"><a href=\"/Rate/USD/IDR/11-18-2020\">USD IDR rate for 11/18/2020</a></td></tr>,\n",
       " <tr><td>11/17/2020</td><td>Tuesday</td><td><a href=\"/Rate/USD/IDR/11-17-2020\">14,040.16051</a> IDR</td><td class=\"text-narrow-screen-hidden\"><a href=\"/Rate/USD/IDR/11-17-2020\">USD IDR rate for 11/17/2020</a></td></tr>,\n",
       " <tr><td>11/16/2020</td><td>Monday</td><td><a href=\"/Rate/USD/IDR/11-16-2020\">14,085.69501</a> IDR</td><td class=\"text-narrow-screen-hidden\"><a href=\"/Rate/USD/IDR/11-16-2020\">USD IDR rate for 11/16/2020</a></td></tr>,\n",
       " <tr><td>11/13/2020</td><td>Friday</td><td><a href=\"/Rate/USD/IDR/11-13-2020\">14,142.77143</a> IDR</td><td class=\"text-narrow-screen-hidden\"><a href=\"/Rate/USD/IDR/11-13-2020\">USD IDR rate for 11/13/2020</a></td></tr>,\n",
       " <tr><td>11/12/2020</td><td>Thursday</td><td><a href=\"/Rate/USD/IDR/11-12-2020\">14,141.24303</a> IDR</td><td class=\"text-narrow-screen-hidden\"><a href=\"/Rate/USD/IDR/11-12-2020\">USD IDR rate for 11/12/2020</a></td></tr>,\n",
       " <tr><td>11/11/2020</td><td>Wednesday</td><td><a href=\"/Rate/USD/IDR/11-11-2020\">14,073.46024</a> IDR</td><td class=\"text-narrow-screen-hidden\"><a href=\"/Rate/USD/IDR/11-11-2020\">USD IDR rate for 11/11/2020</a></td></tr>,\n",
       " <tr><td>11/10/2020</td><td>Tuesday</td><td><a href=\"/Rate/USD/IDR/11-10-2020\">14,053.76135</a> IDR</td><td class=\"text-narrow-screen-hidden\"><a href=\"/Rate/USD/IDR/11-10-2020\">USD IDR rate for 11/10/2020</a></td></tr>,\n",
       " <tr><td>11/9/2020</td><td>Monday</td><td><a href=\"/Rate/USD/IDR/11-9-2020\">14,283.29667</a> IDR</td><td class=\"text-narrow-screen-hidden\"><a href=\"/Rate/USD/IDR/11-9-2020\">USD IDR rate for 11/9/2020</a></td></tr>,\n",
       " <tr><td>11/6/2020</td><td>Friday</td><td><a href=\"/Rate/USD/IDR/11-6-2020\">14,214.49744</a> IDR</td><td class=\"text-narrow-screen-hidden\"><a href=\"/Rate/USD/IDR/11-6-2020\">USD IDR rate for 11/6/2020</a></td></tr>,\n",
       " <tr><td>11/5/2020</td><td>Thursday</td><td><a href=\"/Rate/USD/IDR/11-5-2020\">14,389.14027</a> IDR</td><td class=\"text-narrow-screen-hidden\"><a href=\"/Rate/USD/IDR/11-5-2020\">USD IDR rate for 11/5/2020</a></td></tr>,\n",
       " <tr><td>11/4/2020</td><td>Wednesday</td><td><a href=\"/Rate/USD/IDR/11-4-2020\">14,544.44634</a> IDR</td><td class=\"text-narrow-screen-hidden\"><a href=\"/Rate/USD/IDR/11-4-2020\">USD IDR rate for 11/4/2020</a></td></tr>,\n",
       " <tr><td>11/3/2020</td><td>Tuesday</td><td><a href=\"/Rate/USD/IDR/11-3-2020\">14,589.01774</a> IDR</td><td class=\"text-narrow-screen-hidden\"><a href=\"/Rate/USD/IDR/11-3-2020\">USD IDR rate for 11/3/2020</a></td></tr>,\n",
       " <tr><td>11/2/2020</td><td>Monday</td><td><a href=\"/Rate/USD/IDR/11-2-2020\">14,612.89990</a> IDR</td><td class=\"text-narrow-screen-hidden\"><a href=\"/Rate/USD/IDR/11-2-2020\">USD IDR rate for 11/2/2020</a></td></tr>,\n",
       " <tr><td>10/30/2020</td><td>Friday</td><td><a href=\"/Rate/USD/IDR/10-30-2020\">14,629.16216</a> IDR</td><td class=\"text-narrow-screen-hidden\"><a href=\"/Rate/USD/IDR/10-30-2020\">USD IDR rate for 10/30/2020</a></td></tr>,\n",
       " <tr><td>10/29/2020</td><td>Thursday</td><td><a href=\"/Rate/USD/IDR/10-29-2020\">14,701.62361</a> IDR</td><td class=\"text-narrow-screen-hidden\"><a href=\"/Rate/USD/IDR/10-29-2020\">USD IDR rate for 10/29/2020</a></td></tr>,\n",
       " <tr><td>10/28/2020</td><td>Wednesday</td><td><a href=\"/Rate/USD/IDR/10-28-2020\">14,701.92586</a> IDR</td><td class=\"text-narrow-screen-hidden\"><a href=\"/Rate/USD/IDR/10-28-2020\">USD IDR rate for 10/28/2020</a></td></tr>,\n",
       " <tr><td>10/27/2020</td><td>Tuesday</td><td><a href=\"/Rate/USD/IDR/10-27-2020\">14,649.78960</a> IDR</td><td class=\"text-narrow-screen-hidden\"><a href=\"/Rate/USD/IDR/10-27-2020\">USD IDR rate for 10/27/2020</a></td></tr>,\n",
       " <tr><td>10/26/2020</td><td>Monday</td><td><a href=\"/Rate/USD/IDR/10-26-2020\">14,652.88010</a> IDR</td><td class=\"text-narrow-screen-hidden\"><a href=\"/Rate/USD/IDR/10-26-2020\">USD IDR rate for 10/26/2020</a></td></tr>,\n",
       " <tr><td>10/23/2020</td><td>Friday</td><td><a href=\"/Rate/USD/IDR/10-23-2020\">14,655.04157</a> IDR</td><td class=\"text-narrow-screen-hidden\"><a href=\"/Rate/USD/IDR/10-23-2020\">USD IDR rate for 10/23/2020</a></td></tr>,\n",
       " <tr><td>10/22/2020</td><td>Thursday</td><td><a href=\"/Rate/USD/IDR/10-22-2020\">14,647.90877</a> IDR</td><td class=\"text-narrow-screen-hidden\"><a href=\"/Rate/USD/IDR/10-22-2020\">USD IDR rate for 10/22/2020</a></td></tr>,\n",
       " <tr><td>10/21/2020</td><td>Wednesday</td><td><a href=\"/Rate/USD/IDR/10-21-2020\">14,641.61060</a> IDR</td><td class=\"text-narrow-screen-hidden\"><a href=\"/Rate/USD/IDR/10-21-2020\">USD IDR rate for 10/21/2020</a></td></tr>,\n",
       " <tr><td>10/20/2020</td><td>Tuesday</td><td><a href=\"/Rate/USD/IDR/10-20-2020\">14,555.88071</a> IDR</td><td class=\"text-narrow-screen-hidden\"><a href=\"/Rate/USD/IDR/10-20-2020\">USD IDR rate for 10/20/2020</a></td></tr>,\n",
       " <tr><td>10/19/2020</td><td>Monday</td><td><a href=\"/Rate/USD/IDR/10-19-2020\">14,705.13256</a> IDR</td><td class=\"text-narrow-screen-hidden\"><a href=\"/Rate/USD/IDR/10-19-2020\">USD IDR rate for 10/19/2020</a></td></tr>,\n",
       " <tr><td>10/16/2020</td><td>Friday</td><td><a href=\"/Rate/USD/IDR/10-16-2020\">14,688.43616</a> IDR</td><td class=\"text-narrow-screen-hidden\"><a href=\"/Rate/USD/IDR/10-16-2020\">USD IDR rate for 10/16/2020</a></td></tr>,\n",
       " <tr><td>10/15/2020</td><td>Thursday</td><td><a href=\"/Rate/USD/IDR/10-15-2020\">14,667.95340</a> IDR</td><td class=\"text-narrow-screen-hidden\"><a href=\"/Rate/USD/IDR/10-15-2020\">USD IDR rate for 10/15/2020</a></td></tr>,\n",
       " <tr><td>10/14/2020</td><td>Wednesday</td><td><a href=\"/Rate/USD/IDR/10-14-2020\">14,696.21912</a> IDR</td><td class=\"text-narrow-screen-hidden\"><a href=\"/Rate/USD/IDR/10-14-2020\">USD IDR rate for 10/14/2020</a></td></tr>,\n",
       " <tr><td>10/13/2020</td><td>Tuesday</td><td><a href=\"/Rate/USD/IDR/10-13-2020\">14,687.35100</a> IDR</td><td class=\"text-narrow-screen-hidden\"><a href=\"/Rate/USD/IDR/10-13-2020\">USD IDR rate for 10/13/2020</a></td></tr>,\n",
       " <tr><td>10/12/2020</td><td>Monday</td><td><a href=\"/Rate/USD/IDR/10-12-2020\">14,677.85296</a> IDR</td><td class=\"text-narrow-screen-hidden\"><a href=\"/Rate/USD/IDR/10-12-2020\">USD IDR rate for 10/12/2020</a></td></tr>,\n",
       " <tr><td>10/9/2020</td><td>Friday</td><td><a href=\"/Rate/USD/IDR/10-9-2020\">14,679.27910</a> IDR</td><td class=\"text-narrow-screen-hidden\"><a href=\"/Rate/USD/IDR/10-9-2020\">USD IDR rate for 10/9/2020</a></td></tr>,\n",
       " <tr><td>10/8/2020</td><td>Thursday</td><td><a href=\"/Rate/USD/IDR/10-8-2020\">14,692.93025</a> IDR</td><td class=\"text-narrow-screen-hidden\"><a href=\"/Rate/USD/IDR/10-8-2020\">USD IDR rate for 10/8/2020</a></td></tr>,\n",
       " <tr><td>10/7/2020</td><td>Wednesday</td><td><a href=\"/Rate/USD/IDR/10-7-2020\">14,705.58246</a> IDR</td><td class=\"text-narrow-screen-hidden\"><a href=\"/Rate/USD/IDR/10-7-2020\">USD IDR rate for 10/7/2020</a></td></tr>,\n",
       " <tr><td>10/6/2020</td><td>Tuesday</td><td><a href=\"/Rate/USD/IDR/10-6-2020\">14,857.67854</a> IDR</td><td class=\"text-narrow-screen-hidden\"><a href=\"/Rate/USD/IDR/10-6-2020\">USD IDR rate for 10/6/2020</a></td></tr>,\n",
       " <tr><td>10/5/2020</td><td>Monday</td><td><a href=\"/Rate/USD/IDR/10-5-2020\">14,797.90178</a> IDR</td><td class=\"text-narrow-screen-hidden\"><a href=\"/Rate/USD/IDR/10-5-2020\">USD IDR rate for 10/5/2020</a></td></tr>,\n",
       " <tr><td>10/2/2020</td><td>Friday</td><td><a href=\"/Rate/USD/IDR/10-2-2020\">14,852.30483</a> IDR</td><td class=\"text-narrow-screen-hidden\"><a href=\"/Rate/USD/IDR/10-2-2020\">USD IDR rate for 10/2/2020</a></td></tr>,\n",
       " <tr><td>10/1/2020</td><td>Thursday</td><td><a href=\"/Rate/USD/IDR/10-1-2020\">14,822.66605</a> IDR</td><td class=\"text-narrow-screen-hidden\"><a href=\"/Rate/USD/IDR/10-1-2020\">USD IDR rate for 10/1/2020</a></td></tr>,\n",
       " <tr><td>9/30/2020</td><td>Wednesday</td><td><a href=\"/Rate/USD/IDR/9-30-2020\">14,867.44686</a> IDR</td><td class=\"text-narrow-screen-hidden\"><a href=\"/Rate/USD/IDR/9-30-2020\">USD IDR rate for 9/30/2020</a></td></tr>,\n",
       " <tr><td>9/29/2020</td><td>Tuesday</td><td><a href=\"/Rate/USD/IDR/9-29-2020\">14,880.93210</a> IDR</td><td class=\"text-narrow-screen-hidden\"><a href=\"/Rate/USD/IDR/9-29-2020\">USD IDR rate for 9/29/2020</a></td></tr>,\n",
       " <tr><td>9/28/2020</td><td>Monday</td><td><a href=\"/Rate/USD/IDR/9-28-2020\">14,892.32194</a> IDR</td><td class=\"text-narrow-screen-hidden\"><a href=\"/Rate/USD/IDR/9-28-2020\">USD IDR rate for 9/28/2020</a></td></tr>,\n",
       " <tr><td>9/27/2020</td><td>Sunday</td><td><a href=\"/Rate/USD/IDR/9-27-2020\">14,859.98349</a> IDR</td><td class=\"text-narrow-screen-hidden\"><a href=\"/Rate/USD/IDR/9-27-2020\">USD IDR rate for 9/27/2020</a></td></tr>,\n",
       " <tr><td>9/25/2020</td><td>Friday</td><td><a href=\"/Rate/USD/IDR/9-25-2020\">14,855.63943</a> IDR</td><td class=\"text-narrow-screen-hidden\"><a href=\"/Rate/USD/IDR/9-25-2020\">USD IDR rate for 9/25/2020</a></td></tr>,\n",
       " <tr><td>9/24/2020</td><td>Thursday</td><td><a href=\"/Rate/USD/IDR/9-24-2020\">14,888.78607</a> IDR</td><td class=\"text-narrow-screen-hidden\"><a href=\"/Rate/USD/IDR/9-24-2020\">USD IDR rate for 9/24/2020</a></td></tr>,\n",
       " <tr><td>9/23/2020</td><td>Wednesday</td><td><a href=\"/Rate/USD/IDR/9-23-2020\">14,825.54899</a> IDR</td><td class=\"text-narrow-screen-hidden\"><a href=\"/Rate/USD/IDR/9-23-2020\">USD IDR rate for 9/23/2020</a></td></tr>]"
      ]
     },
     "execution_count": 7,
     "metadata": {},
     "output_type": "execute_result"
    }
   ],
   "source": [
    "tr = table.find_all('tr', attrs={'class':\"\"})\n",
    "tr"
   ]
  },
  {
   "cell_type": "code",
   "execution_count": 8,
   "metadata": {},
   "outputs": [
    {
     "data": {
      "text/plain": [
       "[('3/19/2021', 'Friday', '14,409.66972 IDR', 'USD IDR rate for 3/19/2021'),\n",
       " ('3/18/2021', 'Thursday', '14,423.29934 IDR', 'USD IDR rate for 3/18/2021'),\n",
       " ('3/17/2021', 'Wednesday', '14,346.28612 IDR', 'USD IDR rate for 3/17/2021'),\n",
       " ('3/16/2021', 'Tuesday', '14,407.76927 IDR', 'USD IDR rate for 3/16/2021'),\n",
       " ('3/15/2021', 'Monday', '14,423.68150 IDR', 'USD IDR rate for 3/15/2021'),\n",
       " ('3/12/2021', 'Friday', '14,393.57497 IDR', 'USD IDR rate for 3/12/2021'),\n",
       " ('3/11/2021', 'Thursday', '14,319.87571 IDR', 'USD IDR rate for 3/11/2021'),\n",
       " ('3/10/2021', 'Wednesday', '14,387.89293 IDR', 'USD IDR rate for 3/10/2021'),\n",
       " ('3/9/2021', 'Tuesday', '14,396.25662 IDR', 'USD IDR rate for 3/9/2021'),\n",
       " ('3/8/2021', 'Monday', '14,374.33106 IDR', 'USD IDR rate for 3/8/2021'),\n",
       " ('3/5/2021', 'Friday', '14,292.17893 IDR', 'USD IDR rate for 3/5/2021'),\n",
       " ('3/4/2021', 'Thursday', '14,261.85426 IDR', 'USD IDR rate for 3/4/2021'),\n",
       " ('3/3/2021', 'Wednesday', '14,257.29443 IDR', 'USD IDR rate for 3/3/2021'),\n",
       " ('3/2/2021', 'Tuesday', '14,256.28041 IDR', 'USD IDR rate for 3/2/2021'),\n",
       " ('3/1/2021', 'Monday', '14,248.60576 IDR', 'USD IDR rate for 3/1/2021'),\n",
       " ('2/26/2021', 'Friday', '14,300.27815 IDR', 'USD IDR rate for 2/26/2021'),\n",
       " ('2/25/2021', 'Thursday', '14,139.73096 IDR', 'USD IDR rate for 2/25/2021'),\n",
       " ('2/24/2021', 'Wednesday', '14,083.03673 IDR', 'USD IDR rate for 2/24/2021'),\n",
       " ('2/23/2021', 'Tuesday', '14,092.64503 IDR', 'USD IDR rate for 2/23/2021'),\n",
       " ('2/22/2021', 'Monday', '14,118.07274 IDR', 'USD IDR rate for 2/22/2021'),\n",
       " ('2/19/2021', 'Friday', '14,066.79375 IDR', 'USD IDR rate for 2/19/2021'),\n",
       " ('2/18/2021', 'Thursday', '14,013.51318 IDR', 'USD IDR rate for 2/18/2021'),\n",
       " ('2/17/2021', 'Wednesday', '14,015.16095 IDR', 'USD IDR rate for 2/17/2021'),\n",
       " ('2/16/2021', 'Tuesday', '13,935.96629 IDR', 'USD IDR rate for 2/16/2021'),\n",
       " ('2/15/2021', 'Monday', '13,918.18725 IDR', 'USD IDR rate for 2/15/2021'),\n",
       " ('2/12/2021', 'Friday', '13,988.54710 IDR', 'USD IDR rate for 2/12/2021'),\n",
       " ('2/11/2021', 'Thursday', '13,982.27900 IDR', 'USD IDR rate for 2/11/2021'),\n",
       " ('2/10/2021', 'Wednesday', '13,994.09212 IDR', 'USD IDR rate for 2/10/2021'),\n",
       " ('2/9/2021', 'Tuesday', '13,920.52018 IDR', 'USD IDR rate for 2/9/2021'),\n",
       " ('2/8/2021', 'Monday', '14,007.25257 IDR', 'USD IDR rate for 2/8/2021'),\n",
       " ('2/5/2021', 'Friday', '14,008.99630 IDR', 'USD IDR rate for 2/5/2021'),\n",
       " ('2/4/2021', 'Thursday', '14,020.87878 IDR', 'USD IDR rate for 2/4/2021'),\n",
       " ('2/3/2021', 'Wednesday', '13,997.60682 IDR', 'USD IDR rate for 2/3/2021'),\n",
       " ('2/2/2021', 'Tuesday', '14,004.60175 IDR', 'USD IDR rate for 2/2/2021'),\n",
       " ('2/1/2021', 'Monday', '14,025.27450 IDR', 'USD IDR rate for 2/1/2021'),\n",
       " ('1/29/2021', 'Friday', '14,027.32457 IDR', 'USD IDR rate for 1/29/2021'),\n",
       " ('1/28/2021', 'Thursday', '14,048.06146 IDR', 'USD IDR rate for 1/28/2021'),\n",
       " ('1/27/2021', 'Wednesday', '14,048.72649 IDR', 'USD IDR rate for 1/27/2021'),\n",
       " ('1/26/2021', 'Tuesday', '14,062.91108 IDR', 'USD IDR rate for 1/26/2021'),\n",
       " ('1/25/2021', 'Monday', '14,021.11609 IDR', 'USD IDR rate for 1/25/2021'),\n",
       " ('1/22/2021', 'Friday', '14,025.60268 IDR', 'USD IDR rate for 1/22/2021'),\n",
       " ('1/21/2021', 'Thursday', '13,964.91920 IDR', 'USD IDR rate for 1/21/2021'),\n",
       " ('1/20/2021', 'Wednesday', '14,021.43046 IDR', 'USD IDR rate for 1/20/2021'),\n",
       " ('1/19/2021', 'Tuesday', '14,063.60877 IDR', 'USD IDR rate for 1/19/2021'),\n",
       " ('1/18/2021', 'Monday', '14,055.43768 IDR', 'USD IDR rate for 1/18/2021'),\n",
       " ('1/15/2021', 'Friday', '14,153.46654 IDR', 'USD IDR rate for 1/15/2021'),\n",
       " ('1/14/2021', 'Thursday', '14,070.58746 IDR', 'USD IDR rate for 1/14/2021'),\n",
       " ('1/13/2021', 'Wednesday', '14,125.90174 IDR', 'USD IDR rate for 1/13/2021'),\n",
       " ('1/12/2021', 'Tuesday', '14,074.81444 IDR', 'USD IDR rate for 1/12/2021'),\n",
       " ('1/11/2021', 'Monday', '14,137.24151 IDR', 'USD IDR rate for 1/11/2021'),\n",
       " ('1/8/2021', 'Friday', '13,991.16348 IDR', 'USD IDR rate for 1/8/2021'),\n",
       " ('1/7/2021', 'Thursday', '13,905.64377 IDR', 'USD IDR rate for 1/7/2021'),\n",
       " ('1/6/2021', 'Wednesday', '13,861.51463 IDR', 'USD IDR rate for 1/6/2021'),\n",
       " ('1/5/2021', 'Tuesday', '13,906.05686 IDR', 'USD IDR rate for 1/5/2021'),\n",
       " ('1/4/2021', 'Monday', '14,015.86887 IDR', 'USD IDR rate for 1/4/2021'),\n",
       " ('1/1/2021', 'Friday', '14,213.67526 IDR', 'USD IDR rate for 1/1/2021'),\n",
       " ('12/31/2020', 'Thursday', '14,120.57461 IDR', 'USD IDR rate for 12/31/2020'),\n",
       " ('12/30/2020',\n",
       "  'Wednesday',\n",
       "  '14,020.01350 IDR',\n",
       "  'USD IDR rate for 12/30/2020'),\n",
       " ('12/29/2020', 'Tuesday', '14,108.18177 IDR', 'USD IDR rate for 12/29/2020'),\n",
       " ('12/28/2020', 'Monday', '14,139.81753 IDR', 'USD IDR rate for 12/28/2020'),\n",
       " ('12/25/2020', 'Friday', '14,211.65343 IDR', 'USD IDR rate for 12/25/2020'),\n",
       " ('12/24/2020', 'Thursday', '14,188.41293 IDR', 'USD IDR rate for 12/24/2020'),\n",
       " ('12/23/2020',\n",
       "  'Wednesday',\n",
       "  '14,183.64082 IDR',\n",
       "  'USD IDR rate for 12/23/2020'),\n",
       " ('12/22/2020', 'Tuesday', '14,164.98134 IDR', 'USD IDR rate for 12/22/2020'),\n",
       " ('12/21/2020', 'Monday', '14,124.20148 IDR', 'USD IDR rate for 12/21/2020'),\n",
       " ('12/18/2020', 'Friday', '14,101.05758 IDR', 'USD IDR rate for 12/18/2020'),\n",
       " ('12/17/2020', 'Thursday', '14,101.72807 IDR', 'USD IDR rate for 12/17/2020'),\n",
       " ('12/16/2020',\n",
       "  'Wednesday',\n",
       "  '14,084.50704 IDR',\n",
       "  'USD IDR rate for 12/16/2020'),\n",
       " ('12/15/2020', 'Tuesday', '14,124.19150 IDR', 'USD IDR rate for 12/15/2020'),\n",
       " ('12/14/2020', 'Monday', '14,087.17417 IDR', 'USD IDR rate for 12/14/2020'),\n",
       " ('12/11/2020', 'Friday', '14,076.36739 IDR', 'USD IDR rate for 12/11/2020'),\n",
       " ('12/10/2020', 'Thursday', '14,103.70444 IDR', 'USD IDR rate for 12/10/2020'),\n",
       " ('12/9/2020', 'Wednesday', '14,096.39851 IDR', 'USD IDR rate for 12/9/2020'),\n",
       " ('12/8/2020', 'Tuesday', '14,105.04229 IDR', 'USD IDR rate for 12/8/2020'),\n",
       " ('12/7/2020', 'Monday', '14,103.58039 IDR', 'USD IDR rate for 12/7/2020'),\n",
       " ('12/4/2020', 'Friday', '14,092.75807 IDR', 'USD IDR rate for 12/4/2020'),\n",
       " ('12/3/2020', 'Thursday', '14,109.15139 IDR', 'USD IDR rate for 12/3/2020'),\n",
       " ('12/2/2020', 'Wednesday', '14,094.65785 IDR', 'USD IDR rate for 12/2/2020'),\n",
       " ('12/1/2020', 'Tuesday', '14,118.51435 IDR', 'USD IDR rate for 12/1/2020'),\n",
       " ('11/30/2020', 'Monday', '14,114.11663 IDR', 'USD IDR rate for 11/30/2020'),\n",
       " ('11/27/2020', 'Friday', '14,078.12448 IDR', 'USD IDR rate for 11/27/2020'),\n",
       " ('11/26/2020', 'Thursday', '14,090.70769 IDR', 'USD IDR rate for 11/26/2020'),\n",
       " ('11/25/2020',\n",
       "  'Wednesday',\n",
       "  '14,136.09929 IDR',\n",
       "  'USD IDR rate for 11/25/2020'),\n",
       " ('11/24/2020', 'Tuesday', '14,137.48161 IDR', 'USD IDR rate for 11/24/2020'),\n",
       " ('11/23/2020', 'Monday', '14,185.57119 IDR', 'USD IDR rate for 11/23/2020'),\n",
       " ('11/20/2020', 'Friday', '14,162.60519 IDR', 'USD IDR rate for 11/20/2020'),\n",
       " ('11/19/2020', 'Thursday', '14,165.50144 IDR', 'USD IDR rate for 11/19/2020'),\n",
       " ('11/18/2020',\n",
       "  'Wednesday',\n",
       "  '14,051.29503 IDR',\n",
       "  'USD IDR rate for 11/18/2020'),\n",
       " ('11/17/2020', 'Tuesday', '14,040.16051 IDR', 'USD IDR rate for 11/17/2020'),\n",
       " ('11/16/2020', 'Monday', '14,085.69501 IDR', 'USD IDR rate for 11/16/2020'),\n",
       " ('11/13/2020', 'Friday', '14,142.77143 IDR', 'USD IDR rate for 11/13/2020'),\n",
       " ('11/12/2020', 'Thursday', '14,141.24303 IDR', 'USD IDR rate for 11/12/2020'),\n",
       " ('11/11/2020',\n",
       "  'Wednesday',\n",
       "  '14,073.46024 IDR',\n",
       "  'USD IDR rate for 11/11/2020'),\n",
       " ('11/10/2020', 'Tuesday', '14,053.76135 IDR', 'USD IDR rate for 11/10/2020'),\n",
       " ('11/9/2020', 'Monday', '14,283.29667 IDR', 'USD IDR rate for 11/9/2020'),\n",
       " ('11/6/2020', 'Friday', '14,214.49744 IDR', 'USD IDR rate for 11/6/2020'),\n",
       " ('11/5/2020', 'Thursday', '14,389.14027 IDR', 'USD IDR rate for 11/5/2020'),\n",
       " ('11/4/2020', 'Wednesday', '14,544.44634 IDR', 'USD IDR rate for 11/4/2020'),\n",
       " ('11/3/2020', 'Tuesday', '14,589.01774 IDR', 'USD IDR rate for 11/3/2020'),\n",
       " ('11/2/2020', 'Monday', '14,612.89990 IDR', 'USD IDR rate for 11/2/2020'),\n",
       " ('10/30/2020', 'Friday', '14,629.16216 IDR', 'USD IDR rate for 10/30/2020'),\n",
       " ('10/29/2020', 'Thursday', '14,701.62361 IDR', 'USD IDR rate for 10/29/2020'),\n",
       " ('10/28/2020',\n",
       "  'Wednesday',\n",
       "  '14,701.92586 IDR',\n",
       "  'USD IDR rate for 10/28/2020'),\n",
       " ('10/27/2020', 'Tuesday', '14,649.78960 IDR', 'USD IDR rate for 10/27/2020'),\n",
       " ('10/26/2020', 'Monday', '14,652.88010 IDR', 'USD IDR rate for 10/26/2020'),\n",
       " ('10/23/2020', 'Friday', '14,655.04157 IDR', 'USD IDR rate for 10/23/2020'),\n",
       " ('10/22/2020', 'Thursday', '14,647.90877 IDR', 'USD IDR rate for 10/22/2020'),\n",
       " ('10/21/2020',\n",
       "  'Wednesday',\n",
       "  '14,641.61060 IDR',\n",
       "  'USD IDR rate for 10/21/2020'),\n",
       " ('10/20/2020', 'Tuesday', '14,555.88071 IDR', 'USD IDR rate for 10/20/2020'),\n",
       " ('10/19/2020', 'Monday', '14,705.13256 IDR', 'USD IDR rate for 10/19/2020'),\n",
       " ('10/16/2020', 'Friday', '14,688.43616 IDR', 'USD IDR rate for 10/16/2020'),\n",
       " ('10/15/2020', 'Thursday', '14,667.95340 IDR', 'USD IDR rate for 10/15/2020'),\n",
       " ('10/14/2020',\n",
       "  'Wednesday',\n",
       "  '14,696.21912 IDR',\n",
       "  'USD IDR rate for 10/14/2020'),\n",
       " ('10/13/2020', 'Tuesday', '14,687.35100 IDR', 'USD IDR rate for 10/13/2020'),\n",
       " ('10/12/2020', 'Monday', '14,677.85296 IDR', 'USD IDR rate for 10/12/2020'),\n",
       " ('10/9/2020', 'Friday', '14,679.27910 IDR', 'USD IDR rate for 10/9/2020'),\n",
       " ('10/8/2020', 'Thursday', '14,692.93025 IDR', 'USD IDR rate for 10/8/2020'),\n",
       " ('10/7/2020', 'Wednesday', '14,705.58246 IDR', 'USD IDR rate for 10/7/2020'),\n",
       " ('10/6/2020', 'Tuesday', '14,857.67854 IDR', 'USD IDR rate for 10/6/2020'),\n",
       " ('10/5/2020', 'Monday', '14,797.90178 IDR', 'USD IDR rate for 10/5/2020'),\n",
       " ('10/2/2020', 'Friday', '14,852.30483 IDR', 'USD IDR rate for 10/2/2020'),\n",
       " ('10/1/2020', 'Thursday', '14,822.66605 IDR', 'USD IDR rate for 10/1/2020'),\n",
       " ('9/30/2020', 'Wednesday', '14,867.44686 IDR', 'USD IDR rate for 9/30/2020'),\n",
       " ('9/29/2020', 'Tuesday', '14,880.93210 IDR', 'USD IDR rate for 9/29/2020'),\n",
       " ('9/28/2020', 'Monday', '14,892.32194 IDR', 'USD IDR rate for 9/28/2020'),\n",
       " ('9/27/2020', 'Sunday', '14,859.98349 IDR', 'USD IDR rate for 9/27/2020'),\n",
       " ('9/25/2020', 'Friday', '14,855.63943 IDR', 'USD IDR rate for 9/25/2020'),\n",
       " ('9/24/2020', 'Thursday', '14,888.78607 IDR', 'USD IDR rate for 9/24/2020'),\n",
       " ('9/23/2020', 'Wednesday', '14,825.54899 IDR', 'USD IDR rate for 9/23/2020')]"
      ]
     },
     "execution_count": 8,
     "metadata": {},
     "output_type": "execute_result"
    }
   ],
   "source": [
    "temp = [] #initiating a tuple\n",
    "\n",
    "for i in range(1, len(tr)):\n",
    "    row = table.find_all('tr',attrs={'class':\"\"})[i]\n",
    "    \n",
    "    #get tanggal\n",
    "    date = row.find_all('td')[0].text\n",
    "    date = date.strip()\n",
    "    \n",
    "    #get hari\n",
    "    day = row.find_all('td')[1].text\n",
    "    day = day.strip()\n",
    "    \n",
    "    #get nilai uang\n",
    "    value = row.find_all('td')[2].text\n",
    "    value = value.strip()\n",
    "    \n",
    "    #get tulisan\n",
    "    note = row.find_all('td')[3].text\n",
    "    note = note.strip()\n",
    "    \n",
    "    temp.append((date, day, value, note))\n",
    "    \n",
    "temp"
   ]
  },
  {
   "cell_type": "code",
   "execution_count": null,
   "metadata": {},
   "outputs": [],
   "source": []
  },
  {
   "cell_type": "markdown",
   "metadata": {},
   "source": [
    "## Creating data frame & Data wrangling"
   ]
  },
  {
   "cell_type": "markdown",
   "metadata": {},
   "source": [
    "Put the array into dataframe"
   ]
  },
  {
   "cell_type": "code",
   "execution_count": 36,
   "metadata": {
    "ExecuteTime": {
     "end_time": "2020-01-13T05:12:41.517372Z",
     "start_time": "2020-01-13T05:12:29.130015Z"
    }
   },
   "outputs": [
    {
     "data": {
      "text/plain": [
       "Date    datetime64[ns]\n",
       "Day             object\n",
       "IDR            float64\n",
       "Note            object\n",
       "dtype: object"
      ]
     },
     "execution_count": 36,
     "metadata": {},
     "output_type": "execute_result"
    }
   ],
   "source": [
    "import pandas as pd\n",
    "\n",
    "df = pd.DataFrame(temp, columns=('Date','Day','IDR','Note'))\n",
    "df['IDR'] = df['IDR'].replace('IDR','',regex=True).replace(',',\"\",regex=True)\n",
    "df['IDR'] = df['IDR'].astype('float64')\n",
    "df['Date'] = df['Date'].astype('datetime64')\n",
    "df.dtypes"
   ]
  },
  {
   "cell_type": "markdown",
   "metadata": {},
   "source": [
    "Do the data cleaning here (please change this markdown with your explanation of what you do for data wrangling)"
   ]
  },
  {
   "cell_type": "code",
   "execution_count": 33,
   "metadata": {
    "ExecuteTime": {
     "end_time": "2020-01-13T05:12:59.165559Z",
     "start_time": "2020-01-13T05:12:58.910012Z"
    }
   },
   "outputs": [
    {
     "data": {
      "text/html": [
       "<div>\n",
       "<style scoped>\n",
       "    .dataframe tbody tr th:only-of-type {\n",
       "        vertical-align: middle;\n",
       "    }\n",
       "\n",
       "    .dataframe tbody tr th {\n",
       "        vertical-align: top;\n",
       "    }\n",
       "\n",
       "    .dataframe thead th {\n",
       "        text-align: right;\n",
       "    }\n",
       "</style>\n",
       "<table border=\"1\" class=\"dataframe\">\n",
       "  <thead>\n",
       "    <tr style=\"text-align: right;\">\n",
       "      <th></th>\n",
       "      <th>IDR</th>\n",
       "    </tr>\n",
       "    <tr>\n",
       "      <th>Date</th>\n",
       "      <th></th>\n",
       "    </tr>\n",
       "  </thead>\n",
       "  <tbody>\n",
       "    <tr>\n",
       "      <th>2021-03-19</th>\n",
       "      <td>14409.66972</td>\n",
       "    </tr>\n",
       "    <tr>\n",
       "      <th>2021-03-18</th>\n",
       "      <td>14423.29934</td>\n",
       "    </tr>\n",
       "    <tr>\n",
       "      <th>2021-03-17</th>\n",
       "      <td>14346.28612</td>\n",
       "    </tr>\n",
       "    <tr>\n",
       "      <th>2021-03-16</th>\n",
       "      <td>14407.76927</td>\n",
       "    </tr>\n",
       "    <tr>\n",
       "      <th>2021-03-15</th>\n",
       "      <td>14423.68150</td>\n",
       "    </tr>\n",
       "    <tr>\n",
       "      <th>...</th>\n",
       "      <td>...</td>\n",
       "    </tr>\n",
       "    <tr>\n",
       "      <th>2020-09-28</th>\n",
       "      <td>14892.32194</td>\n",
       "    </tr>\n",
       "    <tr>\n",
       "      <th>2020-09-27</th>\n",
       "      <td>14859.98349</td>\n",
       "    </tr>\n",
       "    <tr>\n",
       "      <th>2020-09-25</th>\n",
       "      <td>14855.63943</td>\n",
       "    </tr>\n",
       "    <tr>\n",
       "      <th>2020-09-24</th>\n",
       "      <td>14888.78607</td>\n",
       "    </tr>\n",
       "    <tr>\n",
       "      <th>2020-09-23</th>\n",
       "      <td>14825.54899</td>\n",
       "    </tr>\n",
       "  </tbody>\n",
       "</table>\n",
       "<p>129 rows × 1 columns</p>\n",
       "</div>"
      ],
      "text/plain": [
       "                    IDR\n",
       "Date                   \n",
       "2021-03-19  14409.66972\n",
       "2021-03-18  14423.29934\n",
       "2021-03-17  14346.28612\n",
       "2021-03-16  14407.76927\n",
       "2021-03-15  14423.68150\n",
       "...                 ...\n",
       "2020-09-28  14892.32194\n",
       "2020-09-27  14859.98349\n",
       "2020-09-25  14855.63943\n",
       "2020-09-24  14888.78607\n",
       "2020-09-23  14825.54899\n",
       "\n",
       "[129 rows x 1 columns]"
      ]
     },
     "execution_count": 33,
     "metadata": {},
     "output_type": "execute_result"
    }
   ],
   "source": [
    "Exchanges = df[['IDR']].set_index(df.Date).sort_values(by='Date', ascending=False)\n",
    "Exchanges"
   ]
  },
  {
   "cell_type": "markdown",
   "metadata": {},
   "source": [
    "### Implementing your webscrapping to the flask dashboard\n",
    "\n",
    "- Copy paste all of your web scrapping process to the desired position on the `app.py`\n",
    "- Changing the title of the dasboard at `index.html`"
   ]
  },
  {
   "cell_type": "markdown",
   "metadata": {},
   "source": [
    "## Finishing This Notebook with Your Analysis and Conclusion\n",
    "\n",
    "First you can do start with making the data visualisation. "
   ]
  },
  {
   "cell_type": "code",
   "execution_count": 11,
   "metadata": {
    "ExecuteTime": {
     "end_time": "2020-01-13T05:20:56.208237Z",
     "start_time": "2020-01-13T05:20:56.076043Z"
    }
   },
   "outputs": [
    {
     "data": {
      "text/plain": [
       "Text(0, 0.5, 'IDR')"
      ]
     },
     "execution_count": 11,
     "metadata": {},
     "output_type": "execute_result"
    },
    {
     "data": {
      "image/png": "[encoded data removed]",
      "text/plain": [
       "<Figure size 720x360 with 1 Axes>"
      ]
     },
     "metadata": {
      "needs_background": "light"
     },
     "output_type": "display_data"
    }
   ],
   "source": [
    "Exchanges.plot(title='Indonesian Rupiahs (IDR) per US Dollar (USD)',figsize=(10,5)).set_ylabel('IDR')"
   ]
  },
  {
   "cell_type": "markdown",
   "metadata": {},
   "source": [
    "\n",
    "(Put your analysis and conclusion here.)"
   ]
  },
  {
   "cell_type": "markdown",
   "metadata": {},
   "source": [
    "### Extra Challange\n",
    "\n",
    "This will be not included to the scoring. \n",
    "\n",
    "- You can create additional analysis from the data.\n",
    "- Implement it to the dashboard with at `app.py` dan `index.html`."
   ]
  },
  {
   "cell_type": "code",
   "execution_count": 12,
   "metadata": {},
   "outputs": [
    {
     "name": "stdout",
     "output_type": "stream",
     "text": [
      "<class 'pandas.core.frame.DataFrame'>\n",
      "Index: 129 entries, 9/30/2020 to 1/1/2021\n",
      "Data columns (total 1 columns):\n",
      " #   Column  Non-Null Count  Dtype  \n",
      "---  ------  --------------  -----  \n",
      " 0   IDR     129 non-null    float64\n",
      "dtypes: float64(1)\n",
      "memory usage: 2.0+ KB\n"
     ]
    }
   ],
   "source": [
    "Exchanges.info()"
   ]
  },
  {
   "cell_type": "code",
   "execution_count": 13,
   "metadata": {},
   "outputs": [],
   "source": [
    "Exchanges_Reset_index =Exchanges.reset_index()"
   ]
  },
  {
   "cell_type": "code",
   "execution_count": 14,
   "metadata": {},
   "outputs": [],
   "source": [
    "Exchanges_Reset_index['Date'] = Exchanges_Reset_index['Date'].astype('datetime64')"
   ]
  },
  {
   "cell_type": "code",
   "execution_count": 15,
   "metadata": {},
   "outputs": [
    {
     "data": {
      "text/plain": [
       "0     2020-09-30\n",
       "1     2020-09-29\n",
       "2     2020-09-28\n",
       "3     2020-09-27\n",
       "4     2020-09-25\n",
       "         ...    \n",
       "124   2021-01-14\n",
       "125   2021-01-13\n",
       "126   2021-01-12\n",
       "127   2021-01-11\n",
       "128   2021-01-01\n",
       "Name: Date, Length: 129, dtype: datetime64[ns]"
      ]
     },
     "execution_count": 15,
     "metadata": {},
     "output_type": "execute_result"
    }
   ],
   "source": [
    "pd.to_datetime(Exchanges_Reset_index['Date'], dayfirst =True)"
   ]
  },
  {
   "cell_type": "code",
   "execution_count": 16,
   "metadata": {},
   "outputs": [],
   "source": [
    "Exchanges_Reset_index['Day'] = Exchanges_Reset_index['Date'].dt.day_name()"
   ]
  },
  {
   "cell_type": "code",
   "execution_count": 17,
   "metadata": {},
   "outputs": [
    {
     "data": {
      "text/html": [
       "<div>\n",
       "<style scoped>\n",
       "    .dataframe tbody tr th:only-of-type {\n",
       "        vertical-align: middle;\n",
       "    }\n",
       "\n",
       "    .dataframe tbody tr th {\n",
       "        vertical-align: top;\n",
       "    }\n",
       "\n",
       "    .dataframe thead th {\n",
       "        text-align: right;\n",
       "    }\n",
       "</style>\n",
       "<table border=\"1\" class=\"dataframe\">\n",
       "  <thead>\n",
       "    <tr style=\"text-align: right;\">\n",
       "      <th></th>\n",
       "      <th>Date</th>\n",
       "      <th>IDR</th>\n",
       "      <th>Day</th>\n",
       "    </tr>\n",
       "  </thead>\n",
       "  <tbody>\n",
       "    <tr>\n",
       "      <th>0</th>\n",
       "      <td>2020-09-30</td>\n",
       "      <td>14867.44686</td>\n",
       "      <td>Wednesday</td>\n",
       "    </tr>\n",
       "    <tr>\n",
       "      <th>1</th>\n",
       "      <td>2020-09-29</td>\n",
       "      <td>14880.93210</td>\n",
       "      <td>Tuesday</td>\n",
       "    </tr>\n",
       "    <tr>\n",
       "      <th>2</th>\n",
       "      <td>2020-09-28</td>\n",
       "      <td>14892.32194</td>\n",
       "      <td>Monday</td>\n",
       "    </tr>\n",
       "    <tr>\n",
       "      <th>3</th>\n",
       "      <td>2020-09-27</td>\n",
       "      <td>14859.98349</td>\n",
       "      <td>Sunday</td>\n",
       "    </tr>\n",
       "    <tr>\n",
       "      <th>4</th>\n",
       "      <td>2020-09-25</td>\n",
       "      <td>14855.63943</td>\n",
       "      <td>Friday</td>\n",
       "    </tr>\n",
       "    <tr>\n",
       "      <th>...</th>\n",
       "      <td>...</td>\n",
       "      <td>...</td>\n",
       "      <td>...</td>\n",
       "    </tr>\n",
       "    <tr>\n",
       "      <th>124</th>\n",
       "      <td>2021-01-14</td>\n",
       "      <td>14070.58746</td>\n",
       "      <td>Thursday</td>\n",
       "    </tr>\n",
       "    <tr>\n",
       "      <th>125</th>\n",
       "      <td>2021-01-13</td>\n",
       "      <td>14125.90174</td>\n",
       "      <td>Wednesday</td>\n",
       "    </tr>\n",
       "    <tr>\n",
       "      <th>126</th>\n",
       "      <td>2021-01-12</td>\n",
       "      <td>14074.81444</td>\n",
       "      <td>Tuesday</td>\n",
       "    </tr>\n",
       "    <tr>\n",
       "      <th>127</th>\n",
       "      <td>2021-01-11</td>\n",
       "      <td>14137.24151</td>\n",
       "      <td>Monday</td>\n",
       "    </tr>\n",
       "    <tr>\n",
       "      <th>128</th>\n",
       "      <td>2021-01-01</td>\n",
       "      <td>14213.67526</td>\n",
       "      <td>Friday</td>\n",
       "    </tr>\n",
       "  </tbody>\n",
       "</table>\n",
       "<p>129 rows × 3 columns</p>\n",
       "</div>"
      ],
      "text/plain": [
       "          Date          IDR        Day\n",
       "0   2020-09-30  14867.44686  Wednesday\n",
       "1   2020-09-29  14880.93210    Tuesday\n",
       "2   2020-09-28  14892.32194     Monday\n",
       "3   2020-09-27  14859.98349     Sunday\n",
       "4   2020-09-25  14855.63943     Friday\n",
       "..         ...          ...        ...\n",
       "124 2021-01-14  14070.58746   Thursday\n",
       "125 2021-01-13  14125.90174  Wednesday\n",
       "126 2021-01-12  14074.81444    Tuesday\n",
       "127 2021-01-11  14137.24151     Monday\n",
       "128 2021-01-01  14213.67526     Friday\n",
       "\n",
       "[129 rows x 3 columns]"
      ]
     },
     "execution_count": 17,
     "metadata": {},
     "output_type": "execute_result"
    }
   ],
   "source": [
    "Exchanges_Reset_index"
   ]
  },
  {
   "cell_type": "code",
   "execution_count": 18,
   "metadata": {},
   "outputs": [
    {
     "data": {
      "text/html": [
       "<div>\n",
       "<style scoped>\n",
       "    .dataframe tbody tr th:only-of-type {\n",
       "        vertical-align: middle;\n",
       "    }\n",
       "\n",
       "    .dataframe tbody tr th {\n",
       "        vertical-align: top;\n",
       "    }\n",
       "\n",
       "    .dataframe thead th {\n",
       "        text-align: right;\n",
       "    }\n",
       "</style>\n",
       "<table border=\"1\" class=\"dataframe\">\n",
       "  <thead>\n",
       "    <tr style=\"text-align: right;\">\n",
       "      <th></th>\n",
       "      <th>IDR</th>\n",
       "    </tr>\n",
       "    <tr>\n",
       "      <th>Day</th>\n",
       "      <th></th>\n",
       "    </tr>\n",
       "  </thead>\n",
       "  <tbody>\n",
       "    <tr>\n",
       "      <th>Friday</th>\n",
       "      <td>14281.191143</td>\n",
       "    </tr>\n",
       "    <tr>\n",
       "      <th>Monday</th>\n",
       "      <td>14272.300474</td>\n",
       "    </tr>\n",
       "    <tr>\n",
       "      <th>Sunday</th>\n",
       "      <td>14859.983490</td>\n",
       "    </tr>\n",
       "    <tr>\n",
       "      <th>Thursday</th>\n",
       "      <td>14268.564428</td>\n",
       "    </tr>\n",
       "    <tr>\n",
       "      <th>Tuesday</th>\n",
       "      <td>14247.775804</td>\n",
       "    </tr>\n",
       "    <tr>\n",
       "      <th>Wednesday</th>\n",
       "      <td>14263.915228</td>\n",
       "    </tr>\n",
       "  </tbody>\n",
       "</table>\n",
       "</div>"
      ],
      "text/plain": [
       "                    IDR\n",
       "Day                    \n",
       "Friday     14281.191143\n",
       "Monday     14272.300474\n",
       "Sunday     14859.983490\n",
       "Thursday   14268.564428\n",
       "Tuesday    14247.775804\n",
       "Wednesday  14263.915228"
      ]
     },
     "execution_count": 18,
     "metadata": {},
     "output_type": "execute_result"
    }
   ],
   "source": [
    "Exchanges_Reset_index.groupby('Day').agg({'IDR':'mean'})"
   ]
  },
  {
   "cell_type": "code",
   "execution_count": 19,
   "metadata": {},
   "outputs": [
    {
     "data": {
      "text/html": [
       "<div>\n",
       "<style scoped>\n",
       "    .dataframe tbody tr th:only-of-type {\n",
       "        vertical-align: middle;\n",
       "    }\n",
       "\n",
       "    .dataframe tbody tr th {\n",
       "        vertical-align: top;\n",
       "    }\n",
       "\n",
       "    .dataframe thead th {\n",
       "        text-align: right;\n",
       "    }\n",
       "</style>\n",
       "<table border=\"1\" class=\"dataframe\">\n",
       "  <thead>\n",
       "    <tr style=\"text-align: right;\">\n",
       "      <th></th>\n",
       "      <th>Date</th>\n",
       "      <th>IDR</th>\n",
       "      <th>Day</th>\n",
       "      <th>Week</th>\n",
       "    </tr>\n",
       "  </thead>\n",
       "  <tbody>\n",
       "    <tr>\n",
       "      <th>0</th>\n",
       "      <td>2020-09-30</td>\n",
       "      <td>14867.44686</td>\n",
       "      <td>Wednesday</td>\n",
       "      <td>2020-09</td>\n",
       "    </tr>\n",
       "    <tr>\n",
       "      <th>1</th>\n",
       "      <td>2020-09-29</td>\n",
       "      <td>14880.93210</td>\n",
       "      <td>Tuesday</td>\n",
       "      <td>2020-09</td>\n",
       "    </tr>\n",
       "    <tr>\n",
       "      <th>2</th>\n",
       "      <td>2020-09-28</td>\n",
       "      <td>14892.32194</td>\n",
       "      <td>Monday</td>\n",
       "      <td>2020-09</td>\n",
       "    </tr>\n",
       "    <tr>\n",
       "      <th>3</th>\n",
       "      <td>2020-09-27</td>\n",
       "      <td>14859.98349</td>\n",
       "      <td>Sunday</td>\n",
       "      <td>2020-09</td>\n",
       "    </tr>\n",
       "    <tr>\n",
       "      <th>4</th>\n",
       "      <td>2020-09-25</td>\n",
       "      <td>14855.63943</td>\n",
       "      <td>Friday</td>\n",
       "      <td>2020-09</td>\n",
       "    </tr>\n",
       "    <tr>\n",
       "      <th>...</th>\n",
       "      <td>...</td>\n",
       "      <td>...</td>\n",
       "      <td>...</td>\n",
       "      <td>...</td>\n",
       "    </tr>\n",
       "    <tr>\n",
       "      <th>124</th>\n",
       "      <td>2021-01-14</td>\n",
       "      <td>14070.58746</td>\n",
       "      <td>Thursday</td>\n",
       "      <td>2021-01</td>\n",
       "    </tr>\n",
       "    <tr>\n",
       "      <th>125</th>\n",
       "      <td>2021-01-13</td>\n",
       "      <td>14125.90174</td>\n",
       "      <td>Wednesday</td>\n",
       "      <td>2021-01</td>\n",
       "    </tr>\n",
       "    <tr>\n",
       "      <th>126</th>\n",
       "      <td>2021-01-12</td>\n",
       "      <td>14074.81444</td>\n",
       "      <td>Tuesday</td>\n",
       "      <td>2021-01</td>\n",
       "    </tr>\n",
       "    <tr>\n",
       "      <th>127</th>\n",
       "      <td>2021-01-11</td>\n",
       "      <td>14137.24151</td>\n",
       "      <td>Monday</td>\n",
       "      <td>2021-01</td>\n",
       "    </tr>\n",
       "    <tr>\n",
       "      <th>128</th>\n",
       "      <td>2021-01-01</td>\n",
       "      <td>14213.67526</td>\n",
       "      <td>Friday</td>\n",
       "      <td>2021-01</td>\n",
       "    </tr>\n",
       "  </tbody>\n",
       "</table>\n",
       "<p>129 rows × 4 columns</p>\n",
       "</div>"
      ],
      "text/plain": [
       "          Date          IDR        Day     Week\n",
       "0   2020-09-30  14867.44686  Wednesday  2020-09\n",
       "1   2020-09-29  14880.93210    Tuesday  2020-09\n",
       "2   2020-09-28  14892.32194     Monday  2020-09\n",
       "3   2020-09-27  14859.98349     Sunday  2020-09\n",
       "4   2020-09-25  14855.63943     Friday  2020-09\n",
       "..         ...          ...        ...      ...\n",
       "124 2021-01-14  14070.58746   Thursday  2021-01\n",
       "125 2021-01-13  14125.90174  Wednesday  2021-01\n",
       "126 2021-01-12  14074.81444    Tuesday  2021-01\n",
       "127 2021-01-11  14137.24151     Monday  2021-01\n",
       "128 2021-01-01  14213.67526     Friday  2021-01\n",
       "\n",
       "[129 rows x 4 columns]"
      ]
     },
     "execution_count": 19,
     "metadata": {},
     "output_type": "execute_result"
    }
   ],
   "source": [
    "Exchanges_Reset_index['Week'] =Exchanges_Reset_index['Date'].dt.to_period('M')\n",
    "Exchanges_Reset_index"
   ]
  },
  {
   "cell_type": "code",
   "execution_count": 20,
   "metadata": {},
   "outputs": [
    {
     "data": {
      "text/html": [
       "<div>\n",
       "<style scoped>\n",
       "    .dataframe tbody tr th:only-of-type {\n",
       "        vertical-align: middle;\n",
       "    }\n",
       "\n",
       "    .dataframe tbody tr th {\n",
       "        vertical-align: top;\n",
       "    }\n",
       "\n",
       "    .dataframe thead th {\n",
       "        text-align: right;\n",
       "    }\n",
       "</style>\n",
       "<table border=\"1\" class=\"dataframe\">\n",
       "  <thead>\n",
       "    <tr style=\"text-align: right;\">\n",
       "      <th>Week</th>\n",
       "      <th>2020-09</th>\n",
       "      <th>2020-10</th>\n",
       "      <th>2020-11</th>\n",
       "      <th>2020-12</th>\n",
       "      <th>2021-01</th>\n",
       "      <th>2021-02</th>\n",
       "      <th>2021-03</th>\n",
       "    </tr>\n",
       "    <tr>\n",
       "      <th>Day</th>\n",
       "      <th></th>\n",
       "      <th></th>\n",
       "      <th></th>\n",
       "      <th></th>\n",
       "      <th></th>\n",
       "      <th></th>\n",
       "      <th></th>\n",
       "    </tr>\n",
       "  </thead>\n",
       "  <tbody>\n",
       "    <tr>\n",
       "      <th>Friday</th>\n",
       "      <td>14855.639430</td>\n",
       "      <td>14700.844764</td>\n",
       "      <td>14149.499635</td>\n",
       "      <td>14120.459118</td>\n",
       "      <td>14082.246506</td>\n",
       "      <td>14091.153825</td>\n",
       "      <td>14365.141207</td>\n",
       "    </tr>\n",
       "    <tr>\n",
       "      <th>Monday</th>\n",
       "      <td>14892.321940</td>\n",
       "      <td>14708.441850</td>\n",
       "      <td>14256.315880</td>\n",
       "      <td>14113.693392</td>\n",
       "      <td>14057.416038</td>\n",
       "      <td>14017.196765</td>\n",
       "      <td>14348.872773</td>\n",
       "    </tr>\n",
       "    <tr>\n",
       "      <th>Sunday</th>\n",
       "      <td>14859.983490</td>\n",
       "      <td>NaN</td>\n",
       "      <td>NaN</td>\n",
       "      <td>NaN</td>\n",
       "      <td>NaN</td>\n",
       "      <td>NaN</td>\n",
       "      <td>NaN</td>\n",
       "    </tr>\n",
       "    <tr>\n",
       "      <th>Thursday</th>\n",
       "      <td>14888.786070</td>\n",
       "      <td>14706.616416</td>\n",
       "      <td>14196.648107</td>\n",
       "      <td>14124.714288</td>\n",
       "      <td>13997.302972</td>\n",
       "      <td>14039.100480</td>\n",
       "      <td>14335.009770</td>\n",
       "    </tr>\n",
       "    <tr>\n",
       "      <th>Tuesday</th>\n",
       "      <td>14880.932100</td>\n",
       "      <td>14687.674963</td>\n",
       "      <td>14205.105303</td>\n",
       "      <td>14124.182250</td>\n",
       "      <td>14026.847788</td>\n",
       "      <td>13988.433313</td>\n",
       "      <td>14353.435433</td>\n",
       "    </tr>\n",
       "    <tr>\n",
       "      <th>Wednesday</th>\n",
       "      <td>14846.497925</td>\n",
       "      <td>14686.334510</td>\n",
       "      <td>14201.325225</td>\n",
       "      <td>14095.843544</td>\n",
       "      <td>14014.393330</td>\n",
       "      <td>14022.474155</td>\n",
       "      <td>14330.491160</td>\n",
       "    </tr>\n",
       "  </tbody>\n",
       "</table>\n",
       "</div>"
      ],
      "text/plain": [
       "Week            2020-09       2020-10       2020-11       2020-12  \\\n",
       "Day                                                                 \n",
       "Friday     14855.639430  14700.844764  14149.499635  14120.459118   \n",
       "Monday     14892.321940  14708.441850  14256.315880  14113.693392   \n",
       "Sunday     14859.983490           NaN           NaN           NaN   \n",
       "Thursday   14888.786070  14706.616416  14196.648107  14124.714288   \n",
       "Tuesday    14880.932100  14687.674963  14205.105303  14124.182250   \n",
       "Wednesday  14846.497925  14686.334510  14201.325225  14095.843544   \n",
       "\n",
       "Week            2021-01       2021-02       2021-03  \n",
       "Day                                                  \n",
       "Friday     14082.246506  14091.153825  14365.141207  \n",
       "Monday     14057.416038  14017.196765  14348.872773  \n",
       "Sunday              NaN           NaN           NaN  \n",
       "Thursday   13997.302972  14039.100480  14335.009770  \n",
       "Tuesday    14026.847788  13988.433313  14353.435433  \n",
       "Wednesday  14014.393330  14022.474155  14330.491160  "
      ]
     },
     "execution_count": 20,
     "metadata": {},
     "output_type": "execute_result"
    }
   ],
   "source": [
    "mean_Ex_RI = pd.crosstab(index=Exchanges_Reset_index['Day'],\n",
    "           columns=Exchanges_Reset_index['Week'],\n",
    "           values=Exchanges_Reset_index['IDR'],\n",
    "           aggfunc='mean')\n",
    "mean_Ex_RI#.dropna(how='any')"
   ]
  },
  {
   "cell_type": "code",
   "execution_count": 21,
   "metadata": {},
   "outputs": [
    {
     "data": {
      "text/plain": [
       "Text(0, 0.5, 'IDR')"
      ]
     },
     "execution_count": 21,
     "metadata": {},
     "output_type": "execute_result"
    },
    {
     "data": {
      "image/png": "[encoded data removed]",
      "text/plain": [
       "<Figure size 720x360 with 1 Axes>"
      ]
     },
     "metadata": {
      "needs_background": "light"
     },
     "output_type": "display_data"
    }
   ],
   "source": [
    "mean_Ex_RI[['2021-01','2021-02','2021-03']].plot.box(title='Indonesian Rupiahs (IDR) per US Dollar (USD)',figsize=(10,5)).set_ylabel('IDR')"
   ]
  },
  {
   "cell_type": "code",
   "execution_count": null,
   "metadata": {},
   "outputs": [],
   "source": []
  }
 ],
 "metadata": {
  "kernelspec": {
   "display_name": "Dscrap",
   "language": "python",
   "name": "dscrap"
  },
  "language_info": {
   "codemirror_mode": {
    "name": "ipython",
    "version": 3
   },
   "file_extension": ".py",
   "mimetype": "text/x-python",
   "name": "python",
   "nbconvert_exporter": "python",
   "pygments_lexer": "ipython3",
   "version": "3.8.0"
  },
  "toc": {
   "base_numbering": 1,
   "nav_menu": {},
   "number_sections": true,
   "sideBar": true,
   "skip_h1_title": false,
   "title_cell": "Table of Contents",
   "title_sidebar": "Contents",
   "toc_cell": false,
   "toc_position": {},
   "toc_section_display": true,
   "toc_window_display": false
  }
 },
 "nbformat": 4,
 "nbformat_minor": 2
}
