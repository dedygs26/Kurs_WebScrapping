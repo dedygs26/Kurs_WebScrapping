{
 "cells": [
  {
   "cell_type": "markdown",
   "metadata": {},
   "source": [
    "# Capstone Webscrapping using BeautifulSoup\n",
    "\n",
    "This notebook contains guidances & tasks on the data processing for the application\n",
    "\n",
    "(Please insert the background here )\n",
    "\n",
    "\n",
    "## Requesting the Data and Creating a BeautifulSoup\n",
    "\n",
    "Let's begin with requesting the web from the site with `get` method."
   ]
  },
  {
   "cell_type": "code",
   "execution_count": 1,
   "metadata": {
    "ExecuteTime": {
     "end_time": "2020-01-13T05:12:23.275508Z",
     "start_time": "2020-01-13T05:12:20.009898Z"
    }
   },
   "outputs": [],
   "source": [
    "import requests\n",
    "import matplotlib.pyplot as plt\n",
    "url_get = requests.get('https://www.exchange-rates.org/history/IDR/USD/T')"
   ]
  },
  {
   "cell_type": "markdown",
   "metadata": {},
   "source": [
    "To visualize what exactly you get from the `request.get`, we can use .content so ee what we exactly get, in here i slice it so it won't make our screen full of the html we get from the page. You can delete the slicing if you want to see what we fully get."
   ]
  },
  {
   "cell_type": "code",
   "execution_count": 2,
   "metadata": {
    "ExecuteTime": {
     "end_time": "2020-01-13T05:12:23.290648Z",
     "start_time": "2020-01-13T05:12:23.277650Z"
    }
   },
   "outputs": [
    {
     "output_type": "execute_result",
     "data": {
      "text/plain": [
       "b'\\n<!DOCTYPE html>\\r\\n<!--[if lt IE 9]>\\r\\n    <html class=\"no-js ie8 oldie\" lang=\\'en\\' xml:lang=\\'en\\'>\\r\\n<![endif]-->\\r\\n<!--[if gt IE 8]><!--> <html class=\"no-js\" lang=\\'en\\' xml:lang=\\'en\\'> <!--<![endif]-->\\r\\n<head><title>Indonesian Rupiah Exchange Rate - US Dollar - Historical Exchange Rates</title>\\n<meta http-equiv=\"X-UA-Compatible\" content=\"IE=edge\">\\n<meta content=\"C#\" name=\"CODE_LANGUAGE\" />\\n<meta content=\"JavaScript\" name=\"vs_defaultClientScript\" />\\n<meta content=\"http://schemas.microsoft.com/intellisense/ie5\" name=\"vs_targetSchema\" />\\n<meta name=\"viewport\" content=\"width=device-width, initial-scale=1, maximum-scale=5\">\\n<meta http-equiv=\"Content-Type\" content=\"text/html; charset=utf-8\" />\\n\\n<meta name=\"mapping\" content=\"AP\" />\\n<base href=\"https://www.exchange-rates.org/\" />'"
      ]
     },
     "metadata": {},
     "execution_count": 2
    }
   ],
   "source": [
    "url_get.content[1:777]"
   ]
  },
  {
   "cell_type": "markdown",
   "metadata": {},
   "source": [
    "As we can see we get a very unstructured and complex html, which actually contains the codes needed to show the webpages on your web browser. But we as human still confused what and where we can use that piece of code, so here where we use the beautifulsoup. Beautiful soup class will result a beautifulsoup object. Beautiful Soup transforms a complex HTML document into a complex tree of Python objects. \n",
    "\n",
    "Let's make Beautiful soup object and feel free to explore the object here."
   ]
  },
  {
   "cell_type": "code",
   "execution_count": 3,
   "metadata": {
    "ExecuteTime": {
     "end_time": "2020-01-13T05:12:23.808122Z",
     "start_time": "2020-01-13T05:12:23.292610Z"
    }
   },
   "outputs": [
    {
     "output_type": "stream",
     "name": "stdout",
     "text": [
      "<class 'bs4.BeautifulSoup'>\n"
     ]
    }
   ],
   "source": [
    "from bs4 import BeautifulSoup \n",
    "\n",
    "soup = BeautifulSoup(url_get.content,\"html.parser\")\n",
    "print(type(soup))"
   ]
  },
  {
   "cell_type": "markdown",
   "metadata": {},
   "source": [
    "## Finding the right key to scrap the data & Extracting the right information"
   ]
  },
  {
   "cell_type": "markdown",
   "metadata": {},
   "source": [
    "Find the key and put the key into the `.find()` Put all the exploring the right key at this cell. (please change this markdown with your explanation)"
   ]
  },
  {
   "cell_type": "code",
   "execution_count": 4,
   "metadata": {
    "ExecuteTime": {
     "end_time": "2020-01-13T05:12:23.878904Z",
     "start_time": "2020-01-13T05:12:23.854974Z"
    },
    "scrolled": true
   },
   "outputs": [
    {
     "output_type": "stream",
     "name": "stdout",
     "text": [
      "table class=\"table table-striped table-hover table-hover-solid-row table-simple history-data\">\n <tbody>\n  <tr>\n   <td>\n    3/22/2021\n   </td>\n   <td>\n    Monday\n   </td>\n   <td>\n    <a href=\"/Rate/USD/IDR/3-22-2021\">\n     14,378.72677\n    </a>\n    IDR\n   </td>\n   <td class=\"text-narrow-screen-hidden\">\n    <a href=\"/Rate/USD/IDR/3-22-2021\">\n     USD IDR rate for 3/22/2021\n    </a>\n   </td>\n  </tr>\n  <tr>\n   <td>\n    3/19/2021\n   </td>\n   <td>\n    Friday\n   </td>\n   <td>\n    <a href=\"/Rate/USD/ID\n"
     ]
    }
   ],
   "source": [
    "table = soup.find('table',attrs={'class':\"table table-striped table-hover table-hover-solid-row table-simple history-data\"})\n",
    "print(table.prettify()[1:500])"
   ]
  },
  {
   "cell_type": "code",
   "execution_count": 5,
   "metadata": {},
   "outputs": [
    {
     "output_type": "execute_result",
     "data": {
      "text/plain": [
       "[<tr><td>3/22/2021</td><td>Monday</td><td><a href=\"/Rate/USD/IDR/3-22-2021\">14,378.72677</a> IDR</td><td class=\"text-narrow-screen-hidden\"><a href=\"/Rate/USD/IDR/3-22-2021\">USD IDR rate for 3/22/2021</a></td></tr>,\n",
       " <tr><td>3/19/2021</td><td>Friday</td><td><a href=\"/Rate/USD/IDR/3-19-2021\">14,409.66972</a> IDR</td><td class=\"text-narrow-screen-hidden\"><a href=\"/Rate/USD/IDR/3-19-2021\">USD IDR rate for 3/19/2021</a></td></tr>,\n",
       " <tr><td>3/18/2021</td><td>Thursday</td><td><a href=\"/Rate/USD/IDR/3-18-2021\">14,423.29934</a> IDR</td><td class=\"text-narrow-screen-hidden\"><a href=\"/Rate/USD/IDR/3-18-2021\">USD IDR rate for 3/18/2021</a></td></tr>,\n",
       " <tr><td>3/17/2021</td><td>Wednesday</td><td><a href=\"/Rate/USD/IDR/3-17-2021\">14,346.28612</a> IDR</td><td class=\"text-narrow-screen-hidden\"><a href=\"/Rate/USD/IDR/3-17-2021\">USD IDR rate for 3/17/2021</a></td></tr>,\n",
       " <tr><td>3/16/2021</td><td>Tuesday</td><td><a href=\"/Rate/USD/IDR/3-16-2021\">14,407.76927</a> IDR</td><td class=\"text-narrow-screen-hidden\"><a href=\"/Rate/USD/IDR/3-16-2021\">USD IDR rate for 3/16/2021</a></td></tr>,\n",
       " <tr><td>3/15/2021</td><td>Monday</td><td><a href=\"/Rate/USD/IDR/3-15-2021\">14,423.68150</a> IDR</td><td class=\"text-narrow-screen-hidden\"><a href=\"/Rate/USD/IDR/3-15-2021\">USD IDR rate for 3/15/2021</a></td></tr>,\n",
       " <tr><td>3/12/2021</td><td>Friday</td><td><a href=\"/Rate/USD/IDR/3-12-2021\">14,393.57497</a> IDR</td><td class=\"text-narrow-screen-hidden\"><a href=\"/Rate/USD/IDR/3-12-2021\">USD IDR rate for 3/12/2021</a></td></tr>,\n",
       " <tr><td>3/11/2021</td><td>Thursday</td><td><a href=\"/Rate/USD/IDR/3-11-2021\">14,319.87571</a> IDR</td><td class=\"text-narrow-screen-hidden\"><a href=\"/Rate/USD/IDR/3-11-2021\">USD IDR rate for 3/11/2021</a></td></tr>,\n",
       " <tr><td>3/10/2021</td><td>Wednesday</td><td><a href=\"/Rate/USD/IDR/3-10-2021\">14,387.89293</a> IDR</td><td class=\"text-narrow-screen-hidden\"><a href=\"/Rate/USD/IDR/3-10-2021\">USD IDR rate for 3/10/2021</a></td></tr>,\n",
       " <tr><td>3/9/2021</td><td>Tuesday</td><td><a href=\"/Rate/USD/IDR/3-9-2021\">14,396.25662</a> IDR</td><td class=\"text-narrow-screen-hidden\"><a href=\"/Rate/USD/IDR/3-9-2021\">USD IDR rate for 3/9/2021</a></td></tr>,\n",
       " <tr><td>3/8/2021</td><td>Monday</td><td><a href=\"/Rate/USD/IDR/3-8-2021\">14,374.33106</a> IDR</td><td class=\"text-narrow-screen-hidden\"><a href=\"/Rate/USD/IDR/3-8-2021\">USD IDR rate for 3/8/2021</a></td></tr>,\n",
       " <tr><td>3/5/2021</td><td>Friday</td><td><a href=\"/Rate/USD/IDR/3-5-2021\">14,292.17893</a> IDR</td><td class=\"text-narrow-screen-hidden\"><a href=\"/Rate/USD/IDR/3-5-2021\">USD IDR rate for 3/5/2021</a></td></tr>,\n",
       " <tr class=\"inline-grid-ad-row first\"><td class=\"inline-grid-ad-cell first\" colspan=\"4\"><div class=\"google-wrap\">\n",
       " <style type=\"text/css\">\n",
       "     @media (min-width:770px)  { .inline-grid-ad-row { display: none; } }\n",
       "     table tr.inline-grid-ad-row > td:first-child,\n",
       "     table tr.inline-grid-ad-row:hover > td:first-child { background-color: #f9f9f9 !important; }\n",
       "   </style>\n",
       " <div class=\"_ap_apex_ad\" id=\"1b89b15f-48e9-4d38-a83b-795779503b7e\">\n",
       " <script>\n",
       "             if (window.innerWidth < 770) {\n",
       " \t\tvar adpushup = window.adpushup  = window.adpushup || {que:[]};\n",
       " \t\tadpushup.que.push(function() {\n",
       " \t\t\tadpushup.triggerAd(\"1b89b15f-48e9-4d38-a83b-795779503b7e\");\n",
       " \t\t});\n",
       "             }\n",
       " \t</script>\n",
       " </div>\n",
       " </div>\n",
       " </td></tr>]"
      ]
     },
     "metadata": {},
     "execution_count": 5
    }
   ],
   "source": [
    "tr = table.find_all('tr')\n",
    "tr[:13] # just call 2 founded tr"
   ]
  },
  {
   "cell_type": "markdown",
   "metadata": {},
   "source": [
    "Do the scrapping process here (please change this markdown with your explanation)"
   ]
  },
  {
   "cell_type": "code",
   "execution_count": 6,
   "metadata": {},
   "outputs": [
    {
     "output_type": "execute_result",
     "data": {
      "text/plain": [
       "ef=\"/Rate/USD/IDR/1-27-2021\">14,048.72649</a> IDR</td><td class=\"text-narrow-screen-hidden\"><a href=\"/Rate/USD/IDR/1-27-2021\">USD IDR rate for 1/27/2021</a></td></tr>,\n",
       " <tr><td>1/26/2021</td><td>Tuesday</td><td><a href=\"/Rate/USD/IDR/1-26-2021\">14,062.91108</a> IDR</td><td class=\"text-narrow-screen-hidden\"><a href=\"/Rate/USD/IDR/1-26-2021\">USD IDR rate for 1/26/2021</a></td></tr>,\n",
       " <tr><td>1/25/2021</td><td>Monday</td><td><a href=\"/Rate/USD/IDR/1-25-2021\">14,021.11609</a> IDR</td><td class=\"text-narrow-screen-hidden\"><a href=\"/Rate/USD/IDR/1-25-2021\">USD IDR rate for 1/25/2021</a></td></tr>,\n",
       " <tr><td>1/22/2021</td><td>Friday</td><td><a href=\"/Rate/USD/IDR/1-22-2021\">14,025.60268</a> IDR</td><td class=\"text-narrow-screen-hidden\"><a href=\"/Rate/USD/IDR/1-22-2021\">USD IDR rate for 1/22/2021</a></td></tr>,\n",
       " <tr><td>1/21/2021</td><td>Thursday</td><td><a href=\"/Rate/USD/IDR/1-21-2021\">13,964.91920</a> IDR</td><td class=\"text-narrow-screen-hidden\"><a href=\"/Rate/USD/IDR/1-21-2021\">USD IDR rate for 1/21/2021</a></td></tr>,\n",
       " <tr><td>1/20/2021</td><td>Wednesday</td><td><a href=\"/Rate/USD/IDR/1-20-2021\">14,021.43046</a> IDR</td><td class=\"text-narrow-screen-hidden\"><a href=\"/Rate/USD/IDR/1-20-2021\">USD IDR rate for 1/20/2021</a></td></tr>,\n",
       " <tr><td>1/19/2021</td><td>Tuesday</td><td><a href=\"/Rate/USD/IDR/1-19-2021\">14,063.60877</a> IDR</td><td class=\"text-narrow-screen-hidden\"><a href=\"/Rate/USD/IDR/1-19-2021\">USD IDR rate for 1/19/2021</a></td></tr>,\n",
       " <tr><td>1/18/2021</td><td>Monday</td><td><a href=\"/Rate/USD/IDR/1-18-2021\">14,055.43768</a> IDR</td><td class=\"text-narrow-screen-hidden\"><a href=\"/Rate/USD/IDR/1-18-2021\">USD IDR rate for 1/18/2021</a></td></tr>,\n",
       " <tr><td>1/15/2021</td><td>Friday</td><td><a href=\"/Rate/USD/IDR/1-15-2021\">14,153.46654</a> IDR</td><td class=\"text-narrow-screen-hidden\"><a href=\"/Rate/USD/IDR/1-15-2021\">USD IDR rate for 1/15/2021</a></td></tr>,\n",
       " <tr><td>1/14/2021</td><td>Thursday</td><td><a href=\"/Rate/USD/IDR/1-14-2021\">14,070.58746</a> IDR</td><td class=\"text-narrow-screen-hidden\"><a href=\"/Rate/USD/IDR/1-14-2021\">USD IDR rate for 1/14/2021</a></td></tr>,\n",
       " <tr><td>1/13/2021</td><td>Wednesday</td><td><a href=\"/Rate/USD/IDR/1-13-2021\">14,125.90174</a> IDR</td><td class=\"text-narrow-screen-hidden\"><a href=\"/Rate/USD/IDR/1-13-2021\">USD IDR rate for 1/13/2021</a></td></tr>,\n",
       " <tr><td>1/12/2021</td><td>Tuesday</td><td><a href=\"/Rate/USD/IDR/1-12-2021\">14,074.81444</a> IDR</td><td class=\"text-narrow-screen-hidden\"><a href=\"/Rate/USD/IDR/1-12-2021\">USD IDR rate for 1/12/2021</a></td></tr>,\n",
       " <tr><td>1/11/2021</td><td>Monday</td><td><a href=\"/Rate/USD/IDR/1-11-2021\">14,137.24151</a> IDR</td><td class=\"text-narrow-screen-hidden\"><a href=\"/Rate/USD/IDR/1-11-2021\">USD IDR rate for 1/11/2021</a></td></tr>,\n",
       " <tr><td>1/8/2021</td><td>Friday</td><td><a href=\"/Rate/USD/IDR/1-8-2021\">13,991.16348</a> IDR</td><td class=\"text-narrow-screen-hidden\"><a href=\"/Rate/USD/IDR/1-8-2021\">USD IDR rate for 1/8/2021</a></td></tr>,\n",
       " <tr><td>1/7/2021</td><td>Thursday</td><td><a href=\"/Rate/USD/IDR/1-7-2021\">13,905.64377</a> IDR</td><td class=\"text-narrow-screen-hidden\"><a href=\"/Rate/USD/IDR/1-7-2021\">USD IDR rate for 1/7/2021</a></td></tr>,\n",
       " <tr><td>1/6/2021</td><td>Wednesday</td><td><a href=\"/Rate/USD/IDR/1-6-2021\">13,861.51463</a> IDR</td><td class=\"text-narrow-screen-hidden\"><a href=\"/Rate/USD/IDR/1-6-2021\">USD IDR rate for 1/6/2021</a></td></tr>,\n",
       " <tr><td>1/5/2021</td><td>Tuesday</td><td><a href=\"/Rate/USD/IDR/1-5-2021\">13,906.05686</a> IDR</td><td class=\"text-narrow-screen-hidden\"><a href=\"/Rate/USD/IDR/1-5-2021\">USD IDR rate for 1/5/2021</a></td></tr>,\n",
       " <tr><td>1/4/2021</td><td>Monday</td><td><a href=\"/Rate/USD/IDR/1-4-2021\">14,015.86887</a> IDR</td><td class=\"text-narrow-screen-hidden\"><a href=\"/Rate/USD/IDR/1-4-2021\">USD IDR rate for 1/4/2021</a></td></tr>,\n",
       " <tr><td>1/1/2021</td><td>Friday</td><td><a href=\"/Rate/USD/IDR/1-1-2021\">14,213.67526</a> IDR</td><td class=\"text-narrow-screen-hidden\"><a href=\"/Rate/USD/IDR/1-1-2021\">USD IDR rate for 1/1/2021</a></td></tr>,\n",
       " <tr><td>12/31/2020</td><td>Thursday</td><td><a href=\"/Rate/USD/IDR/12-31-2020\">14,120.57461</a> IDR</td><td class=\"text-narrow-screen-hidden\"><a href=\"/Rate/USD/IDR/12-31-2020\">USD IDR rate for 12/31/2020</a></td></tr>,\n",
       " <tr><td>12/30/2020</td><td>Wednesday</td><td><a href=\"/Rate/USD/IDR/12-30-2020\">14,020.01350</a> IDR</td><td class=\"text-narrow-screen-hidden\"><a href=\"/Rate/USD/IDR/12-30-2020\">USD IDR rate for 12/30/2020</a></td></tr>,\n",
       " <tr><td>12/29/2020</td><td>Tuesday</td><td><a href=\"/Rate/USD/IDR/12-29-2020\">14,108.18177</a> IDR</td><td class=\"text-narrow-screen-hidden\"><a href=\"/Rate/USD/IDR/12-29-2020\">USD IDR rate for 12/29/2020</a></td></tr>,\n",
       " <tr><td>12/28/2020</td><td>Monday</td><td><a href=\"/Rate/USD/IDR/12-28-2020\">14,139.81753</a> IDR</td><td class=\"text-narrow-screen-hidden\"><a href=\"/Rate/USD/IDR/12-28-2020\">USD IDR rate for 12/28/2020</a></td></tr>,\n",
       " <tr><td>12/25/2020</td><td>Friday</td><td><a href=\"/Rate/USD/IDR/12-25-2020\">14,211.65343</a> IDR</td><td class=\"text-narrow-screen-hidden\"><a href=\"/Rate/USD/IDR/12-25-2020\">USD IDR rate for 12/25/2020</a></td></tr>,\n",
       " <tr><td>12/24/2020</td><td>Thursday</td><td><a href=\"/Rate/USD/IDR/12-24-2020\">14,188.41293</a> IDR</td><td class=\"text-narrow-screen-hidden\"><a href=\"/Rate/USD/IDR/12-24-2020\">USD IDR rate for 12/24/2020</a></td></tr>,\n",
       " <tr><td>12/23/2020</td><td>Wednesday</td><td><a href=\"/Rate/USD/IDR/12-23-2020\">14,183.64082</a> IDR</td><td class=\"text-narrow-screen-hidden\"><a href=\"/Rate/USD/IDR/12-23-2020\">USD IDR rate for 12/23/2020</a></td></tr>,\n",
       " <tr><td>12/22/2020</td><td>Tuesday</td><td><a href=\"/Rate/USD/IDR/12-22-2020\">14,164.98134</a> IDR</td><td class=\"text-narrow-screen-hidden\"><a href=\"/Rate/USD/IDR/12-22-2020\">USD IDR rate for 12/22/2020</a></td></tr>,\n",
       " <tr><td>12/21/2020</td><td>Monday</td><td><a href=\"/Rate/USD/IDR/12-21-2020\">14,124.20148</a> IDR</td><td class=\"text-narrow-screen-hidden\"><a href=\"/Rate/USD/IDR/12-21-2020\">USD IDR rate for 12/21/2020</a></td></tr>,\n",
       " <tr><td>12/18/2020</td><td>Friday</td><td><a href=\"/Rate/USD/IDR/12-18-2020\">14,101.05758</a> IDR</td><td class=\"text-narrow-screen-hidden\"><a href=\"/Rate/USD/IDR/12-18-2020\">USD IDR rate for 12/18/2020</a></td></tr>,\n",
       " <tr><td>12/17/2020</td><td>Thursday</td><td><a href=\"/Rate/USD/IDR/12-17-2020\">14,101.72807</a> IDR</td><td class=\"text-narrow-screen-hidden\"><a href=\"/Rate/USD/IDR/12-17-2020\">USD IDR rate for 12/17/2020</a></td></tr>,\n",
       " <tr><td>12/16/2020</td><td>Wednesday</td><td><a href=\"/Rate/USD/IDR/12-16-2020\">14,084.50704</a> IDR</td><td class=\"text-narrow-screen-hidden\"><a href=\"/Rate/USD/IDR/12-16-2020\">USD IDR rate for 12/16/2020</a></td></tr>,\n",
       " <tr><td>12/15/2020</td><td>Tuesday</td><td><a href=\"/Rate/USD/IDR/12-15-2020\">14,124.19150</a> IDR</td><td class=\"text-narrow-screen-hidden\"><a href=\"/Rate/USD/IDR/12-15-2020\">USD IDR rate for 12/15/2020</a></td></tr>,\n",
       " <tr><td>12/14/2020</td><td>Monday</td><td><a href=\"/Rate/USD/IDR/12-14-2020\">14,087.17417</a> IDR</td><td class=\"text-narrow-screen-hidden\"><a href=\"/Rate/USD/IDR/12-14-2020\">USD IDR rate for 12/14/2020</a></td></tr>,\n",
       " <tr><td>12/11/2020</td><td>Friday</td><td><a href=\"/Rate/USD/IDR/12-11-2020\">14,076.36739</a> IDR</td><td class=\"text-narrow-screen-hidden\"><a href=\"/Rate/USD/IDR/12-11-2020\">USD IDR rate for 12/11/2020</a></td></tr>,\n",
       " <tr><td>12/10/2020</td><td>Thursday</td><td><a href=\"/Rate/USD/IDR/12-10-2020\">14,103.70444</a> IDR</td><td class=\"text-narrow-screen-hidden\"><a href=\"/Rate/USD/IDR/12-10-2020\">USD IDR rate for 12/10/2020</a></td></tr>,\n",
       " <tr><td>12/9/2020</td><td>Wednesday</td><td><a href=\"/Rate/USD/IDR/12-9-2020\">14,096.39851</a> IDR</td><td class=\"text-narrow-screen-hidden\"><a href=\"/Rate/USD/IDR/12-9-2020\">USD IDR rate for 12/9/2020</a></td></tr>,\n",
       " <tr><td>12/8/2020</td><td>Tuesday</td><td><a href=\"/Rate/USD/IDR/12-8-2020\">14,105.04229</a> IDR</td><td class=\"text-narrow-screen-hidden\"><a href=\"/Rate/USD/IDR/12-8-2020\">USD IDR rate for 12/8/2020</a></td></tr>,\n",
       " <tr><td>12/7/2020</td><td>Monday</td><td><a href=\"/Rate/USD/IDR/12-7-2020\">14,103.58039</a> IDR</td><td class=\"text-narrow-screen-hidden\"><a href=\"/Rate/USD/IDR/12-7-2020\">USD IDR rate for 12/7/2020</a></td></tr>,\n",
       " <tr><td>12/4/2020</td><td>Friday</td><td><a href=\"/Rate/USD/IDR/12-4-2020\">14,092.75807</a> IDR</td><td class=\"text-narrow-screen-hidden\"><a href=\"/Rate/USD/IDR/12-4-2020\">USD IDR rate for 12/4/2020</a></td></tr>,\n",
       " <tr><td>12/3/2020</td><td>Thursday</td><td><a href=\"/Rate/USD/IDR/12-3-2020\">14,109.15139</a> IDR</td><td class=\"text-narrow-screen-hidden\"><a href=\"/Rate/USD/IDR/12-3-2020\">USD IDR rate for 12/3/2020</a></td></tr>,\n",
       " <tr><td>12/2/2020</td><td>Wednesday</td><td><a href=\"/Rate/USD/IDR/12-2-2020\">14,094.65785</a> IDR</td><td class=\"text-narrow-screen-hidden\"><a href=\"/Rate/USD/IDR/12-2-2020\">USD IDR rate for 12/2/2020</a></td></tr>,\n",
       " <tr><td>12/1/2020</td><td>Tuesday</td><td><a href=\"/Rate/USD/IDR/12-1-2020\">14,118.51435</a> IDR</td><td class=\"text-narrow-screen-hidden\"><a href=\"/Rate/USD/IDR/12-1-2020\">USD IDR rate for 12/1/2020</a></td></tr>,\n",
       " <tr><td>11/30/2020</td><td>Monday</td><td><a href=\"/Rate/USD/IDR/11-30-2020\">14,114.11663</a> IDR</td><td class=\"text-narrow-screen-hidden\"><a href=\"/Rate/USD/IDR/11-30-2020\">USD IDR rate for 11/30/2020</a></td></tr>,\n",
       " <tr><td>11/27/2020</td><td>Friday</td><td><a href=\"/Rate/USD/IDR/11-27-2020\">14,078.12448</a> IDR</td><td class=\"text-narrow-screen-hidden\"><a href=\"/Rate/USD/IDR/11-27-2020\">USD IDR rate for 11/27/2020</a></td></tr>,\n",
       " <tr><td>11/26/2020</td><td>Thursday</td><td><a href=\"/Rate/USD/IDR/11-26-2020\">14,090.70769</a> IDR</td><td class=\"text-narrow-screen-hidden\"><a href=\"/Rate/USD/IDR/11-26-2020\">USD IDR rate for 11/26/2020</a></td></tr>,\n",
       " <tr><td>11/25/2020</td><td>Wednesday</td><td><a href=\"/Rate/USD/IDR/11-25-2020\">14,136.09929</a> IDR</td><td class=\"text-narrow-screen-hidden\"><a href=\"/Rate/USD/IDR/11-25-2020\">USD IDR rate for 11/25/2020</a></td></tr>,\n",
       " <tr><td>11/24/2020</td><td>Tuesday</td><td><a href=\"/Rate/USD/IDR/11-24-2020\">14,137.48161</a> IDR</td><td class=\"text-narrow-screen-hidden\"><a href=\"/Rate/USD/IDR/11-24-2020\">USD IDR rate for 11/24/2020</a></td></tr>,\n",
       " <tr><td>11/23/2020</td><td>Monday</td><td><a href=\"/Rate/USD/IDR/11-23-2020\">14,185.57119</a> IDR</td><td class=\"text-narrow-screen-hidden\"><a href=\"/Rate/USD/IDR/11-23-2020\">USD IDR rate for 11/23/2020</a></td></tr>,\n",
       " <tr><td>11/20/2020</td><td>Friday</td><td><a href=\"/Rate/USD/IDR/11-20-2020\">14,162.60519</a> IDR</td><td class=\"text-narrow-screen-hidden\"><a href=\"/Rate/USD/IDR/11-20-2020\">USD IDR rate for 11/20/2020</a></td></tr>,\n",
       " <tr><td>11/19/2020</td><td>Thursday</td><td><a href=\"/Rate/USD/IDR/11-19-2020\">14,165.50144</a> IDR</td><td class=\"text-narrow-screen-hidden\"><a href=\"/Rate/USD/IDR/11-19-2020\">USD IDR rate for 11/19/2020</a></td></tr>,\n",
       " <tr><td>11/18/2020</td><td>Wednesday</td><td><a href=\"/Rate/USD/IDR/11-18-2020\">14,051.29503</a> IDR</td><td class=\"text-narrow-screen-hidden\"><a href=\"/Rate/USD/IDR/11-18-2020\">USD IDR rate for 11/18/2020</a></td></tr>,\n",
       " <tr><td>11/17/2020</td><td>Tuesday</td><td><a href=\"/Rate/USD/IDR/11-17-2020\">14,040.16051</a> IDR</td><td class=\"text-narrow-screen-hidden\"><a href=\"/Rate/USD/IDR/11-17-2020\">USD IDR rate for 11/17/2020</a></td></tr>,\n",
       " <tr><td>11/16/2020</td><td>Monday</td><td><a href=\"/Rate/USD/IDR/11-16-2020\">14,085.69501</a> IDR</td><td class=\"text-narrow-screen-hidden\"><a href=\"/Rate/USD/IDR/11-16-2020\">USD IDR rate for 11/16/2020</a></td></tr>,\n",
       " <tr><td>11/13/2020</td><td>Friday</td><td><a href=\"/Rate/USD/IDR/11-13-2020\">14,142.77143</a> IDR</td><td class=\"text-narrow-screen-hidden\"><a href=\"/Rate/USD/IDR/11-13-2020\">USD IDR rate for 11/13/2020</a></td></tr>,\n",
       " <tr><td>11/12/2020</td><td>Thursday</td><td><a href=\"/Rate/USD/IDR/11-12-2020\">14,141.24303</a> IDR</td><td class=\"text-narrow-screen-hidden\"><a href=\"/Rate/USD/IDR/11-12-2020\">USD IDR rate for 11/12/2020</a></td></tr>,\n",
       " <tr><td>11/11/2020</td><td>Wednesday</td><td><a href=\"/Rate/USD/IDR/11-11-2020\">14,073.46024</a> IDR</td><td class=\"text-narrow-screen-hidden\"><a href=\"/Rate/USD/IDR/11-11-2020\">USD IDR rate for 11/11/2020</a></td></tr>,\n",
       " <tr><td>11/10/2020</td><td>Tuesday</td><td><a href=\"/Rate/USD/IDR/11-10-2020\">14,053.76135</a> IDR</td><td class=\"text-narrow-screen-hidden\"><a href=\"/Rate/USD/IDR/11-10-2020\">USD IDR rate for 11/10/2020</a></td></tr>,\n",
       " <tr><td>11/9/2020</td><td>Monday</td><td><a href=\"/Rate/USD/IDR/11-9-2020\">14,283.29667</a> IDR</td><td class=\"text-narrow-screen-hidden\"><a href=\"/Rate/USD/IDR/11-9-2020\">USD IDR rate for 11/9/2020</a></td></tr>,\n",
       " <tr><td>11/6/2020</td><td>Friday</td><td><a href=\"/Rate/USD/IDR/11-6-2020\">14,214.49744</a> IDR</td><td class=\"text-narrow-screen-hidden\"><a href=\"/Rate/USD/IDR/11-6-2020\">USD IDR rate for 11/6/2020</a></td></tr>,\n",
       " <tr><td>11/5/2020</td><td>Thursday</td><td><a href=\"/Rate/USD/IDR/11-5-2020\">14,389.14027</a> IDR</td><td class=\"text-narrow-screen-hidden\"><a href=\"/Rate/USD/IDR/11-5-2020\">USD IDR rate for 11/5/2020</a></td></tr>,\n",
       " <tr><td>11/4/2020</td><td>Wednesday</td><td><a href=\"/Rate/USD/IDR/11-4-2020\">14,544.44634</a> IDR</td><td class=\"text-narrow-screen-hidden\"><a href=\"/Rate/USD/IDR/11-4-2020\">USD IDR rate for 11/4/2020</a></td></tr>,\n",
       " <tr><td>11/3/2020</td><td>Tuesday</td><td><a href=\"/Rate/USD/IDR/11-3-2020\">14,589.01774</a> IDR</td><td class=\"text-narrow-screen-hidden\"><a href=\"/Rate/USD/IDR/11-3-2020\">USD IDR rate for 11/3/2020</a></td></tr>,\n",
       " <tr><td>11/2/2020</td><td>Monday</td><td><a href=\"/Rate/USD/IDR/11-2-2020\">14,612.89990</a> IDR</td><td class=\"text-narrow-screen-hidden\"><a href=\"/Rate/USD/IDR/11-2-2020\">USD IDR rate for 11/2/2020</a></td></tr>,\n",
       " <tr><td>10/30/2020</td><td>Friday</td><td><a href=\"/Rate/USD/IDR/10-30-2020\">14,629.16216</a> IDR</td><td class=\"text-narrow-screen-hidden\"><a href=\"/Rate/USD/IDR/10-30-2020\">USD IDR rate for 10/30/2020</a></td></tr>,\n",
       " <tr><td>10/29/2020</td><td>Thursday</td><td><a href=\"/Rate/USD/IDR/10-29-2020\">14,701.62361</a> IDR</td><td class=\"text-narrow-screen-hidden\"><a href=\"/Rate/USD/IDR/10-29-2020\">USD IDR rate for 10/29/2020</a></td></tr>,\n",
       " <tr><td>10/28/2020</td><td>Wednesday</td><td><a href=\"/Rate/USD/IDR/10-28-2020\">14,701.92586</a> IDR</td><td class=\"text-narrow-screen-hidden\"><a href=\"/Rate/USD/IDR/10-28-2020\">USD IDR rate for 10/28/2020</a></td></tr>,\n",
       " <tr><td>10/27/2020</td><td>Tuesday</td><td><a href=\"/Rate/USD/IDR/10-27-2020\">14,649.78960</a> IDR</td><td class=\"text-narrow-screen-hidden\"><a href=\"/Rate/USD/IDR/10-27-2020\">USD IDR rate for 10/27/2020</a></td></tr>,\n",
       " <tr><td>10/26/2020</td><td>Monday</td><td><a href=\"/Rate/USD/IDR/10-26-2020\">14,652.88010</a> IDR</td><td class=\"text-narrow-screen-hidden\"><a href=\"/Rate/USD/IDR/10-26-2020\">USD IDR rate for 10/26/2020</a></td></tr>,\n",
       " <tr><td>10/23/2020</td><td>Friday</td><td><a href=\"/Rate/USD/IDR/10-23-2020\">14,655.04157</a> IDR</td><td class=\"text-narrow-screen-hidden\"><a href=\"/Rate/USD/IDR/10-23-2020\">USD IDR rate for 10/23/2020</a></td></tr>,\n",
       " <tr><td>10/22/2020</td><td>Thursday</td><td><a href=\"/Rate/USD/IDR/10-22-2020\">14,647.90877</a> IDR</td><td class=\"text-narrow-screen-hidden\"><a href=\"/Rate/USD/IDR/10-22-2020\">USD IDR rate for 10/22/2020</a></td></tr>,\n",
       " <tr><td>10/21/2020</td><td>Wednesday</td><td><a href=\"/Rate/USD/IDR/10-21-2020\">14,641.61060</a> IDR</td><td class=\"text-narrow-screen-hidden\"><a href=\"/Rate/USD/IDR/10-21-2020\">USD IDR rate for 10/21/2020</a></td></tr>,\n",
       " <tr><td>10/20/2020</td><td>Tuesday</td><td><a href=\"/Rate/USD/IDR/10-20-2020\">14,555.88071</a> IDR</td><td class=\"text-narrow-screen-hidden\"><a href=\"/Rate/USD/IDR/10-20-2020\">USD IDR rate for 10/20/2020</a></td></tr>,\n",
       " <tr><td>10/19/2020</td><td>Monday</td><td><a href=\"/Rate/USD/IDR/10-19-2020\">14,705.13256</a> IDR</td><td class=\"text-narrow-screen-hidden\"><a href=\"/Rate/USD/IDR/10-19-2020\">USD IDR rate for 10/19/2020</a></td></tr>,\n",
       " <tr><td>10/16/2020</td><td>Friday</td><td><a href=\"/Rate/USD/IDR/10-16-2020\">14,688.43616</a> IDR</td><td class=\"text-narrow-screen-hidden\"><a href=\"/Rate/USD/IDR/10-16-2020\">USD IDR rate for 10/16/2020</a></td></tr>,\n",
       " <tr><td>10/15/2020</td><td>Thursday</td><td><a href=\"/Rate/USD/IDR/10-15-2020\">14,667.95340</a> IDR</td><td class=\"text-narrow-screen-hidden\"><a href=\"/Rate/USD/IDR/10-15-2020\">USD IDR rate for 10/15/2020</a></td></tr>,\n",
       " <tr><td>10/14/2020</td><td>Wednesday</td><td><a href=\"/Rate/USD/IDR/10-14-2020\">14,696.21912</a> IDR</td><td class=\"text-narrow-screen-hidden\"><a href=\"/Rate/USD/IDR/10-14-2020\">USD IDR rate for 10/14/2020</a></td></tr>,\n",
       " <tr><td>10/13/2020</td><td>Tuesday</td><td><a href=\"/Rate/USD/IDR/10-13-2020\">14,687.35100</a> IDR</td><td class=\"text-narrow-screen-hidden\"><a href=\"/Rate/USD/IDR/10-13-2020\">USD IDR rate for 10/13/2020</a></td></tr>,\n",
       " <tr><td>10/12/2020</td><td>Monday</td><td><a href=\"/Rate/USD/IDR/10-12-2020\">14,677.85296</a> IDR</td><td class=\"text-narrow-screen-hidden\"><a href=\"/Rate/USD/IDR/10-12-2020\">USD IDR rate for 10/12/2020</a></td></tr>,\n",
       " <tr><td>10/9/2020</td><td>Friday</td><td><a href=\"/Rate/USD/IDR/10-9-2020\">14,679.27910</a> IDR</td><td class=\"text-narrow-screen-hidden\"><a href=\"/Rate/USD/IDR/10-9-2020\">USD IDR rate for 10/9/2020</a></td></tr>,\n",
       " <tr><td>10/8/2020</td><td>Thursday</td><td><a href=\"/Rate/USD/IDR/10-8-2020\">14,692.93025</a> IDR</td><td class=\"text-narrow-screen-hidden\"><a href=\"/Rate/USD/IDR/10-8-2020\">USD IDR rate for 10/8/2020</a></td></tr>,\n",
       " <tr><td>10/7/2020</td><td>Wednesday</td><td><a href=\"/Rate/USD/IDR/10-7-2020\">14,705.58246</a> IDR</td><td class=\"text-narrow-screen-hidden\"><a href=\"/Rate/USD/IDR/10-7-2020\">USD IDR rate for 10/7/2020</a></td></tr>,\n",
       " <tr><td>10/6/2020</td><td>Tuesday</td><td><a href=\"/Rate/USD/IDR/10-6-2020\">14,857.67854</a> IDR</td><td class=\"text-narrow-screen-hidden\"><a href=\"/Rate/USD/IDR/10-6-2020\">USD IDR rate for 10/6/2020</a></td></tr>,\n",
       " <tr><td>10/5/2020</td><td>Monday</td><td><a href=\"/Rate/USD/IDR/10-5-2020\">14,797.90178</a> IDR</td><td class=\"text-narrow-screen-hidden\"><a href=\"/Rate/USD/IDR/10-5-2020\">USD IDR rate for 10/5/2020</a></td></tr>,\n",
       " <tr><td>10/2/2020</td><td>Friday</td><td><a href=\"/Rate/USD/IDR/10-2-2020\">14,852.30483</a> IDR</td><td class=\"text-narrow-screen-hidden\"><a href=\"/Rate/USD/IDR/10-2-2020\">USD IDR rate for 10/2/2020</a></td></tr>,\n",
       " <tr><td>10/1/2020</td><td>Thursday</td><td><a href=\"/Rate/USD/IDR/10-1-2020\">14,822.66605</a> IDR</td><td class=\"text-narrow-screen-hidden\"><a href=\"/Rate/USD/IDR/10-1-2020\">USD IDR rate for 10/1/2020</a></td></tr>,\n",
       " <tr><td>9/30/2020</td><td>Wednesday</td><td><a href=\"/Rate/USD/IDR/9-30-2020\">14,867.44686</a> IDR</td><td class=\"text-narrow-screen-hidden\"><a href=\"/Rate/USD/IDR/9-30-2020\">USD IDR rate for 9/30/2020</a></td></tr>,\n",
       " <tr><td>9/29/2020</td><td>Tuesday</td><td><a href=\"/Rate/USD/IDR/9-29-2020\">14,880.93210</a> IDR</td><td class=\"text-narrow-screen-hidden\"><a href=\"/Rate/USD/IDR/9-29-2020\">USD IDR rate for 9/29/2020</a></td></tr>,\n",
       " <tr><td>9/28/2020</td><td>Monday</td><td><a href=\"/Rate/USD/IDR/9-28-2020\">14,892.32194</a> IDR</td><td class=\"text-narrow-screen-hidden\"><a href=\"/Rate/USD/IDR/9-28-2020\">USD IDR rate for 9/28/2020</a></td></tr>,\n",
       " <tr><td>9/27/2020</td><td>Sunday</td><td><a href=\"/Rate/USD/IDR/9-27-2020\">14,859.98349</a> IDR</td><td class=\"text-narrow-screen-hidden\"><a href=\"/Rate/USD/IDR/9-27-2020\">USD IDR rate for 9/27/2020</a></td></tr>,\n",
       " <tr><td>9/25/2020</td><td>Friday</td><td><a href=\"/Rate/USD/IDR/9-25-2020\">14,855.63943</a> IDR</td><td class=\"text-narrow-screen-hidden\"><a href=\"/Rate/USD/IDR/9-25-2020\">USD IDR rate for 9/25/2020</a></td></tr>,\n",
       " <tr><td>9/24/2020</td><td>Thursday</td><td><a href=\"/Rate/USD/IDR/9-24-2020\">14,888.78607</a> IDR</td><td class=\"text-narrow-screen-hidden\"><a href=\"/Rate/USD/IDR/9-24-2020\">USD IDR rate for 9/24/2020</a></td></tr>,\n",
       " <tr><td>9/23/2020</td><td>Wednesday</td><td><a href=\"/Rate/USD/IDR/9-23-2020\">14,825.54899</a> IDR</td><td class=\"text-narrow-screen-hidden\"><a href=\"/Rate/USD/IDR/9-23-2020\">USD IDR rate for 9/23/2020</a></td></tr>]"
      ]
     },
     "metadata": {},
     "execution_count": 6
    }
   ],
   "source": [
    "tr = table.find_all('tr', attrs={'class':\"\"})\n",
    "tr"
   ]
  },
  {
   "cell_type": "code",
   "execution_count": 7,
   "metadata": {},
   "outputs": [
    {
     "output_type": "execute_result",
     "data": {
      "text/plain": [
       "[('3/19/2021', 'Friday', '14,409.66972 IDR', 'USD IDR rate for 3/19/2021'),\n",
       " ('3/18/2021', 'Thursday', '14,423.29934 IDR', 'USD IDR rate for 3/18/2021'),\n",
       " ('3/17/2021', 'Wednesday', '14,346.28612 IDR', 'USD IDR rate for 3/17/2021'),\n",
       " ('3/16/2021', 'Tuesday', '14,407.76927 IDR', 'USD IDR rate for 3/16/2021'),\n",
       " ('3/15/2021', 'Monday', '14,423.68150 IDR', 'USD IDR rate for 3/15/2021'),\n",
       " ('3/12/2021', 'Friday', '14,393.57497 IDR', 'USD IDR rate for 3/12/2021'),\n",
       " ('3/11/2021', 'Thursday', '14,319.87571 IDR', 'USD IDR rate for 3/11/2021'),\n",
       " ('3/10/2021', 'Wednesday', '14,387.89293 IDR', 'USD IDR rate for 3/10/2021'),\n",
       " ('3/9/2021', 'Tuesday', '14,396.25662 IDR', 'USD IDR rate for 3/9/2021'),\n",
       " ('3/8/2021', 'Monday', '14,374.33106 IDR', 'USD IDR rate for 3/8/2021'),\n",
       " ('3/5/2021', 'Friday', '14,292.17893 IDR', 'USD IDR rate for 3/5/2021'),\n",
       " ('3/4/2021', 'Thursday', '14,261.85426 IDR', 'USD IDR rate for 3/4/2021'),\n",
       " ('3/3/2021', 'Wednesday', '14,257.29443 IDR', 'USD IDR rate for 3/3/2021'),\n",
       " ('3/2/2021', 'Tuesday', '14,256.28041 IDR', 'USD IDR rate for 3/2/2021'),\n",
       " ('3/1/2021', 'Monday', '14,248.60576 IDR', 'USD IDR rate for 3/1/2021'),\n",
       " ('2/26/2021', 'Friday', '14,300.27815 IDR', 'USD IDR rate for 2/26/2021'),\n",
       " ('2/25/2021', 'Thursday', '14,139.73096 IDR', 'USD IDR rate for 2/25/2021'),\n",
       " ('2/24/2021', 'Wednesday', '14,083.03673 IDR', 'USD IDR rate for 2/24/2021'),\n",
       " ('2/23/2021', 'Tuesday', '14,092.64503 IDR', 'USD IDR rate for 2/23/2021'),\n",
       " ('2/22/2021', 'Monday', '14,118.07274 IDR', 'USD IDR rate for 2/22/2021'),\n",
       " ('2/19/2021', 'Friday', '14,066.79375 IDR', 'USD IDR rate for 2/19/2021'),\n",
       " ('2/18/2021', 'Thursday', '14,013.51318 IDR', 'USD IDR rate for 2/18/2021'),\n",
       " ('2/17/2021', 'Wednesday', '14,015.16095 IDR', 'USD IDR rate for 2/17/2021'),\n",
       " ('2/16/2021', 'Tuesday', '13,935.96629 IDR', 'USD IDR rate for 2/16/2021'),\n",
       " ('2/15/2021', 'Monday', '13,918.18725 IDR', 'USD IDR rate for 2/15/2021'),\n",
       " ('2/12/2021', 'Friday', '13,988.54710 IDR', 'USD IDR rate for 2/12/2021'),\n",
       " ('2/11/2021', 'Thursday', '13,982.27900 IDR', 'USD IDR rate for 2/11/2021'),\n",
       " ('2/10/2021', 'Wednesday', '13,994.09212 IDR', 'USD IDR rate for 2/10/2021'),\n",
       " ('2/9/2021', 'Tuesday', '13,920.52018 IDR', 'USD IDR rate for 2/9/2021'),\n",
       " ('2/8/2021', 'Monday', '14,007.25257 IDR', 'USD IDR rate for 2/8/2021'),\n",
       " ('2/5/2021', 'Friday', '14,008.99630 IDR', 'USD IDR rate for 2/5/2021'),\n",
       " ('2/4/2021', 'Thursday', '14,020.87878 IDR', 'USD IDR rate for 2/4/2021'),\n",
       " ('2/3/2021', 'Wednesday', '13,997.60682 IDR', 'USD IDR rate for 2/3/2021'),\n",
       " ('2/2/2021', 'Tuesday', '14,004.60175 IDR', 'USD IDR rate for 2/2/2021'),\n",
       " ('2/1/2021', 'Monday', '14,025.27450 IDR', 'USD IDR rate for 2/1/2021'),\n",
       " ('1/29/2021', 'Friday', '14,027.32457 IDR', 'USD IDR rate for 1/29/2021'),\n",
       " ('1/28/2021', 'Thursday', '14,048.06146 IDR', 'USD IDR rate for 1/28/2021'),\n",
       " ('1/27/2021', 'Wednesday', '14,048.72649 IDR', 'USD IDR rate for 1/27/2021'),\n",
       " ('1/26/2021', 'Tuesday', '14,062.91108 IDR', 'USD IDR rate for 1/26/2021'),\n",
       " ('1/25/2021', 'Monday', '14,021.11609 IDR', 'USD IDR rate for 1/25/2021'),\n",
       " ('1/22/2021', 'Friday', '14,025.60268 IDR', 'USD IDR rate for 1/22/2021'),\n",
       " ('1/21/2021', 'Thursday', '13,964.91920 IDR', 'USD IDR rate for 1/21/2021'),\n",
       " ('1/20/2021', 'Wednesday', '14,021.43046 IDR', 'USD IDR rate for 1/20/2021'),\n",
       " ('1/19/2021', 'Tuesday', '14,063.60877 IDR', 'USD IDR rate for 1/19/2021'),\n",
       " ('1/18/2021', 'Monday', '14,055.43768 IDR', 'USD IDR rate for 1/18/2021'),\n",
       " ('1/15/2021', 'Friday', '14,153.46654 IDR', 'USD IDR rate for 1/15/2021'),\n",
       " ('1/14/2021', 'Thursday', '14,070.58746 IDR', 'USD IDR rate for 1/14/2021'),\n",
       " ('1/13/2021', 'Wednesday', '14,125.90174 IDR', 'USD IDR rate for 1/13/2021'),\n",
       " ('1/12/2021', 'Tuesday', '14,074.81444 IDR', 'USD IDR rate for 1/12/2021'),\n",
       " ('1/11/2021', 'Monday', '14,137.24151 IDR', 'USD IDR rate for 1/11/2021'),\n",
       " ('1/8/2021', 'Friday', '13,991.16348 IDR', 'USD IDR rate for 1/8/2021'),\n",
       " ('1/7/2021', 'Thursday', '13,905.64377 IDR', 'USD IDR rate for 1/7/2021'),\n",
       " ('1/6/2021', 'Wednesday', '13,861.51463 IDR', 'USD IDR rate for 1/6/2021'),\n",
       " ('1/5/2021', 'Tuesday', '13,906.05686 IDR', 'USD IDR rate for 1/5/2021'),\n",
       " ('1/4/2021', 'Monday', '14,015.86887 IDR', 'USD IDR rate for 1/4/2021'),\n",
       " ('1/1/2021', 'Friday', '14,213.67526 IDR', 'USD IDR rate for 1/1/2021'),\n",
       " ('12/31/2020', 'Thursday', '14,120.57461 IDR', 'USD IDR rate for 12/31/2020'),\n",
       " ('12/30/2020',\n",
       "  'Wednesday',\n",
       "  '14,020.01350 IDR',\n",
       "  'USD IDR rate for 12/30/2020'),\n",
       " ('12/29/2020', 'Tuesday', '14,108.18177 IDR', 'USD IDR rate for 12/29/2020'),\n",
       " ('12/28/2020', 'Monday', '14,139.81753 IDR', 'USD IDR rate for 12/28/2020'),\n",
       " ('12/25/2020', 'Friday', '14,211.65343 IDR', 'USD IDR rate for 12/25/2020'),\n",
       " ('12/24/2020', 'Thursday', '14,188.41293 IDR', 'USD IDR rate for 12/24/2020'),\n",
       " ('12/23/2020',\n",
       "  'Wednesday',\n",
       "  '14,183.64082 IDR',\n",
       "  'USD IDR rate for 12/23/2020'),\n",
       " ('12/22/2020', 'Tuesday', '14,164.98134 IDR', 'USD IDR rate for 12/22/2020'),\n",
       " ('12/21/2020', 'Monday', '14,124.20148 IDR', 'USD IDR rate for 12/21/2020'),\n",
       " ('12/18/2020', 'Friday', '14,101.05758 IDR', 'USD IDR rate for 12/18/2020'),\n",
       " ('12/17/2020', 'Thursday', '14,101.72807 IDR', 'USD IDR rate for 12/17/2020'),\n",
       " ('12/16/2020',\n",
       "  'Wednesday',\n",
       "  '14,084.50704 IDR',\n",
       "  'USD IDR rate for 12/16/2020'),\n",
       " ('12/15/2020', 'Tuesday', '14,124.19150 IDR', 'USD IDR rate for 12/15/2020'),\n",
       " ('12/14/2020', 'Monday', '14,087.17417 IDR', 'USD IDR rate for 12/14/2020'),\n",
       " ('12/11/2020', 'Friday', '14,076.36739 IDR', 'USD IDR rate for 12/11/2020'),\n",
       " ('12/10/2020', 'Thursday', '14,103.70444 IDR', 'USD IDR rate for 12/10/2020'),\n",
       " ('12/9/2020', 'Wednesday', '14,096.39851 IDR', 'USD IDR rate for 12/9/2020'),\n",
       " ('12/8/2020', 'Tuesday', '14,105.04229 IDR', 'USD IDR rate for 12/8/2020'),\n",
       " ('12/7/2020', 'Monday', '14,103.58039 IDR', 'USD IDR rate for 12/7/2020'),\n",
       " ('12/4/2020', 'Friday', '14,092.75807 IDR', 'USD IDR rate for 12/4/2020'),\n",
       " ('12/3/2020', 'Thursday', '14,109.15139 IDR', 'USD IDR rate for 12/3/2020'),\n",
       " ('12/2/2020', 'Wednesday', '14,094.65785 IDR', 'USD IDR rate for 12/2/2020'),\n",
       " ('12/1/2020', 'Tuesday', '14,118.51435 IDR', 'USD IDR rate for 12/1/2020'),\n",
       " ('11/30/2020', 'Monday', '14,114.11663 IDR', 'USD IDR rate for 11/30/2020'),\n",
       " ('11/27/2020', 'Friday', '14,078.12448 IDR', 'USD IDR rate for 11/27/2020'),\n",
       " ('11/26/2020', 'Thursday', '14,090.70769 IDR', 'USD IDR rate for 11/26/2020'),\n",
       " ('11/25/2020',\n",
       "  'Wednesday',\n",
       "  '14,136.09929 IDR',\n",
       "  'USD IDR rate for 11/25/2020'),\n",
       " ('11/24/2020', 'Tuesday', '14,137.48161 IDR', 'USD IDR rate for 11/24/2020'),\n",
       " ('11/23/2020', 'Monday', '14,185.57119 IDR', 'USD IDR rate for 11/23/2020'),\n",
       " ('11/20/2020', 'Friday', '14,162.60519 IDR', 'USD IDR rate for 11/20/2020'),\n",
       " ('11/19/2020', 'Thursday', '14,165.50144 IDR', 'USD IDR rate for 11/19/2020'),\n",
       " ('11/18/2020',\n",
       "  'Wednesday',\n",
       "  '14,051.29503 IDR',\n",
       "  'USD IDR rate for 11/18/2020'),\n",
       " ('11/17/2020', 'Tuesday', '14,040.16051 IDR', 'USD IDR rate for 11/17/2020'),\n",
       " ('11/16/2020', 'Monday', '14,085.69501 IDR', 'USD IDR rate for 11/16/2020'),\n",
       " ('11/13/2020', 'Friday', '14,142.77143 IDR', 'USD IDR rate for 11/13/2020'),\n",
       " ('11/12/2020', 'Thursday', '14,141.24303 IDR', 'USD IDR rate for 11/12/2020'),\n",
       " ('11/11/2020',\n",
       "  'Wednesday',\n",
       "  '14,073.46024 IDR',\n",
       "  'USD IDR rate for 11/11/2020'),\n",
       " ('11/10/2020', 'Tuesday', '14,053.76135 IDR', 'USD IDR rate for 11/10/2020'),\n",
       " ('11/9/2020', 'Monday', '14,283.29667 IDR', 'USD IDR rate for 11/9/2020'),\n",
       " ('11/6/2020', 'Friday', '14,214.49744 IDR', 'USD IDR rate for 11/6/2020'),\n",
       " ('11/5/2020', 'Thursday', '14,389.14027 IDR', 'USD IDR rate for 11/5/2020'),\n",
       " ('11/4/2020', 'Wednesday', '14,544.44634 IDR', 'USD IDR rate for 11/4/2020'),\n",
       " ('11/3/2020', 'Tuesday', '14,589.01774 IDR', 'USD IDR rate for 11/3/2020'),\n",
       " ('11/2/2020', 'Monday', '14,612.89990 IDR', 'USD IDR rate for 11/2/2020'),\n",
       " ('10/30/2020', 'Friday', '14,629.16216 IDR', 'USD IDR rate for 10/30/2020'),\n",
       " ('10/29/2020', 'Thursday', '14,701.62361 IDR', 'USD IDR rate for 10/29/2020'),\n",
       " ('10/28/2020',\n",
       "  'Wednesday',\n",
       "  '14,701.92586 IDR',\n",
       "  'USD IDR rate for 10/28/2020'),\n",
       " ('10/27/2020', 'Tuesday', '14,649.78960 IDR', 'USD IDR rate for 10/27/2020'),\n",
       " ('10/26/2020', 'Monday', '14,652.88010 IDR', 'USD IDR rate for 10/26/2020'),\n",
       " ('10/23/2020', 'Friday', '14,655.04157 IDR', 'USD IDR rate for 10/23/2020'),\n",
       " ('10/22/2020', 'Thursday', '14,647.90877 IDR', 'USD IDR rate for 10/22/2020'),\n",
       " ('10/21/2020',\n",
       "  'Wednesday',\n",
       "  '14,641.61060 IDR',\n",
       "  'USD IDR rate for 10/21/2020'),\n",
       " ('10/20/2020', 'Tuesday', '14,555.88071 IDR', 'USD IDR rate for 10/20/2020'),\n",
       " ('10/19/2020', 'Monday', '14,705.13256 IDR', 'USD IDR rate for 10/19/2020'),\n",
       " ('10/16/2020', 'Friday', '14,688.43616 IDR', 'USD IDR rate for 10/16/2020'),\n",
       " ('10/15/2020', 'Thursday', '14,667.95340 IDR', 'USD IDR rate for 10/15/2020'),\n",
       " ('10/14/2020',\n",
       "  'Wednesday',\n",
       "  '14,696.21912 IDR',\n",
       "  'USD IDR rate for 10/14/2020'),\n",
       " ('10/13/2020', 'Tuesday', '14,687.35100 IDR', 'USD IDR rate for 10/13/2020'),\n",
       " ('10/12/2020', 'Monday', '14,677.85296 IDR', 'USD IDR rate for 10/12/2020'),\n",
       " ('10/9/2020', 'Friday', '14,679.27910 IDR', 'USD IDR rate for 10/9/2020'),\n",
       " ('10/8/2020', 'Thursday', '14,692.93025 IDR', 'USD IDR rate for 10/8/2020'),\n",
       " ('10/7/2020', 'Wednesday', '14,705.58246 IDR', 'USD IDR rate for 10/7/2020'),\n",
       " ('10/6/2020', 'Tuesday', '14,857.67854 IDR', 'USD IDR rate for 10/6/2020'),\n",
       " ('10/5/2020', 'Monday', '14,797.90178 IDR', 'USD IDR rate for 10/5/2020'),\n",
       " ('10/2/2020', 'Friday', '14,852.30483 IDR', 'USD IDR rate for 10/2/2020'),\n",
       " ('10/1/2020', 'Thursday', '14,822.66605 IDR', 'USD IDR rate for 10/1/2020'),\n",
       " ('9/30/2020', 'Wednesday', '14,867.44686 IDR', 'USD IDR rate for 9/30/2020'),\n",
       " ('9/29/2020', 'Tuesday', '14,880.93210 IDR', 'USD IDR rate for 9/29/2020'),\n",
       " ('9/28/2020', 'Monday', '14,892.32194 IDR', 'USD IDR rate for 9/28/2020'),\n",
       " ('9/27/2020', 'Sunday', '14,859.98349 IDR', 'USD IDR rate for 9/27/2020'),\n",
       " ('9/25/2020', 'Friday', '14,855.63943 IDR', 'USD IDR rate for 9/25/2020'),\n",
       " ('9/24/2020', 'Thursday', '14,888.78607 IDR', 'USD IDR rate for 9/24/2020'),\n",
       " ('9/23/2020', 'Wednesday', '14,825.54899 IDR', 'USD IDR rate for 9/23/2020')]"
      ]
     },
     "metadata": {},
     "execution_count": 7
    }
   ],
   "source": [
    "temp = [] #initiating a tuple\n",
    "\n",
    "for i in range(1, len(tr)):\n",
    "    row = table.find_all('tr',attrs={'class':\"\"})[i]\n",
    "    \n",
    "    #get tanggal\n",
    "    date = row.find_all('td')[0].text\n",
    "    date = date.strip()\n",
    "    \n",
    "    #get hari\n",
    "    day = row.find_all('td')[1].text\n",
    "    day = day.strip()\n",
    "    \n",
    "    #get nilai uang\n",
    "    value = row.find_all('td')[2].text\n",
    "    value = value.strip()\n",
    "    \n",
    "    #get tulisan\n",
    "    note = row.find_all('td')[3].text\n",
    "    note = note.strip()\n",
    "    \n",
    "    temp.append((date, day, value, note))\n",
    "    \n",
    "temp"
   ]
  },
  {
   "cell_type": "code",
   "execution_count": null,
   "metadata": {},
   "outputs": [],
   "source": []
  },
  {
   "cell_type": "markdown",
   "metadata": {},
   "source": [
    "## Creating data frame & Data wrangling"
   ]
  },
  {
   "cell_type": "markdown",
   "metadata": {},
   "source": [
    "Put the array into dataframe"
   ]
  },
  {
   "cell_type": "code",
   "execution_count": 8,
   "metadata": {
    "ExecuteTime": {
     "end_time": "2020-01-13T05:12:41.517372Z",
     "start_time": "2020-01-13T05:12:29.130015Z"
    }
   },
   "outputs": [
    {
     "output_type": "execute_result",
     "data": {
      "text/plain": [
       "Date    datetime64[ns]\n",
       "Day             object\n",
       "IDR            float64\n",
       "Note            object\n",
       "dtype: object"
      ]
     },
     "metadata": {},
     "execution_count": 8
    }
   ],
   "source": [
    "import pandas as pd\n",
    "\n",
    "df = pd.DataFrame(temp, columns=('Date','Day','IDR','Note'))\n",
    "df['IDR'] = df['IDR'].replace('IDR','',regex=True).replace(',',\"\",regex=True)\n",
    "df['IDR'] = df['IDR'].astype('float64')\n",
    "df['Date'] = df['Date'].astype('datetime64')\n",
    "df.dtypes"
   ]
  },
  {
   "cell_type": "markdown",
   "metadata": {},
   "source": [
    "Do the data cleaning here (please change this markdown with your explanation of what you do for data wrangling)"
   ]
  },
  {
   "cell_type": "code",
   "execution_count": 9,
   "metadata": {
    "ExecuteTime": {
     "end_time": "2020-01-13T05:12:59.165559Z",
     "start_time": "2020-01-13T05:12:58.910012Z"
    }
   },
   "outputs": [
    {
     "output_type": "execute_result",
     "data": {
      "text/plain": [
       "                    IDR\n",
       "Date                   \n",
       "2021-03-19  14409.66972\n",
       "2021-03-18  14423.29934\n",
       "2021-03-17  14346.28612\n",
       "2021-03-16  14407.76927\n",
       "2021-03-15  14423.68150\n",
       "...                 ...\n",
       "2020-09-28  14892.32194\n",
       "2020-09-27  14859.98349\n",
       "2020-09-25  14855.63943\n",
       "2020-09-24  14888.78607\n",
       "2020-09-23  14825.54899\n",
       "\n",
       "[129 rows x 1 columns]"
      ],
      "text/html": "<div>\n<style scoped>\n    .dataframe tbody tr th:only-of-type {\n        vertical-align: middle;\n    }\n\n    .dataframe tbody tr th {\n        vertical-align: top;\n    }\n\n    .dataframe thead th {\n        text-align: right;\n    }\n</style>\n<table border=\"1\" class=\"dataframe\">\n  <thead>\n    <tr style=\"text-align: right;\">\n      <th></th>\n      <th>IDR</th>\n    </tr>\n    <tr>\n      <th>Date</th>\n      <th></th>\n    </tr>\n  </thead>\n  <tbody>\n    <tr>\n      <th>2021-03-19</th>\n      <td>14409.66972</td>\n    </tr>\n    <tr>\n      <th>2021-03-18</th>\n      <td>14423.29934</td>\n    </tr>\n    <tr>\n      <th>2021-03-17</th>\n      <td>14346.28612</td>\n    </tr>\n    <tr>\n      <th>2021-03-16</th>\n      <td>14407.76927</td>\n    </tr>\n    <tr>\n      <th>2021-03-15</th>\n      <td>14423.68150</td>\n    </tr>\n    <tr>\n      <th>...</th>\n      <td>...</td>\n    </tr>\n    <tr>\n      <th>2020-09-28</th>\n      <td>14892.32194</td>\n    </tr>\n    <tr>\n      <th>2020-09-27</th>\n      <td>14859.98349</td>\n    </tr>\n    <tr>\n      <th>2020-09-25</th>\n      <td>14855.63943</td>\n    </tr>\n    <tr>\n      <th>2020-09-24</th>\n      <td>14888.78607</td>\n    </tr>\n    <tr>\n      <th>2020-09-23</th>\n      <td>14825.54899</td>\n    </tr>\n  </tbody>\n</table>\n<p>129 rows × 1 columns</p>\n</div>"
     },
     "metadata": {},
     "execution_count": 9
    }
   ],
   "source": [
    "Exchanges = df[['IDR']].set_index(df.Date).sort_values(by='Date', ascending=False)\n",
    "Exchanges"
   ]
  },
  {
   "cell_type": "markdown",
   "metadata": {},
   "source": [
    "### Implementing your webscrapping to the flask dashboard\n",
    "\n",
    "- Copy paste all of your web scrapping process to the desired position on the `app.py`\n",
    "- Changing the title of the dasboard at `index.html`"
   ]
  },
  {
   "cell_type": "markdown",
   "metadata": {},
   "source": [
    "## Finishing This Notebook with Your Analysis and Conclusion\n",
    "\n",
    "First you can do start with making the data visualisation. "
   ]
  },
  {
   "cell_type": "code",
   "execution_count": 10,
   "metadata": {
    "ExecuteTime": {
     "end_time": "2020-01-13T05:20:56.208237Z",
     "start_time": "2020-01-13T05:20:56.076043Z"
    }
   },
   "outputs": [
    {
     "output_type": "execute_result",
     "data": {
      "text/plain": [
       "Text(0, 0.5, 'IDR')"
      ]
     },
     "metadata": {},
     "execution_count": 10
    },
    {
     "output_type": "display_data",
     "data": {
      "text/plain": "<Figure size 720x360 with 1 Axes>",
      "image/svg+xml": "<?xml version=\"1.0\" encoding=\"utf-8\" standalone=\"no\"?>\n<!DOCTYPE svg PUBLIC \"-//W3C//DTD SVG 1.1//EN\"\n  \"http://www.w3.org/Graphics/SVG/1.1/DTD/svg11.dtd\">\n<!-- Created with matplotlib (https://matplotlib.org/) -->\n<svg height=\"324.269158pt\" version=\"1.1\" viewBox=\"0 0 624.890625 324.269158\" width=\"624.890625pt\" xmlns=\"http://www.w3.org/2000/svg\" xmlns:xlink=\"http://www.w3.org/1999/xlink\">\n <defs>\n  <style type=\"text/css\">\n*{stroke-linecap:butt;stroke-linejoin:round;}\n  </style>\n </defs>\n <g id=\"figure_1\">\n  <g id=\"patch_1\">\n   <path d=\"M 0 324.269158 \nL 624.890625 324.269158 \nL 624.890625 0 \nL 0 0 \nz\n\" style=\"fill:none;\"/>\n  </g>\n  <g id=\"axes_1\">\n   <g id=\"patch_2\">\n    <path d=\"M 59.690625 267.118125 \nL 617.690625 267.118125 \nL 617.690625 22.318125 \nL 59.690625 22.318125 \nz\n\" style=\"fill:#ffffff;\"/>\n   </g>\n   <g id=\"matplotlib.axis_1\">\n    <g id=\"xtick_1\">\n     <g id=\"line2d_1\">\n      <defs>\n       <path d=\"M 0 0 \nL 0 3.5 \n\" id=\"m42ab9fac1a\" style=\"stroke:#000000;stroke-width:0.8;\"/>\n      </defs>\n      <g>\n       <use style=\"stroke:#000000;stroke-width:0.8;\" x=\"107.981842\" xlink:href=\"#m42ab9fac1a\" y=\"267.118125\"/>\n      </g>\n     </g>\n     <g id=\"text_1\">\n      <!-- 2020-10 -->\n      <defs>\n       <path d=\"M 19.1875 8.296875 \nL 53.609375 8.296875 \nL 53.609375 0 \nL 7.328125 0 \nL 7.328125 8.296875 \nQ 12.9375 14.109375 22.625 23.890625 \nQ 32.328125 33.6875 34.8125 36.53125 \nQ 39.546875 41.84375 41.421875 45.53125 \nQ 43.3125 49.21875 43.3125 52.78125 \nQ 43.3125 58.59375 39.234375 62.25 \nQ 35.15625 65.921875 28.609375 65.921875 \nQ 23.96875 65.921875 18.8125 64.3125 \nQ 13.671875 62.703125 7.8125 59.421875 \nL 7.8125 69.390625 \nQ 13.765625 71.78125 18.9375 73 \nQ 24.125 74.21875 28.421875 74.21875 \nQ 39.75 74.21875 46.484375 68.546875 \nQ 53.21875 62.890625 53.21875 53.421875 \nQ 53.21875 48.921875 51.53125 44.890625 \nQ 49.859375 40.875 45.40625 35.40625 \nQ 44.1875 33.984375 37.640625 27.21875 \nQ 31.109375 20.453125 19.1875 8.296875 \nz\n\" id=\"DejaVuSans-50\"/>\n       <path d=\"M 31.78125 66.40625 \nQ 24.171875 66.40625 20.328125 58.90625 \nQ 16.5 51.421875 16.5 36.375 \nQ 16.5 21.390625 20.328125 13.890625 \nQ 24.171875 6.390625 31.78125 6.390625 \nQ 39.453125 6.390625 43.28125 13.890625 \nQ 47.125 21.390625 47.125 36.375 \nQ 47.125 51.421875 43.28125 58.90625 \nQ 39.453125 66.40625 31.78125 66.40625 \nz\nM 31.78125 74.21875 \nQ 44.046875 74.21875 50.515625 64.515625 \nQ 56.984375 54.828125 56.984375 36.375 \nQ 56.984375 17.96875 50.515625 8.265625 \nQ 44.046875 -1.421875 31.78125 -1.421875 \nQ 19.53125 -1.421875 13.0625 8.265625 \nQ 6.59375 17.96875 6.59375 36.375 \nQ 6.59375 54.828125 13.0625 64.515625 \nQ 19.53125 74.21875 31.78125 74.21875 \nz\n\" id=\"DejaVuSans-48\"/>\n       <path d=\"M 4.890625 31.390625 \nL 31.203125 31.390625 \nL 31.203125 23.390625 \nL 4.890625 23.390625 \nz\n\" id=\"DejaVuSans-45\"/>\n       <path d=\"M 12.40625 8.296875 \nL 28.515625 8.296875 \nL 28.515625 63.921875 \nL 10.984375 60.40625 \nL 10.984375 69.390625 \nL 28.421875 72.90625 \nL 38.28125 72.90625 \nL 38.28125 8.296875 \nL 54.390625 8.296875 \nL 54.390625 0 \nL 12.40625 0 \nz\n\" id=\"DejaVuSans-49\"/>\n      </defs>\n      <g transform=\"translate(70.757021 301.589971)rotate(-30)scale(0.1 -0.1)\">\n       <use xlink:href=\"#DejaVuSans-50\"/>\n       <use x=\"63.623047\" xlink:href=\"#DejaVuSans-48\"/>\n       <use x=\"127.246094\" xlink:href=\"#DejaVuSans-50\"/>\n       <use x=\"190.869141\" xlink:href=\"#DejaVuSans-48\"/>\n       <use x=\"254.492188\" xlink:href=\"#DejaVuSans-45\"/>\n       <use x=\"290.576172\" xlink:href=\"#DejaVuSans-49\"/>\n       <use x=\"354.199219\" xlink:href=\"#DejaVuSans-48\"/>\n      </g>\n     </g>\n    </g>\n    <g id=\"xtick_2\">\n     <g id=\"line2d_2\">\n      <g>\n       <use style=\"stroke:#000000;stroke-width:0.8;\" x=\"196.826218\" xlink:href=\"#m42ab9fac1a\" y=\"267.118125\"/>\n      </g>\n     </g>\n     <g id=\"text_2\">\n      <!-- 2020-11 -->\n      <g transform=\"translate(159.601397 301.589971)rotate(-30)scale(0.1 -0.1)\">\n       <use xlink:href=\"#DejaVuSans-50\"/>\n       <use x=\"63.623047\" xlink:href=\"#DejaVuSans-48\"/>\n       <use x=\"127.246094\" xlink:href=\"#DejaVuSans-50\"/>\n       <use x=\"190.869141\" xlink:href=\"#DejaVuSans-48\"/>\n       <use x=\"254.492188\" xlink:href=\"#DejaVuSans-45\"/>\n       <use x=\"290.576172\" xlink:href=\"#DejaVuSans-49\"/>\n       <use x=\"354.199219\" xlink:href=\"#DejaVuSans-49\"/>\n      </g>\n     </g>\n    </g>\n    <g id=\"xtick_3\">\n     <g id=\"line2d_3\">\n      <g>\n       <use style=\"stroke:#000000;stroke-width:0.8;\" x=\"282.804647\" xlink:href=\"#m42ab9fac1a\" y=\"267.118125\"/>\n      </g>\n     </g>\n     <g id=\"text_3\">\n      <!-- 2020-12 -->\n      <g transform=\"translate(245.579826 301.589971)rotate(-30)scale(0.1 -0.1)\">\n       <use xlink:href=\"#DejaVuSans-50\"/>\n       <use x=\"63.623047\" xlink:href=\"#DejaVuSans-48\"/>\n       <use x=\"127.246094\" xlink:href=\"#DejaVuSans-50\"/>\n       <use x=\"190.869141\" xlink:href=\"#DejaVuSans-48\"/>\n       <use x=\"254.492188\" xlink:href=\"#DejaVuSans-45\"/>\n       <use x=\"290.576172\" xlink:href=\"#DejaVuSans-49\"/>\n       <use x=\"354.199219\" xlink:href=\"#DejaVuSans-50\"/>\n      </g>\n     </g>\n    </g>\n    <g id=\"xtick_4\">\n     <g id=\"line2d_4\">\n      <g>\n       <use style=\"stroke:#000000;stroke-width:0.8;\" x=\"371.649023\" xlink:href=\"#m42ab9fac1a\" y=\"267.118125\"/>\n      </g>\n     </g>\n     <g id=\"text_4\">\n      <!-- 2021-01 -->\n      <g transform=\"translate(334.424202 301.589971)rotate(-30)scale(0.1 -0.1)\">\n       <use xlink:href=\"#DejaVuSans-50\"/>\n       <use x=\"63.623047\" xlink:href=\"#DejaVuSans-48\"/>\n       <use x=\"127.246094\" xlink:href=\"#DejaVuSans-50\"/>\n       <use x=\"190.869141\" xlink:href=\"#DejaVuSans-49\"/>\n       <use x=\"254.492188\" xlink:href=\"#DejaVuSans-45\"/>\n       <use x=\"290.576172\" xlink:href=\"#DejaVuSans-48\"/>\n       <use x=\"354.199219\" xlink:href=\"#DejaVuSans-49\"/>\n      </g>\n     </g>\n    </g>\n    <g id=\"xtick_5\">\n     <g id=\"line2d_5\">\n      <g>\n       <use style=\"stroke:#000000;stroke-width:0.8;\" x=\"460.493398\" xlink:href=\"#m42ab9fac1a\" y=\"267.118125\"/>\n      </g>\n     </g>\n     <g id=\"text_5\">\n      <!-- 2021-02 -->\n      <g transform=\"translate(423.268578 301.589971)rotate(-30)scale(0.1 -0.1)\">\n       <use xlink:href=\"#DejaVuSans-50\"/>\n       <use x=\"63.623047\" xlink:href=\"#DejaVuSans-48\"/>\n       <use x=\"127.246094\" xlink:href=\"#DejaVuSans-50\"/>\n       <use x=\"190.869141\" xlink:href=\"#DejaVuSans-49\"/>\n       <use x=\"254.492188\" xlink:href=\"#DejaVuSans-45\"/>\n       <use x=\"290.576172\" xlink:href=\"#DejaVuSans-48\"/>\n       <use x=\"354.199219\" xlink:href=\"#DejaVuSans-50\"/>\n      </g>\n     </g>\n    </g>\n    <g id=\"xtick_6\">\n     <g id=\"line2d_6\">\n      <g>\n       <use style=\"stroke:#000000;stroke-width:0.8;\" x=\"540.739932\" xlink:href=\"#m42ab9fac1a\" y=\"267.118125\"/>\n      </g>\n     </g>\n     <g id=\"text_6\">\n      <!-- 2021-03 -->\n      <defs>\n       <path d=\"M 40.578125 39.3125 \nQ 47.65625 37.796875 51.625 33 \nQ 55.609375 28.21875 55.609375 21.1875 \nQ 55.609375 10.40625 48.1875 4.484375 \nQ 40.765625 -1.421875 27.09375 -1.421875 \nQ 22.515625 -1.421875 17.65625 -0.515625 \nQ 12.796875 0.390625 7.625 2.203125 \nL 7.625 11.71875 \nQ 11.71875 9.328125 16.59375 8.109375 \nQ 21.484375 6.890625 26.8125 6.890625 \nQ 36.078125 6.890625 40.9375 10.546875 \nQ 45.796875 14.203125 45.796875 21.1875 \nQ 45.796875 27.640625 41.28125 31.265625 \nQ 36.765625 34.90625 28.71875 34.90625 \nL 20.21875 34.90625 \nL 20.21875 43.015625 \nL 29.109375 43.015625 \nQ 36.375 43.015625 40.234375 45.921875 \nQ 44.09375 48.828125 44.09375 54.296875 \nQ 44.09375 59.90625 40.109375 62.90625 \nQ 36.140625 65.921875 28.71875 65.921875 \nQ 24.65625 65.921875 20.015625 65.03125 \nQ 15.375 64.15625 9.8125 62.3125 \nL 9.8125 71.09375 \nQ 15.4375 72.65625 20.34375 73.4375 \nQ 25.25 74.21875 29.59375 74.21875 \nQ 40.828125 74.21875 47.359375 69.109375 \nQ 53.90625 64.015625 53.90625 55.328125 \nQ 53.90625 49.265625 50.4375 45.09375 \nQ 46.96875 40.921875 40.578125 39.3125 \nz\n\" id=\"DejaVuSans-51\"/>\n      </defs>\n      <g transform=\"translate(503.515111 301.589971)rotate(-30)scale(0.1 -0.1)\">\n       <use xlink:href=\"#DejaVuSans-50\"/>\n       <use x=\"63.623047\" xlink:href=\"#DejaVuSans-48\"/>\n       <use x=\"127.246094\" xlink:href=\"#DejaVuSans-50\"/>\n       <use x=\"190.869141\" xlink:href=\"#DejaVuSans-49\"/>\n       <use x=\"254.492188\" xlink:href=\"#DejaVuSans-45\"/>\n       <use x=\"290.576172\" xlink:href=\"#DejaVuSans-48\"/>\n       <use x=\"354.199219\" xlink:href=\"#DejaVuSans-51\"/>\n      </g>\n     </g>\n    </g>\n    <g id=\"text_7\">\n     <!-- Date -->\n     <defs>\n      <path d=\"M 19.671875 64.796875 \nL 19.671875 8.109375 \nL 31.59375 8.109375 \nQ 46.6875 8.109375 53.6875 14.9375 \nQ 60.6875 21.78125 60.6875 36.53125 \nQ 60.6875 51.171875 53.6875 57.984375 \nQ 46.6875 64.796875 31.59375 64.796875 \nz\nM 9.8125 72.90625 \nL 30.078125 72.90625 \nQ 51.265625 72.90625 61.171875 64.09375 \nQ 71.09375 55.28125 71.09375 36.53125 \nQ 71.09375 17.671875 61.125 8.828125 \nQ 51.171875 0 30.078125 0 \nL 9.8125 0 \nz\n\" id=\"DejaVuSans-68\"/>\n      <path d=\"M 34.28125 27.484375 \nQ 23.390625 27.484375 19.1875 25 \nQ 14.984375 22.515625 14.984375 16.5 \nQ 14.984375 11.71875 18.140625 8.90625 \nQ 21.296875 6.109375 26.703125 6.109375 \nQ 34.1875 6.109375 38.703125 11.40625 \nQ 43.21875 16.703125 43.21875 25.484375 \nL 43.21875 27.484375 \nz\nM 52.203125 31.203125 \nL 52.203125 0 \nL 43.21875 0 \nL 43.21875 8.296875 \nQ 40.140625 3.328125 35.546875 0.953125 \nQ 30.953125 -1.421875 24.3125 -1.421875 \nQ 15.921875 -1.421875 10.953125 3.296875 \nQ 6 8.015625 6 15.921875 \nQ 6 25.140625 12.171875 29.828125 \nQ 18.359375 34.515625 30.609375 34.515625 \nL 43.21875 34.515625 \nL 43.21875 35.40625 \nQ 43.21875 41.609375 39.140625 45 \nQ 35.0625 48.390625 27.6875 48.390625 \nQ 23 48.390625 18.546875 47.265625 \nQ 14.109375 46.140625 10.015625 43.890625 \nL 10.015625 52.203125 \nQ 14.9375 54.109375 19.578125 55.046875 \nQ 24.21875 56 28.609375 56 \nQ 40.484375 56 46.34375 49.84375 \nQ 52.203125 43.703125 52.203125 31.203125 \nz\n\" id=\"DejaVuSans-97\"/>\n      <path d=\"M 18.3125 70.21875 \nL 18.3125 54.6875 \nL 36.8125 54.6875 \nL 36.8125 47.703125 \nL 18.3125 47.703125 \nL 18.3125 18.015625 \nQ 18.3125 11.328125 20.140625 9.421875 \nQ 21.96875 7.515625 27.59375 7.515625 \nL 36.8125 7.515625 \nL 36.8125 0 \nL 27.59375 0 \nQ 17.1875 0 13.234375 3.875 \nQ 9.28125 7.765625 9.28125 18.015625 \nL 9.28125 47.703125 \nL 2.6875 47.703125 \nL 2.6875 54.6875 \nL 9.28125 54.6875 \nL 9.28125 70.21875 \nz\n\" id=\"DejaVuSans-116\"/>\n      <path d=\"M 56.203125 29.59375 \nL 56.203125 25.203125 \nL 14.890625 25.203125 \nQ 15.484375 15.921875 20.484375 11.0625 \nQ 25.484375 6.203125 34.421875 6.203125 \nQ 39.59375 6.203125 44.453125 7.46875 \nQ 49.3125 8.734375 54.109375 11.28125 \nL 54.109375 2.78125 \nQ 49.265625 0.734375 44.1875 -0.34375 \nQ 39.109375 -1.421875 33.890625 -1.421875 \nQ 20.796875 -1.421875 13.15625 6.1875 \nQ 5.515625 13.8125 5.515625 26.8125 \nQ 5.515625 40.234375 12.765625 48.109375 \nQ 20.015625 56 32.328125 56 \nQ 43.359375 56 49.78125 48.890625 \nQ 56.203125 41.796875 56.203125 29.59375 \nz\nM 47.21875 32.234375 \nQ 47.125 39.59375 43.09375 43.984375 \nQ 39.0625 48.390625 32.421875 48.390625 \nQ 24.90625 48.390625 20.390625 44.140625 \nQ 15.875 39.890625 15.1875 32.171875 \nz\n\" id=\"DejaVuSans-101\"/>\n     </defs>\n     <g transform=\"translate(326.739844 314.989471)scale(0.1 -0.1)\">\n      <use xlink:href=\"#DejaVuSans-68\"/>\n      <use x=\"77.001953\" xlink:href=\"#DejaVuSans-97\"/>\n      <use x=\"138.28125\" xlink:href=\"#DejaVuSans-116\"/>\n      <use x=\"177.490234\" xlink:href=\"#DejaVuSans-101\"/>\n     </g>\n    </g>\n   </g>\n   <g id=\"matplotlib.axis_2\">\n    <g id=\"ytick_1\">\n     <g id=\"line2d_7\">\n      <defs>\n       <path d=\"M 0 0 \nL -3.5 0 \n\" id=\"m961b4e38ae\" style=\"stroke:#000000;stroke-width:0.8;\"/>\n      </defs>\n      <g>\n       <use style=\"stroke:#000000;stroke-width:0.8;\" x=\"59.690625\" xlink:href=\"#m961b4e38ae\" y=\"226.092646\"/>\n      </g>\n     </g>\n     <g id=\"text_8\">\n      <!-- 14000 -->\n      <defs>\n       <path d=\"M 37.796875 64.3125 \nL 12.890625 25.390625 \nL 37.796875 25.390625 \nz\nM 35.203125 72.90625 \nL 47.609375 72.90625 \nL 47.609375 25.390625 \nL 58.015625 25.390625 \nL 58.015625 17.1875 \nL 47.609375 17.1875 \nL 47.609375 0 \nL 37.796875 0 \nL 37.796875 17.1875 \nL 4.890625 17.1875 \nL 4.890625 26.703125 \nz\n\" id=\"DejaVuSans-52\"/>\n      </defs>\n      <g transform=\"translate(20.878125 229.891865)scale(0.1 -0.1)\">\n       <use xlink:href=\"#DejaVuSans-49\"/>\n       <use x=\"63.623047\" xlink:href=\"#DejaVuSans-52\"/>\n       <use x=\"127.246094\" xlink:href=\"#DejaVuSans-48\"/>\n       <use x=\"190.869141\" xlink:href=\"#DejaVuSans-48\"/>\n       <use x=\"254.492188\" xlink:href=\"#DejaVuSans-48\"/>\n      </g>\n     </g>\n    </g>\n    <g id=\"ytick_2\">\n     <g id=\"line2d_8\">\n      <g>\n       <use style=\"stroke:#000000;stroke-width:0.8;\" x=\"59.690625\" xlink:href=\"#m961b4e38ae\" y=\"182.91378\"/>\n      </g>\n     </g>\n     <g id=\"text_9\">\n      <!-- 14200 -->\n      <g transform=\"translate(20.878125 186.712999)scale(0.1 -0.1)\">\n       <use xlink:href=\"#DejaVuSans-49\"/>\n       <use x=\"63.623047\" xlink:href=\"#DejaVuSans-52\"/>\n       <use x=\"127.246094\" xlink:href=\"#DejaVuSans-50\"/>\n       <use x=\"190.869141\" xlink:href=\"#DejaVuSans-48\"/>\n       <use x=\"254.492188\" xlink:href=\"#DejaVuSans-48\"/>\n      </g>\n     </g>\n    </g>\n    <g id=\"ytick_3\">\n     <g id=\"line2d_9\">\n      <g>\n       <use style=\"stroke:#000000;stroke-width:0.8;\" x=\"59.690625\" xlink:href=\"#m961b4e38ae\" y=\"139.734914\"/>\n      </g>\n     </g>\n     <g id=\"text_10\">\n      <!-- 14400 -->\n      <g transform=\"translate(20.878125 143.534132)scale(0.1 -0.1)\">\n       <use xlink:href=\"#DejaVuSans-49\"/>\n       <use x=\"63.623047\" xlink:href=\"#DejaVuSans-52\"/>\n       <use x=\"127.246094\" xlink:href=\"#DejaVuSans-52\"/>\n       <use x=\"190.869141\" xlink:href=\"#DejaVuSans-48\"/>\n       <use x=\"254.492188\" xlink:href=\"#DejaVuSans-48\"/>\n      </g>\n     </g>\n    </g>\n    <g id=\"ytick_4\">\n     <g id=\"line2d_10\">\n      <g>\n       <use style=\"stroke:#000000;stroke-width:0.8;\" x=\"59.690625\" xlink:href=\"#m961b4e38ae\" y=\"96.556047\"/>\n      </g>\n     </g>\n     <g id=\"text_11\">\n      <!-- 14600 -->\n      <defs>\n       <path d=\"M 33.015625 40.375 \nQ 26.375 40.375 22.484375 35.828125 \nQ 18.609375 31.296875 18.609375 23.390625 \nQ 18.609375 15.53125 22.484375 10.953125 \nQ 26.375 6.390625 33.015625 6.390625 \nQ 39.65625 6.390625 43.53125 10.953125 \nQ 47.40625 15.53125 47.40625 23.390625 \nQ 47.40625 31.296875 43.53125 35.828125 \nQ 39.65625 40.375 33.015625 40.375 \nz\nM 52.59375 71.296875 \nL 52.59375 62.3125 \nQ 48.875 64.0625 45.09375 64.984375 \nQ 41.3125 65.921875 37.59375 65.921875 \nQ 27.828125 65.921875 22.671875 59.328125 \nQ 17.53125 52.734375 16.796875 39.40625 \nQ 19.671875 43.65625 24.015625 45.921875 \nQ 28.375 48.1875 33.59375 48.1875 \nQ 44.578125 48.1875 50.953125 41.515625 \nQ 57.328125 34.859375 57.328125 23.390625 \nQ 57.328125 12.15625 50.6875 5.359375 \nQ 44.046875 -1.421875 33.015625 -1.421875 \nQ 20.359375 -1.421875 13.671875 8.265625 \nQ 6.984375 17.96875 6.984375 36.375 \nQ 6.984375 53.65625 15.1875 63.9375 \nQ 23.390625 74.21875 37.203125 74.21875 \nQ 40.921875 74.21875 44.703125 73.484375 \nQ 48.484375 72.75 52.59375 71.296875 \nz\n\" id=\"DejaVuSans-54\"/>\n      </defs>\n      <g transform=\"translate(20.878125 100.355266)scale(0.1 -0.1)\">\n       <use xlink:href=\"#DejaVuSans-49\"/>\n       <use x=\"63.623047\" xlink:href=\"#DejaVuSans-52\"/>\n       <use x=\"127.246094\" xlink:href=\"#DejaVuSans-54\"/>\n       <use x=\"190.869141\" xlink:href=\"#DejaVuSans-48\"/>\n       <use x=\"254.492188\" xlink:href=\"#DejaVuSans-48\"/>\n      </g>\n     </g>\n    </g>\n    <g id=\"ytick_5\">\n     <g id=\"line2d_11\">\n      <g>\n       <use style=\"stroke:#000000;stroke-width:0.8;\" x=\"59.690625\" xlink:href=\"#m961b4e38ae\" y=\"53.377181\"/>\n      </g>\n     </g>\n     <g id=\"text_12\">\n      <!-- 14800 -->\n      <defs>\n       <path d=\"M 31.78125 34.625 \nQ 24.75 34.625 20.71875 30.859375 \nQ 16.703125 27.09375 16.703125 20.515625 \nQ 16.703125 13.921875 20.71875 10.15625 \nQ 24.75 6.390625 31.78125 6.390625 \nQ 38.8125 6.390625 42.859375 10.171875 \nQ 46.921875 13.96875 46.921875 20.515625 \nQ 46.921875 27.09375 42.890625 30.859375 \nQ 38.875 34.625 31.78125 34.625 \nz\nM 21.921875 38.8125 \nQ 15.578125 40.375 12.03125 44.71875 \nQ 8.5 49.078125 8.5 55.328125 \nQ 8.5 64.0625 14.71875 69.140625 \nQ 20.953125 74.21875 31.78125 74.21875 \nQ 42.671875 74.21875 48.875 69.140625 \nQ 55.078125 64.0625 55.078125 55.328125 \nQ 55.078125 49.078125 51.53125 44.71875 \nQ 48 40.375 41.703125 38.8125 \nQ 48.828125 37.15625 52.796875 32.3125 \nQ 56.78125 27.484375 56.78125 20.515625 \nQ 56.78125 9.90625 50.3125 4.234375 \nQ 43.84375 -1.421875 31.78125 -1.421875 \nQ 19.734375 -1.421875 13.25 4.234375 \nQ 6.78125 9.90625 6.78125 20.515625 \nQ 6.78125 27.484375 10.78125 32.3125 \nQ 14.796875 37.15625 21.921875 38.8125 \nz\nM 18.3125 54.390625 \nQ 18.3125 48.734375 21.84375 45.5625 \nQ 25.390625 42.390625 31.78125 42.390625 \nQ 38.140625 42.390625 41.71875 45.5625 \nQ 45.3125 48.734375 45.3125 54.390625 \nQ 45.3125 60.0625 41.71875 63.234375 \nQ 38.140625 66.40625 31.78125 66.40625 \nQ 25.390625 66.40625 21.84375 63.234375 \nQ 18.3125 60.0625 18.3125 54.390625 \nz\n\" id=\"DejaVuSans-56\"/>\n      </defs>\n      <g transform=\"translate(20.878125 57.1764)scale(0.1 -0.1)\">\n       <use xlink:href=\"#DejaVuSans-49\"/>\n       <use x=\"63.623047\" xlink:href=\"#DejaVuSans-52\"/>\n       <use x=\"127.246094\" xlink:href=\"#DejaVuSans-56\"/>\n       <use x=\"190.869141\" xlink:href=\"#DejaVuSans-48\"/>\n       <use x=\"254.492188\" xlink:href=\"#DejaVuSans-48\"/>\n      </g>\n     </g>\n    </g>\n    <g id=\"text_13\">\n     <!-- IDR -->\n     <defs>\n      <path d=\"M 9.8125 72.90625 \nL 19.671875 72.90625 \nL 19.671875 0 \nL 9.8125 0 \nz\n\" id=\"DejaVuSans-73\"/>\n      <path d=\"M 44.390625 34.1875 \nQ 47.5625 33.109375 50.5625 29.59375 \nQ 53.5625 26.078125 56.59375 19.921875 \nL 66.609375 0 \nL 56 0 \nL 46.6875 18.703125 \nQ 43.0625 26.03125 39.671875 28.421875 \nQ 36.28125 30.8125 30.421875 30.8125 \nL 19.671875 30.8125 \nL 19.671875 0 \nL 9.8125 0 \nL 9.8125 72.90625 \nL 32.078125 72.90625 \nQ 44.578125 72.90625 50.734375 67.671875 \nQ 56.890625 62.453125 56.890625 51.90625 \nQ 56.890625 45.015625 53.6875 40.46875 \nQ 50.484375 35.9375 44.390625 34.1875 \nz\nM 19.671875 64.796875 \nL 19.671875 38.921875 \nL 32.078125 38.921875 \nQ 39.203125 38.921875 42.84375 42.21875 \nQ 46.484375 45.515625 46.484375 51.90625 \nQ 46.484375 58.296875 42.84375 61.546875 \nQ 39.203125 64.796875 32.078125 64.796875 \nz\n\" id=\"DejaVuSans-82\"/>\n     </defs>\n     <g transform=\"translate(14.798438 153.517344)rotate(-90)scale(0.1 -0.1)\">\n      <use xlink:href=\"#DejaVuSans-73\"/>\n      <use x=\"29.492188\" xlink:href=\"#DejaVuSans-68\"/>\n      <use x=\"106.494141\" xlink:href=\"#DejaVuSans-82\"/>\n     </g>\n    </g>\n   </g>\n   <g id=\"line2d_12\">\n    <path clip-path=\"url(#p0b6f3f3282)\" d=\"M 85.054261 47.861299 \nL 87.920209 34.208772 \nL 90.786157 41.364944 \nL 96.518052 40.427086 \nL 99.383999 33.445398 \nL 102.249947 35.9044 \nL 105.115895 38.815786 \nL 107.981842 48.483709 \nL 110.84779 42.084865 \nL 119.445633 53.830175 \nL 122.31158 40.924711 \nL 125.177528 73.761393 \nL 128.043476 76.492933 \nL 130.909423 79.440139 \nL 139.507266 79.748035 \nL 145.239161 75.782885 \nL 148.105109 81.885294 \nL 150.971056 77.463182 \nL 159.568899 73.858524 \nL 162.434847 106.081152 \nL 165.300794 87.572555 \nL 168.166742 86.212816 \nL 171.03269 84.672884 \nL 179.630533 85.139534 \nL 182.49648 85.806755 \nL 185.362428 74.550832 \nL 188.228375 74.616086 \nL 191.094323 90.260102 \nL 199.692166 93.771032 \nL 202.558113 98.927055 \nL 205.424061 108.549768 \nL 208.290009 142.079468 \nL 211.155956 179.783865 \nL 219.753799 164.930501 \nL 222.619747 214.485875 \nL 225.485694 210.232997 \nL 228.351642 195.599077 \nL 231.21759 195.269104 \nL 239.815432 207.591579 \nL 242.68138 217.42222 \nL 245.547328 215.01834 \nL 248.413275 190.361823 \nL 251.279223 190.987107 \nL 259.877066 186.028878 \nL 262.743013 196.411146 \nL 265.608961 196.709581 \nL 268.474909 206.50937 \nL 271.340856 209.226014 \nL 279.938699 201.455512 \nL 282.804647 200.50607 \nL 285.670594 205.656553 \nL 288.536542 202.52748 \nL 291.402489 206.066705 \nL 300.000332 203.730227 \nL 302.86628 203.414611 \nL 305.732227 205.280754 \nL 308.598175 203.703445 \nL 311.464123 209.605359 \nL 320.061966 207.272237 \nL 322.927913 199.280405 \nL 325.793861 207.848055 \nL 328.659808 204.130132 \nL 331.525756 204.274887 \nL 340.123599 199.278251 \nL 342.989546 190.47411 \nL 345.855494 186.445634 \nL 348.721442 185.415363 \nL 351.587389 180.39787 \nL 360.185232 195.906834 \nL 363.05118 202.736815 \nL 365.917127 221.771845 \nL 368.783075 200.061271 \nL 371.649023 179.961369 \nL 380.246865 222.666647 \nL 383.112813 246.374437 \nL 385.978761 255.990852 \nL 388.844708 246.463621 \nL 391.710656 228.000401 \nL 400.308499 196.462982 \nL 403.174446 209.940632 \nL 406.040394 198.911174 \nL 408.906341 210.853214 \nL 411.772289 192.96009 \nL 420.370132 214.123965 \nL 423.23608 212.359873 \nL 426.102027 221.465931 \nL 428.967975 233.666392 \nL 431.833922 220.565172 \nL 440.431765 221.533802 \nL 443.297713 212.5105 \nL 446.16366 215.572873 \nL 449.029608 215.716449 \nL 451.895556 220.193426 \nL 460.493398 220.636025 \nL 463.359346 225.099154 \nL 466.225294 226.60932 \nL 469.091241 221.585036 \nL 471.957189 224.150396 \nL 480.555032 224.526857 \nL 483.420979 243.251889 \nL 486.286927 227.368124 \nL 489.152875 229.918509 \nL 492.018822 228.565262 \nL 500.616665 243.755555 \nL 503.482613 239.917161 \nL 506.34856 222.819483 \nL 509.214508 223.175227 \nL 512.080456 211.672254 \nL 520.678298 200.601411 \nL 523.544246 206.091109 \nL 526.410194 208.165487 \nL 529.276141 195.925524 \nL 532.142089 161.264296 \nL 540.739932 172.420072 \nL 543.605879 170.763158 \nL 546.471827 170.544237 \nL 549.337774 169.559796 \nL 552.203722 163.012871 \nL 560.801565 145.276692 \nL 563.667513 140.543088 \nL 566.53346 142.348761 \nL 569.399408 157.033294 \nL 572.265355 141.122041 \nL 580.863198 134.622212 \nL 583.729146 138.057572 \nL 586.595093 151.331436 \nL 589.461041 134.704718 \nL 592.326989 137.647276 \nL 592.326989 137.647276 \n\" style=\"fill:none;stroke:#1f77b4;stroke-linecap:square;stroke-width:1.5;\"/>\n   </g>\n   <g id=\"patch_3\">\n    <path d=\"M 59.690625 267.118125 \nL 59.690625 22.318125 \n\" style=\"fill:none;stroke:#000000;stroke-linecap:square;stroke-linejoin:miter;stroke-width:0.8;\"/>\n   </g>\n   <g id=\"patch_4\">\n    <path d=\"M 617.690625 267.118125 \nL 617.690625 22.318125 \n\" style=\"fill:none;stroke:#000000;stroke-linecap:square;stroke-linejoin:miter;stroke-width:0.8;\"/>\n   </g>\n   <g id=\"patch_5\">\n    <path d=\"M 59.690625 267.118125 \nL 617.690625 267.118125 \n\" style=\"fill:none;stroke:#000000;stroke-linecap:square;stroke-linejoin:miter;stroke-width:0.8;\"/>\n   </g>\n   <g id=\"patch_6\">\n    <path d=\"M 59.690625 22.318125 \nL 617.690625 22.318125 \n\" style=\"fill:none;stroke:#000000;stroke-linecap:square;stroke-linejoin:miter;stroke-width:0.8;\"/>\n   </g>\n   <g id=\"text_14\">\n    <!-- Indonesian Rupiahs (IDR) per US Dollar (USD) -->\n    <defs>\n     <path d=\"M 54.890625 33.015625 \nL 54.890625 0 \nL 45.90625 0 \nL 45.90625 32.71875 \nQ 45.90625 40.484375 42.875 44.328125 \nQ 39.84375 48.1875 33.796875 48.1875 \nQ 26.515625 48.1875 22.3125 43.546875 \nQ 18.109375 38.921875 18.109375 30.90625 \nL 18.109375 0 \nL 9.078125 0 \nL 9.078125 54.6875 \nL 18.109375 54.6875 \nL 18.109375 46.1875 \nQ 21.34375 51.125 25.703125 53.5625 \nQ 30.078125 56 35.796875 56 \nQ 45.21875 56 50.046875 50.171875 \nQ 54.890625 44.34375 54.890625 33.015625 \nz\n\" id=\"DejaVuSans-110\"/>\n     <path d=\"M 45.40625 46.390625 \nL 45.40625 75.984375 \nL 54.390625 75.984375 \nL 54.390625 0 \nL 45.40625 0 \nL 45.40625 8.203125 \nQ 42.578125 3.328125 38.25 0.953125 \nQ 33.9375 -1.421875 27.875 -1.421875 \nQ 17.96875 -1.421875 11.734375 6.484375 \nQ 5.515625 14.40625 5.515625 27.296875 \nQ 5.515625 40.1875 11.734375 48.09375 \nQ 17.96875 56 27.875 56 \nQ 33.9375 56 38.25 53.625 \nQ 42.578125 51.265625 45.40625 46.390625 \nz\nM 14.796875 27.296875 \nQ 14.796875 17.390625 18.875 11.75 \nQ 22.953125 6.109375 30.078125 6.109375 \nQ 37.203125 6.109375 41.296875 11.75 \nQ 45.40625 17.390625 45.40625 27.296875 \nQ 45.40625 37.203125 41.296875 42.84375 \nQ 37.203125 48.484375 30.078125 48.484375 \nQ 22.953125 48.484375 18.875 42.84375 \nQ 14.796875 37.203125 14.796875 27.296875 \nz\n\" id=\"DejaVuSans-100\"/>\n     <path d=\"M 30.609375 48.390625 \nQ 23.390625 48.390625 19.1875 42.75 \nQ 14.984375 37.109375 14.984375 27.296875 \nQ 14.984375 17.484375 19.15625 11.84375 \nQ 23.34375 6.203125 30.609375 6.203125 \nQ 37.796875 6.203125 41.984375 11.859375 \nQ 46.1875 17.53125 46.1875 27.296875 \nQ 46.1875 37.015625 41.984375 42.703125 \nQ 37.796875 48.390625 30.609375 48.390625 \nz\nM 30.609375 56 \nQ 42.328125 56 49.015625 48.375 \nQ 55.71875 40.765625 55.71875 27.296875 \nQ 55.71875 13.875 49.015625 6.21875 \nQ 42.328125 -1.421875 30.609375 -1.421875 \nQ 18.84375 -1.421875 12.171875 6.21875 \nQ 5.515625 13.875 5.515625 27.296875 \nQ 5.515625 40.765625 12.171875 48.375 \nQ 18.84375 56 30.609375 56 \nz\n\" id=\"DejaVuSans-111\"/>\n     <path d=\"M 44.28125 53.078125 \nL 44.28125 44.578125 \nQ 40.484375 46.53125 36.375 47.5 \nQ 32.28125 48.484375 27.875 48.484375 \nQ 21.1875 48.484375 17.84375 46.4375 \nQ 14.5 44.390625 14.5 40.28125 \nQ 14.5 37.15625 16.890625 35.375 \nQ 19.28125 33.59375 26.515625 31.984375 \nL 29.59375 31.296875 \nQ 39.15625 29.25 43.1875 25.515625 \nQ 47.21875 21.78125 47.21875 15.09375 \nQ 47.21875 7.46875 41.1875 3.015625 \nQ 35.15625 -1.421875 24.609375 -1.421875 \nQ 20.21875 -1.421875 15.453125 -0.5625 \nQ 10.6875 0.296875 5.421875 2 \nL 5.421875 11.28125 \nQ 10.40625 8.6875 15.234375 7.390625 \nQ 20.0625 6.109375 24.8125 6.109375 \nQ 31.15625 6.109375 34.5625 8.28125 \nQ 37.984375 10.453125 37.984375 14.40625 \nQ 37.984375 18.0625 35.515625 20.015625 \nQ 33.0625 21.96875 24.703125 23.78125 \nL 21.578125 24.515625 \nQ 13.234375 26.265625 9.515625 29.90625 \nQ 5.8125 33.546875 5.8125 39.890625 \nQ 5.8125 47.609375 11.28125 51.796875 \nQ 16.75 56 26.8125 56 \nQ 31.78125 56 36.171875 55.265625 \nQ 40.578125 54.546875 44.28125 53.078125 \nz\n\" id=\"DejaVuSans-115\"/>\n     <path d=\"M 9.421875 54.6875 \nL 18.40625 54.6875 \nL 18.40625 0 \nL 9.421875 0 \nz\nM 9.421875 75.984375 \nL 18.40625 75.984375 \nL 18.40625 64.59375 \nL 9.421875 64.59375 \nz\n\" id=\"DejaVuSans-105\"/>\n     <path id=\"DejaVuSans-32\"/>\n     <path d=\"M 8.5 21.578125 \nL 8.5 54.6875 \nL 17.484375 54.6875 \nL 17.484375 21.921875 \nQ 17.484375 14.15625 20.5 10.265625 \nQ 23.53125 6.390625 29.59375 6.390625 \nQ 36.859375 6.390625 41.078125 11.03125 \nQ 45.3125 15.671875 45.3125 23.6875 \nL 45.3125 54.6875 \nL 54.296875 54.6875 \nL 54.296875 0 \nL 45.3125 0 \nL 45.3125 8.40625 \nQ 42.046875 3.421875 37.71875 1 \nQ 33.40625 -1.421875 27.6875 -1.421875 \nQ 18.265625 -1.421875 13.375 4.4375 \nQ 8.5 10.296875 8.5 21.578125 \nz\nM 31.109375 56 \nz\n\" id=\"DejaVuSans-117\"/>\n     <path d=\"M 18.109375 8.203125 \nL 18.109375 -20.796875 \nL 9.078125 -20.796875 \nL 9.078125 54.6875 \nL 18.109375 54.6875 \nL 18.109375 46.390625 \nQ 20.953125 51.265625 25.265625 53.625 \nQ 29.59375 56 35.59375 56 \nQ 45.5625 56 51.78125 48.09375 \nQ 58.015625 40.1875 58.015625 27.296875 \nQ 58.015625 14.40625 51.78125 6.484375 \nQ 45.5625 -1.421875 35.59375 -1.421875 \nQ 29.59375 -1.421875 25.265625 0.953125 \nQ 20.953125 3.328125 18.109375 8.203125 \nz\nM 48.6875 27.296875 \nQ 48.6875 37.203125 44.609375 42.84375 \nQ 40.53125 48.484375 33.40625 48.484375 \nQ 26.265625 48.484375 22.1875 42.84375 \nQ 18.109375 37.203125 18.109375 27.296875 \nQ 18.109375 17.390625 22.1875 11.75 \nQ 26.265625 6.109375 33.40625 6.109375 \nQ 40.53125 6.109375 44.609375 11.75 \nQ 48.6875 17.390625 48.6875 27.296875 \nz\n\" id=\"DejaVuSans-112\"/>\n     <path d=\"M 54.890625 33.015625 \nL 54.890625 0 \nL 45.90625 0 \nL 45.90625 32.71875 \nQ 45.90625 40.484375 42.875 44.328125 \nQ 39.84375 48.1875 33.796875 48.1875 \nQ 26.515625 48.1875 22.3125 43.546875 \nQ 18.109375 38.921875 18.109375 30.90625 \nL 18.109375 0 \nL 9.078125 0 \nL 9.078125 75.984375 \nL 18.109375 75.984375 \nL 18.109375 46.1875 \nQ 21.34375 51.125 25.703125 53.5625 \nQ 30.078125 56 35.796875 56 \nQ 45.21875 56 50.046875 50.171875 \nQ 54.890625 44.34375 54.890625 33.015625 \nz\n\" id=\"DejaVuSans-104\"/>\n     <path d=\"M 31 75.875 \nQ 24.46875 64.65625 21.28125 53.65625 \nQ 18.109375 42.671875 18.109375 31.390625 \nQ 18.109375 20.125 21.3125 9.0625 \nQ 24.515625 -2 31 -13.1875 \nL 23.1875 -13.1875 \nQ 15.875 -1.703125 12.234375 9.375 \nQ 8.59375 20.453125 8.59375 31.390625 \nQ 8.59375 42.28125 12.203125 53.3125 \nQ 15.828125 64.359375 23.1875 75.875 \nz\n\" id=\"DejaVuSans-40\"/>\n     <path d=\"M 8.015625 75.875 \nL 15.828125 75.875 \nQ 23.140625 64.359375 26.78125 53.3125 \nQ 30.421875 42.28125 30.421875 31.390625 \nQ 30.421875 20.453125 26.78125 9.375 \nQ 23.140625 -1.703125 15.828125 -13.1875 \nL 8.015625 -13.1875 \nQ 14.5 -2 17.703125 9.0625 \nQ 20.90625 20.125 20.90625 31.390625 \nQ 20.90625 42.671875 17.703125 53.65625 \nQ 14.5 64.65625 8.015625 75.875 \nz\n\" id=\"DejaVuSans-41\"/>\n     <path d=\"M 41.109375 46.296875 \nQ 39.59375 47.171875 37.8125 47.578125 \nQ 36.03125 48 33.890625 48 \nQ 26.265625 48 22.1875 43.046875 \nQ 18.109375 38.09375 18.109375 28.8125 \nL 18.109375 0 \nL 9.078125 0 \nL 9.078125 54.6875 \nL 18.109375 54.6875 \nL 18.109375 46.1875 \nQ 20.953125 51.171875 25.484375 53.578125 \nQ 30.03125 56 36.53125 56 \nQ 37.453125 56 38.578125 55.875 \nQ 39.703125 55.765625 41.0625 55.515625 \nz\n\" id=\"DejaVuSans-114\"/>\n     <path d=\"M 8.6875 72.90625 \nL 18.609375 72.90625 \nL 18.609375 28.609375 \nQ 18.609375 16.890625 22.84375 11.734375 \nQ 27.09375 6.59375 36.625 6.59375 \nQ 46.09375 6.59375 50.34375 11.734375 \nQ 54.59375 16.890625 54.59375 28.609375 \nL 54.59375 72.90625 \nL 64.5 72.90625 \nL 64.5 27.390625 \nQ 64.5 13.140625 57.4375 5.859375 \nQ 50.390625 -1.421875 36.625 -1.421875 \nQ 22.796875 -1.421875 15.734375 5.859375 \nQ 8.6875 13.140625 8.6875 27.390625 \nz\n\" id=\"DejaVuSans-85\"/>\n     <path d=\"M 53.515625 70.515625 \nL 53.515625 60.890625 \nQ 47.90625 63.578125 42.921875 64.890625 \nQ 37.9375 66.21875 33.296875 66.21875 \nQ 25.25 66.21875 20.875 63.09375 \nQ 16.5 59.96875 16.5 54.203125 \nQ 16.5 49.359375 19.40625 46.890625 \nQ 22.3125 44.4375 30.421875 42.921875 \nL 36.375 41.703125 \nQ 47.40625 39.59375 52.65625 34.296875 \nQ 57.90625 29 57.90625 20.125 \nQ 57.90625 9.515625 50.796875 4.046875 \nQ 43.703125 -1.421875 29.984375 -1.421875 \nQ 24.8125 -1.421875 18.96875 -0.25 \nQ 13.140625 0.921875 6.890625 3.21875 \nL 6.890625 13.375 \nQ 12.890625 10.015625 18.65625 8.296875 \nQ 24.421875 6.59375 29.984375 6.59375 \nQ 38.421875 6.59375 43.015625 9.90625 \nQ 47.609375 13.234375 47.609375 19.390625 \nQ 47.609375 24.75 44.3125 27.78125 \nQ 41.015625 30.8125 33.5 32.328125 \nL 27.484375 33.5 \nQ 16.453125 35.6875 11.515625 40.375 \nQ 6.59375 45.0625 6.59375 53.421875 \nQ 6.59375 63.09375 13.40625 68.65625 \nQ 20.21875 74.21875 32.171875 74.21875 \nQ 37.3125 74.21875 42.625 73.28125 \nQ 47.953125 72.359375 53.515625 70.515625 \nz\n\" id=\"DejaVuSans-83\"/>\n     <path d=\"M 9.421875 75.984375 \nL 18.40625 75.984375 \nL 18.40625 0 \nL 9.421875 0 \nz\n\" id=\"DejaVuSans-108\"/>\n    </defs>\n    <g transform=\"translate(201.968438 16.318125)scale(0.12 -0.12)\">\n     <use xlink:href=\"#DejaVuSans-73\"/>\n     <use x=\"29.492188\" xlink:href=\"#DejaVuSans-110\"/>\n     <use x=\"92.871094\" xlink:href=\"#DejaVuSans-100\"/>\n     <use x=\"156.347656\" xlink:href=\"#DejaVuSans-111\"/>\n     <use x=\"217.529297\" xlink:href=\"#DejaVuSans-110\"/>\n     <use x=\"280.908203\" xlink:href=\"#DejaVuSans-101\"/>\n     <use x=\"342.431641\" xlink:href=\"#DejaVuSans-115\"/>\n     <use x=\"394.53125\" xlink:href=\"#DejaVuSans-105\"/>\n     <use x=\"422.314453\" xlink:href=\"#DejaVuSans-97\"/>\n     <use x=\"483.59375\" xlink:href=\"#DejaVuSans-110\"/>\n     <use x=\"546.972656\" xlink:href=\"#DejaVuSans-32\"/>\n     <use x=\"578.759766\" xlink:href=\"#DejaVuSans-82\"/>\n     <use x=\"643.742188\" xlink:href=\"#DejaVuSans-117\"/>\n     <use x=\"707.121094\" xlink:href=\"#DejaVuSans-112\"/>\n     <use x=\"770.597656\" xlink:href=\"#DejaVuSans-105\"/>\n     <use x=\"798.380859\" xlink:href=\"#DejaVuSans-97\"/>\n     <use x=\"859.660156\" xlink:href=\"#DejaVuSans-104\"/>\n     <use x=\"923.039062\" xlink:href=\"#DejaVuSans-115\"/>\n     <use x=\"975.138672\" xlink:href=\"#DejaVuSans-32\"/>\n     <use x=\"1006.925781\" xlink:href=\"#DejaVuSans-40\"/>\n     <use x=\"1045.939453\" xlink:href=\"#DejaVuSans-73\"/>\n     <use x=\"1075.431641\" xlink:href=\"#DejaVuSans-68\"/>\n     <use x=\"1152.433594\" xlink:href=\"#DejaVuSans-82\"/>\n     <use x=\"1221.916016\" xlink:href=\"#DejaVuSans-41\"/>\n     <use x=\"1260.929688\" xlink:href=\"#DejaVuSans-32\"/>\n     <use x=\"1292.716797\" xlink:href=\"#DejaVuSans-112\"/>\n     <use x=\"1356.193359\" xlink:href=\"#DejaVuSans-101\"/>\n     <use x=\"1417.716797\" xlink:href=\"#DejaVuSans-114\"/>\n     <use x=\"1458.830078\" xlink:href=\"#DejaVuSans-32\"/>\n     <use x=\"1490.617188\" xlink:href=\"#DejaVuSans-85\"/>\n     <use x=\"1563.810547\" xlink:href=\"#DejaVuSans-83\"/>\n     <use x=\"1627.287109\" xlink:href=\"#DejaVuSans-32\"/>\n     <use x=\"1659.074219\" xlink:href=\"#DejaVuSans-68\"/>\n     <use x=\"1736.076172\" xlink:href=\"#DejaVuSans-111\"/>\n     <use x=\"1797.257812\" xlink:href=\"#DejaVuSans-108\"/>\n     <use x=\"1825.041016\" xlink:href=\"#DejaVuSans-108\"/>\n     <use x=\"1852.824219\" xlink:href=\"#DejaVuSans-97\"/>\n     <use x=\"1914.103516\" xlink:href=\"#DejaVuSans-114\"/>\n     <use x=\"1955.216797\" xlink:href=\"#DejaVuSans-32\"/>\n     <use x=\"1987.003906\" xlink:href=\"#DejaVuSans-40\"/>\n     <use x=\"2026.017578\" xlink:href=\"#DejaVuSans-85\"/>\n     <use x=\"2099.210938\" xlink:href=\"#DejaVuSans-83\"/>\n     <use x=\"2162.6875\" xlink:href=\"#DejaVuSans-68\"/>\n     <use x=\"2239.689453\" xlink:href=\"#DejaVuSans-41\"/>\n    </g>\n   </g>\n   <g id=\"legend_1\">\n    <g id=\"patch_7\">\n     <path d=\"M 561.092188 44.99625 \nL 610.690625 44.99625 \nQ 612.690625 44.99625 612.690625 42.99625 \nL 612.690625 29.318125 \nQ 612.690625 27.318125 610.690625 27.318125 \nL 561.092188 27.318125 \nQ 559.092188 27.318125 559.092188 29.318125 \nL 559.092188 42.99625 \nQ 559.092188 44.99625 561.092188 44.99625 \nz\n\" style=\"fill:#ffffff;opacity:0.8;stroke:#cccccc;stroke-linejoin:miter;\"/>\n    </g>\n    <g id=\"line2d_13\">\n     <path d=\"M 563.092188 35.416563 \nL 583.092188 35.416563 \n\" style=\"fill:none;stroke:#1f77b4;stroke-linecap:square;stroke-width:1.5;\"/>\n    </g>\n    <g id=\"line2d_14\"/>\n    <g id=\"text_15\">\n     <!-- IDR -->\n     <g transform=\"translate(591.092188 38.916563)scale(0.1 -0.1)\">\n      <use xlink:href=\"#DejaVuSans-73\"/>\n      <use x=\"29.492188\" xlink:href=\"#DejaVuSans-68\"/>\n      <use x=\"106.494141\" xlink:href=\"#DejaVuSans-82\"/>\n     </g>\n    </g>\n   </g>\n  </g>\n </g>\n <defs>\n  <clipPath id=\"p0b6f3f3282\">\n   <rect height=\"244.8\" width=\"558\" x=\"59.690625\" y=\"22.318125\"/>\n  </clipPath>\n </defs>\n</svg>\n",
      "image/png": "[encoded data removed]"
     },
     "metadata": {
      "needs_background": "light"
     }
    }
   ],
   "source": [
    "Exchanges.plot(title='Indonesian Rupiahs (IDR) per US Dollar (USD)',figsize=(10,5)).set_ylabel('IDR')"
   ]
  },
  {
   "cell_type": "markdown",
   "metadata": {},
   "source": [
    "\n",
    "(Put your analysis and conclusion here.)"
   ]
  },
  {
   "cell_type": "markdown",
   "metadata": {},
   "source": [
    "### Extra Challange\n",
    "\n",
    "This will be not included to the scoring. \n",
    "\n",
    "- You can create additional analysis from the data.\n",
    "- Implement it to the dashboard with at `app.py` dan `index.html`."
   ]
  },
  {
   "cell_type": "code",
   "execution_count": 11,
   "metadata": {},
   "outputs": [
    {
     "output_type": "stream",
     "name": "stdout",
     "text": [
      "<class 'pandas.core.frame.DataFrame'>\nDatetimeIndex: 129 entries, 2021-03-19 to 2020-09-23\nData columns (total 1 columns):\n #   Column  Non-Null Count  Dtype  \n---  ------  --------------  -----  \n 0   IDR     129 non-null    float64\ndtypes: float64(1)\nmemory usage: 2.0 KB\n"
     ]
    }
   ],
   "source": [
    "Exchanges.info()"
   ]
  },
  {
   "cell_type": "code",
   "execution_count": 12,
   "metadata": {},
   "outputs": [],
   "source": [
    "Exchanges_Reset_index =Exchanges.reset_index()"
   ]
  },
  {
   "cell_type": "code",
   "execution_count": 13,
   "metadata": {},
   "outputs": [],
   "source": [
    "Exchanges_Reset_index['Date'] = Exchanges_Reset_index['Date'].astype('datetime64')"
   ]
  },
  {
   "cell_type": "code",
   "execution_count": 14,
   "metadata": {},
   "outputs": [
    {
     "output_type": "execute_result",
     "data": {
      "text/plain": [
       "0     2021-03-19\n",
       "1     2021-03-18\n",
       "2     2021-03-17\n",
       "3     2021-03-16\n",
       "4     2021-03-15\n",
       "         ...    \n",
       "124   2020-09-28\n",
       "125   2020-09-27\n",
       "126   2020-09-25\n",
       "127   2020-09-24\n",
       "128   2020-09-23\n",
       "Name: Date, Length: 129, dtype: datetime64[ns]"
      ]
     },
     "metadata": {},
     "execution_count": 14
    }
   ],
   "source": [
    "pd.to_datetime(Exchanges_Reset_index['Date'], dayfirst =True)"
   ]
  },
  {
   "cell_type": "code",
   "execution_count": 15,
   "metadata": {},
   "outputs": [],
   "source": [
    "Exchanges_Reset_index['Day'] = Exchanges_Reset_index['Date'].dt.day_name()"
   ]
  },
  {
   "cell_type": "code",
   "execution_count": 16,
   "metadata": {},
   "outputs": [
    {
     "output_type": "execute_result",
     "data": {
      "text/plain": [
       "          Date          IDR        Day\n",
       "0   2021-03-19  14409.66972     Friday\n",
       "1   2021-03-18  14423.29934   Thursday\n",
       "2   2021-03-17  14346.28612  Wednesday\n",
       "3   2021-03-16  14407.76927    Tuesday\n",
       "4   2021-03-15  14423.68150     Monday\n",
       "..         ...          ...        ...\n",
       "124 2020-09-28  14892.32194     Monday\n",
       "125 2020-09-27  14859.98349     Sunday\n",
       "126 2020-09-25  14855.63943     Friday\n",
       "127 2020-09-24  14888.78607   Thursday\n",
       "128 2020-09-23  14825.54899  Wednesday\n",
       "\n",
       "[129 rows x 3 columns]"
      ],
      "text/html": "<div>\n<style scoped>\n    .dataframe tbody tr th:only-of-type {\n        vertical-align: middle;\n    }\n\n    .dataframe tbody tr th {\n        vertical-align: top;\n    }\n\n    .dataframe thead th {\n        text-align: right;\n    }\n</style>\n<table border=\"1\" class=\"dataframe\">\n  <thead>\n    <tr style=\"text-align: right;\">\n      <th></th>\n      <th>Date</th>\n      <th>IDR</th>\n      <th>Day</th>\n    </tr>\n  </thead>\n  <tbody>\n    <tr>\n      <th>0</th>\n      <td>2021-03-19</td>\n      <td>14409.66972</td>\n      <td>Friday</td>\n    </tr>\n    <tr>\n      <th>1</th>\n      <td>2021-03-18</td>\n      <td>14423.29934</td>\n      <td>Thursday</td>\n    </tr>\n    <tr>\n      <th>2</th>\n      <td>2021-03-17</td>\n      <td>14346.28612</td>\n      <td>Wednesday</td>\n    </tr>\n    <tr>\n      <th>3</th>\n      <td>2021-03-16</td>\n      <td>14407.76927</td>\n      <td>Tuesday</td>\n    </tr>\n    <tr>\n      <th>4</th>\n      <td>2021-03-15</td>\n      <td>14423.68150</td>\n      <td>Monday</td>\n    </tr>\n    <tr>\n      <th>...</th>\n      <td>...</td>\n      <td>...</td>\n      <td>...</td>\n    </tr>\n    <tr>\n      <th>124</th>\n      <td>2020-09-28</td>\n      <td>14892.32194</td>\n      <td>Monday</td>\n    </tr>\n    <tr>\n      <th>125</th>\n      <td>2020-09-27</td>\n      <td>14859.98349</td>\n      <td>Sunday</td>\n    </tr>\n    <tr>\n      <th>126</th>\n      <td>2020-09-25</td>\n      <td>14855.63943</td>\n      <td>Friday</td>\n    </tr>\n    <tr>\n      <th>127</th>\n      <td>2020-09-24</td>\n      <td>14888.78607</td>\n      <td>Thursday</td>\n    </tr>\n    <tr>\n      <th>128</th>\n      <td>2020-09-23</td>\n      <td>14825.54899</td>\n      <td>Wednesday</td>\n    </tr>\n  </tbody>\n</table>\n<p>129 rows × 3 columns</p>\n</div>"
     },
     "metadata": {},
     "execution_count": 16
    }
   ],
   "source": [
    "Exchanges_Reset_index"
   ]
  },
  {
   "cell_type": "code",
   "execution_count": 17,
   "metadata": {},
   "outputs": [
    {
     "output_type": "execute_result",
     "data": {
      "text/plain": [
       "                    IDR\n",
       "Day                    \n",
       "Friday     14281.191143\n",
       "Monday     14272.300474\n",
       "Sunday     14859.983490\n",
       "Thursday   14268.564428\n",
       "Tuesday    14247.775804\n",
       "Wednesday  14263.915228"
      ],
      "text/html": "<div>\n<style scoped>\n    .dataframe tbody tr th:only-of-type {\n        vertical-align: middle;\n    }\n\n    .dataframe tbody tr th {\n        vertical-align: top;\n    }\n\n    .dataframe thead th {\n        text-align: right;\n    }\n</style>\n<table border=\"1\" class=\"dataframe\">\n  <thead>\n    <tr style=\"text-align: right;\">\n      <th></th>\n      <th>IDR</th>\n    </tr>\n    <tr>\n      <th>Day</th>\n      <th></th>\n    </tr>\n  </thead>\n  <tbody>\n    <tr>\n      <th>Friday</th>\n      <td>14281.191143</td>\n    </tr>\n    <tr>\n      <th>Monday</th>\n      <td>14272.300474</td>\n    </tr>\n    <tr>\n      <th>Sunday</th>\n      <td>14859.983490</td>\n    </tr>\n    <tr>\n      <th>Thursday</th>\n      <td>14268.564428</td>\n    </tr>\n    <tr>\n      <th>Tuesday</th>\n      <td>14247.775804</td>\n    </tr>\n    <tr>\n      <th>Wednesday</th>\n      <td>14263.915228</td>\n    </tr>\n  </tbody>\n</table>\n</div>"
     },
     "metadata": {},
     "execution_count": 17
    }
   ],
   "source": [
    "Exchanges_Reset_index.groupby('Day').agg({'IDR':'mean'})"
   ]
  },
  {
   "cell_type": "code",
   "execution_count": 18,
   "metadata": {},
   "outputs": [
    {
     "output_type": "execute_result",
     "data": {
      "text/plain": [
       "          Date          IDR        Day     Week\n",
       "0   2021-03-19  14409.66972     Friday  2021-03\n",
       "1   2021-03-18  14423.29934   Thursday  2021-03\n",
       "2   2021-03-17  14346.28612  Wednesday  2021-03\n",
       "3   2021-03-16  14407.76927    Tuesday  2021-03\n",
       "4   2021-03-15  14423.68150     Monday  2021-03\n",
       "..         ...          ...        ...      ...\n",
       "124 2020-09-28  14892.32194     Monday  2020-09\n",
       "125 2020-09-27  14859.98349     Sunday  2020-09\n",
       "126 2020-09-25  14855.63943     Friday  2020-09\n",
       "127 2020-09-24  14888.78607   Thursday  2020-09\n",
       "128 2020-09-23  14825.54899  Wednesday  2020-09\n",
       "\n",
       "[129 rows x 4 columns]"
      ],
      "text/html": "<div>\n<style scoped>\n    .dataframe tbody tr th:only-of-type {\n        vertical-align: middle;\n    }\n\n    .dataframe tbody tr th {\n        vertical-align: top;\n    }\n\n    .dataframe thead th {\n        text-align: right;\n    }\n</style>\n<table border=\"1\" class=\"dataframe\">\n  <thead>\n    <tr style=\"text-align: right;\">\n      <th></th>\n      <th>Date</th>\n      <th>IDR</th>\n      <th>Day</th>\n      <th>Week</th>\n    </tr>\n  </thead>\n  <tbody>\n    <tr>\n      <th>0</th>\n      <td>2021-03-19</td>\n      <td>14409.66972</td>\n      <td>Friday</td>\n      <td>2021-03</td>\n    </tr>\n    <tr>\n      <th>1</th>\n      <td>2021-03-18</td>\n      <td>14423.29934</td>\n      <td>Thursday</td>\n      <td>2021-03</td>\n    </tr>\n    <tr>\n      <th>2</th>\n      <td>2021-03-17</td>\n      <td>14346.28612</td>\n      <td>Wednesday</td>\n      <td>2021-03</td>\n    </tr>\n    <tr>\n      <th>3</th>\n      <td>2021-03-16</td>\n      <td>14407.76927</td>\n      <td>Tuesday</td>\n      <td>2021-03</td>\n    </tr>\n    <tr>\n      <th>4</th>\n      <td>2021-03-15</td>\n      <td>14423.68150</td>\n      <td>Monday</td>\n      <td>2021-03</td>\n    </tr>\n    <tr>\n      <th>...</th>\n      <td>...</td>\n      <td>...</td>\n      <td>...</td>\n      <td>...</td>\n    </tr>\n    <tr>\n      <th>124</th>\n      <td>2020-09-28</td>\n      <td>14892.32194</td>\n      <td>Monday</td>\n      <td>2020-09</td>\n    </tr>\n    <tr>\n      <th>125</th>\n      <td>2020-09-27</td>\n      <td>14859.98349</td>\n      <td>Sunday</td>\n      <td>2020-09</td>\n    </tr>\n    <tr>\n      <th>126</th>\n      <td>2020-09-25</td>\n      <td>14855.63943</td>\n      <td>Friday</td>\n      <td>2020-09</td>\n    </tr>\n    <tr>\n      <th>127</th>\n      <td>2020-09-24</td>\n      <td>14888.78607</td>\n      <td>Thursday</td>\n      <td>2020-09</td>\n    </tr>\n    <tr>\n      <th>128</th>\n      <td>2020-09-23</td>\n      <td>14825.54899</td>\n      <td>Wednesday</td>\n      <td>2020-09</td>\n    </tr>\n  </tbody>\n</table>\n<p>129 rows × 4 columns</p>\n</div>"
     },
     "metadata": {},
     "execution_count": 18
    }
   ],
   "source": [
    "Exchanges_Reset_index['Week'] =Exchanges_Reset_index['Date'].dt.to_period('M')\n",
    "Exchanges_Reset_index"
   ]
  },
  {
   "cell_type": "code",
   "execution_count": 19,
   "metadata": {},
   "outputs": [
    {
     "output_type": "execute_result",
     "data": {
      "text/plain": [
       "Week            2020-09       2020-10       2020-11       2020-12  \\\n",
       "Day                                                                 \n",
       "Friday     14855.639430  14700.844764  14149.499635  14120.459117   \n",
       "Monday     14892.321940  14708.441850  14256.315880  14113.693393   \n",
       "Sunday     14859.983490           NaN           NaN           NaN   \n",
       "Thursday   14888.786070  14706.616416  14196.648108  14124.714288   \n",
       "Tuesday    14880.932100  14687.674963  14205.105303  14124.182250   \n",
       "Wednesday  14846.497925  14686.334510  14201.325225  14095.843544   \n",
       "\n",
       "Week            2021-01       2021-02       2021-03  \n",
       "Day                                                  \n",
       "Friday     14082.246506  14091.153825  14365.141207  \n",
       "Monday     14057.416037  14017.196765  14348.872773  \n",
       "Sunday              NaN           NaN           NaN  \n",
       "Thursday   13997.302973  14039.100480  14335.009770  \n",
       "Tuesday    14026.847787  13988.433313  14353.435433  \n",
       "Wednesday  14014.393330  14022.474155  14330.491160  "
      ],
      "text/html": "<div>\n<style scoped>\n    .dataframe tbody tr th:only-of-type {\n        vertical-align: middle;\n    }\n\n    .dataframe tbody tr th {\n        vertical-align: top;\n    }\n\n    .dataframe thead th {\n        text-align: right;\n    }\n</style>\n<table border=\"1\" class=\"dataframe\">\n  <thead>\n    <tr style=\"text-align: right;\">\n      <th>Week</th>\n      <th>2020-09</th>\n      <th>2020-10</th>\n      <th>2020-11</th>\n      <th>2020-12</th>\n      <th>2021-01</th>\n      <th>2021-02</th>\n      <th>2021-03</th>\n    </tr>\n    <tr>\n      <th>Day</th>\n      <th></th>\n      <th></th>\n      <th></th>\n      <th></th>\n      <th></th>\n      <th></th>\n      <th></th>\n    </tr>\n  </thead>\n  <tbody>\n    <tr>\n      <th>Friday</th>\n      <td>14855.639430</td>\n      <td>14700.844764</td>\n      <td>14149.499635</td>\n      <td>14120.459117</td>\n      <td>14082.246506</td>\n      <td>14091.153825</td>\n      <td>14365.141207</td>\n    </tr>\n    <tr>\n      <th>Monday</th>\n      <td>14892.321940</td>\n      <td>14708.441850</td>\n      <td>14256.315880</td>\n      <td>14113.693393</td>\n      <td>14057.416037</td>\n      <td>14017.196765</td>\n      <td>14348.872773</td>\n    </tr>\n    <tr>\n      <th>Sunday</th>\n      <td>14859.983490</td>\n      <td>NaN</td>\n      <td>NaN</td>\n      <td>NaN</td>\n      <td>NaN</td>\n      <td>NaN</td>\n      <td>NaN</td>\n    </tr>\n    <tr>\n      <th>Thursday</th>\n      <td>14888.786070</td>\n      <td>14706.616416</td>\n      <td>14196.648108</td>\n      <td>14124.714288</td>\n      <td>13997.302973</td>\n      <td>14039.100480</td>\n      <td>14335.009770</td>\n    </tr>\n    <tr>\n      <th>Tuesday</th>\n      <td>14880.932100</td>\n      <td>14687.674963</td>\n      <td>14205.105303</td>\n      <td>14124.182250</td>\n      <td>14026.847787</td>\n      <td>13988.433313</td>\n      <td>14353.435433</td>\n    </tr>\n    <tr>\n      <th>Wednesday</th>\n      <td>14846.497925</td>\n      <td>14686.334510</td>\n      <td>14201.325225</td>\n      <td>14095.843544</td>\n      <td>14014.393330</td>\n      <td>14022.474155</td>\n      <td>14330.491160</td>\n    </tr>\n  </tbody>\n</table>\n</div>"
     },
     "metadata": {},
     "execution_count": 19
    }
   ],
   "source": [
    "mean_Ex_RI = pd.crosstab(index=Exchanges_Reset_index['Day'],\n",
    "           columns=Exchanges_Reset_index['Week'],\n",
    "           values=Exchanges_Reset_index['IDR'],\n",
    "           aggfunc='mean')\n",
    "mean_Ex_RI#.dropna(how='any')"
   ]
  },
  {
   "cell_type": "code",
   "execution_count": 20,
   "metadata": {},
   "outputs": [
    {
     "output_type": "execute_result",
     "data": {
      "text/plain": [
       "Text(0, 0.5, 'IDR')"
      ]
     },
     "metadata": {},
     "execution_count": 20
    },
    {
     "output_type": "display_data",
     "data": {
      "text/plain": "<Figure size 720x360 with 1 Axes>",
      "image/svg+xml": "<?xml version=\"1.0\" encoding=\"utf-8\" standalone=\"no\"?>\n<!DOCTYPE svg PUBLIC \"-//W3C//DTD SVG 1.1//EN\"\n  \"http://www.w3.org/Graphics/SVG/1.1/DTD/svg11.dtd\">\n<!-- Created with matplotlib (https://matplotlib.org/) -->\n<svg height=\"317.99625pt\" version=\"1.1\" viewBox=\"0 0 624.890625 317.99625\" width=\"624.890625pt\" xmlns=\"http://www.w3.org/2000/svg\" xmlns:xlink=\"http://www.w3.org/1999/xlink\">\n <defs>\n  <style type=\"text/css\">\n*{stroke-linecap:butt;stroke-linejoin:round;}\n  </style>\n </defs>\n <g id=\"figure_1\">\n  <g id=\"patch_1\">\n   <path d=\"M 0 317.99625 \nL 624.890625 317.99625 \nL 624.890625 0 \nL 0 0 \nz\n\" style=\"fill:none;\"/>\n  </g>\n  <g id=\"axes_1\">\n   <g id=\"patch_2\">\n    <path d=\"M 59.690625 294.118125 \nL 617.690625 294.118125 \nL 617.690625 22.318125 \nL 59.690625 22.318125 \nz\n\" style=\"fill:#ffffff;\"/>\n   </g>\n   <g id=\"matplotlib.axis_1\">\n    <g id=\"xtick_1\">\n     <g id=\"line2d_1\">\n      <defs>\n       <path d=\"M 0 0 \nL 0 3.5 \n\" id=\"mc7a8e33cf3\" style=\"stroke:#000000;stroke-width:0.8;\"/>\n      </defs>\n      <g>\n       <use style=\"stroke:#000000;stroke-width:0.8;\" x=\"152.690625\" xlink:href=\"#mc7a8e33cf3\" y=\"294.118125\"/>\n      </g>\n     </g>\n     <g id=\"text_1\">\n      <!-- 2021-01 -->\n      <defs>\n       <path d=\"M 19.1875 8.296875 \nL 53.609375 8.296875 \nL 53.609375 0 \nL 7.328125 0 \nL 7.328125 8.296875 \nQ 12.9375 14.109375 22.625 23.890625 \nQ 32.328125 33.6875 34.8125 36.53125 \nQ 39.546875 41.84375 41.421875 45.53125 \nQ 43.3125 49.21875 43.3125 52.78125 \nQ 43.3125 58.59375 39.234375 62.25 \nQ 35.15625 65.921875 28.609375 65.921875 \nQ 23.96875 65.921875 18.8125 64.3125 \nQ 13.671875 62.703125 7.8125 59.421875 \nL 7.8125 69.390625 \nQ 13.765625 71.78125 18.9375 73 \nQ 24.125 74.21875 28.421875 74.21875 \nQ 39.75 74.21875 46.484375 68.546875 \nQ 53.21875 62.890625 53.21875 53.421875 \nQ 53.21875 48.921875 51.53125 44.890625 \nQ 49.859375 40.875 45.40625 35.40625 \nQ 44.1875 33.984375 37.640625 27.21875 \nQ 31.109375 20.453125 19.1875 8.296875 \nz\n\" id=\"DejaVuSans-50\"/>\n       <path d=\"M 31.78125 66.40625 \nQ 24.171875 66.40625 20.328125 58.90625 \nQ 16.5 51.421875 16.5 36.375 \nQ 16.5 21.390625 20.328125 13.890625 \nQ 24.171875 6.390625 31.78125 6.390625 \nQ 39.453125 6.390625 43.28125 13.890625 \nQ 47.125 21.390625 47.125 36.375 \nQ 47.125 51.421875 43.28125 58.90625 \nQ 39.453125 66.40625 31.78125 66.40625 \nz\nM 31.78125 74.21875 \nQ 44.046875 74.21875 50.515625 64.515625 \nQ 56.984375 54.828125 56.984375 36.375 \nQ 56.984375 17.96875 50.515625 8.265625 \nQ 44.046875 -1.421875 31.78125 -1.421875 \nQ 19.53125 -1.421875 13.0625 8.265625 \nQ 6.59375 17.96875 6.59375 36.375 \nQ 6.59375 54.828125 13.0625 64.515625 \nQ 19.53125 74.21875 31.78125 74.21875 \nz\n\" id=\"DejaVuSans-48\"/>\n       <path d=\"M 12.40625 8.296875 \nL 28.515625 8.296875 \nL 28.515625 63.921875 \nL 10.984375 60.40625 \nL 10.984375 69.390625 \nL 28.421875 72.90625 \nL 38.28125 72.90625 \nL 38.28125 8.296875 \nL 54.390625 8.296875 \nL 54.390625 0 \nL 12.40625 0 \nz\n\" id=\"DejaVuSans-49\"/>\n       <path d=\"M 4.890625 31.390625 \nL 31.203125 31.390625 \nL 31.203125 23.390625 \nL 4.890625 23.390625 \nz\n\" id=\"DejaVuSans-45\"/>\n      </defs>\n      <g transform=\"translate(131.799219 308.716563)scale(0.1 -0.1)\">\n       <use xlink:href=\"#DejaVuSans-50\"/>\n       <use x=\"63.623047\" xlink:href=\"#DejaVuSans-48\"/>\n       <use x=\"127.246094\" xlink:href=\"#DejaVuSans-50\"/>\n       <use x=\"190.869141\" xlink:href=\"#DejaVuSans-49\"/>\n       <use x=\"254.492188\" xlink:href=\"#DejaVuSans-45\"/>\n       <use x=\"290.576172\" xlink:href=\"#DejaVuSans-48\"/>\n       <use x=\"354.199219\" xlink:href=\"#DejaVuSans-49\"/>\n      </g>\n     </g>\n    </g>\n    <g id=\"xtick_2\">\n     <g id=\"line2d_2\">\n      <g>\n       <use style=\"stroke:#000000;stroke-width:0.8;\" x=\"338.690625\" xlink:href=\"#mc7a8e33cf3\" y=\"294.118125\"/>\n      </g>\n     </g>\n     <g id=\"text_2\">\n      <!-- 2021-02 -->\n      <g transform=\"translate(317.799219 308.716563)scale(0.1 -0.1)\">\n       <use xlink:href=\"#DejaVuSans-50\"/>\n       <use x=\"63.623047\" xlink:href=\"#DejaVuSans-48\"/>\n       <use x=\"127.246094\" xlink:href=\"#DejaVuSans-50\"/>\n       <use x=\"190.869141\" xlink:href=\"#DejaVuSans-49\"/>\n       <use x=\"254.492188\" xlink:href=\"#DejaVuSans-45\"/>\n       <use x=\"290.576172\" xlink:href=\"#DejaVuSans-48\"/>\n       <use x=\"354.199219\" xlink:href=\"#DejaVuSans-50\"/>\n      </g>\n     </g>\n    </g>\n    <g id=\"xtick_3\">\n     <g id=\"line2d_3\">\n      <g>\n       <use style=\"stroke:#000000;stroke-width:0.8;\" x=\"524.690625\" xlink:href=\"#mc7a8e33cf3\" y=\"294.118125\"/>\n      </g>\n     </g>\n     <g id=\"text_3\">\n      <!-- 2021-03 -->\n      <defs>\n       <path d=\"M 40.578125 39.3125 \nQ 47.65625 37.796875 51.625 33 \nQ 55.609375 28.21875 55.609375 21.1875 \nQ 55.609375 10.40625 48.1875 4.484375 \nQ 40.765625 -1.421875 27.09375 -1.421875 \nQ 22.515625 -1.421875 17.65625 -0.515625 \nQ 12.796875 0.390625 7.625 2.203125 \nL 7.625 11.71875 \nQ 11.71875 9.328125 16.59375 8.109375 \nQ 21.484375 6.890625 26.8125 6.890625 \nQ 36.078125 6.890625 40.9375 10.546875 \nQ 45.796875 14.203125 45.796875 21.1875 \nQ 45.796875 27.640625 41.28125 31.265625 \nQ 36.765625 34.90625 28.71875 34.90625 \nL 20.21875 34.90625 \nL 20.21875 43.015625 \nL 29.109375 43.015625 \nQ 36.375 43.015625 40.234375 45.921875 \nQ 44.09375 48.828125 44.09375 54.296875 \nQ 44.09375 59.90625 40.109375 62.90625 \nQ 36.140625 65.921875 28.71875 65.921875 \nQ 24.65625 65.921875 20.015625 65.03125 \nQ 15.375 64.15625 9.8125 62.3125 \nL 9.8125 71.09375 \nQ 15.4375 72.65625 20.34375 73.4375 \nQ 25.25 74.21875 29.59375 74.21875 \nQ 40.828125 74.21875 47.359375 69.109375 \nQ 53.90625 64.015625 53.90625 55.328125 \nQ 53.90625 49.265625 50.4375 45.09375 \nQ 46.96875 40.921875 40.578125 39.3125 \nz\n\" id=\"DejaVuSans-51\"/>\n      </defs>\n      <g transform=\"translate(503.799219 308.716563)scale(0.1 -0.1)\">\n       <use xlink:href=\"#DejaVuSans-50\"/>\n       <use x=\"63.623047\" xlink:href=\"#DejaVuSans-48\"/>\n       <use x=\"127.246094\" xlink:href=\"#DejaVuSans-50\"/>\n       <use x=\"190.869141\" xlink:href=\"#DejaVuSans-49\"/>\n       <use x=\"254.492188\" xlink:href=\"#DejaVuSans-45\"/>\n       <use x=\"290.576172\" xlink:href=\"#DejaVuSans-48\"/>\n       <use x=\"354.199219\" xlink:href=\"#DejaVuSans-51\"/>\n      </g>\n     </g>\n    </g>\n   </g>\n   <g id=\"matplotlib.axis_2\">\n    <g id=\"ytick_1\">\n     <g id=\"line2d_4\">\n      <defs>\n       <path d=\"M 0 0 \nL -3.5 0 \n\" id=\"m947498fc2a\" style=\"stroke:#000000;stroke-width:0.8;\"/>\n      </defs>\n      <g>\n       <use style=\"stroke:#000000;stroke-width:0.8;\" x=\"59.690625\" xlink:href=\"#m947498fc2a\" y=\"274.176737\"/>\n      </g>\n     </g>\n     <g id=\"text_4\">\n      <!-- 14000 -->\n      <defs>\n       <path d=\"M 37.796875 64.3125 \nL 12.890625 25.390625 \nL 37.796875 25.390625 \nz\nM 35.203125 72.90625 \nL 47.609375 72.90625 \nL 47.609375 25.390625 \nL 58.015625 25.390625 \nL 58.015625 17.1875 \nL 47.609375 17.1875 \nL 47.609375 0 \nL 37.796875 0 \nL 37.796875 17.1875 \nL 4.890625 17.1875 \nL 4.890625 26.703125 \nz\n\" id=\"DejaVuSans-52\"/>\n      </defs>\n      <g transform=\"translate(20.878125 277.975956)scale(0.1 -0.1)\">\n       <use xlink:href=\"#DejaVuSans-49\"/>\n       <use x=\"63.623047\" xlink:href=\"#DejaVuSans-52\"/>\n       <use x=\"127.246094\" xlink:href=\"#DejaVuSans-48\"/>\n       <use x=\"190.869141\" xlink:href=\"#DejaVuSans-48\"/>\n       <use x=\"254.492188\" xlink:href=\"#DejaVuSans-48\"/>\n      </g>\n     </g>\n    </g>\n    <g id=\"ytick_2\">\n     <g id=\"line2d_5\">\n      <g>\n       <use style=\"stroke:#000000;stroke-width:0.8;\" x=\"59.690625\" xlink:href=\"#m947498fc2a\" y=\"241.380649\"/>\n      </g>\n     </g>\n     <g id=\"text_5\">\n      <!-- 14050 -->\n      <defs>\n       <path d=\"M 10.796875 72.90625 \nL 49.515625 72.90625 \nL 49.515625 64.59375 \nL 19.828125 64.59375 \nL 19.828125 46.734375 \nQ 21.96875 47.46875 24.109375 47.828125 \nQ 26.265625 48.1875 28.421875 48.1875 \nQ 40.625 48.1875 47.75 41.5 \nQ 54.890625 34.8125 54.890625 23.390625 \nQ 54.890625 11.625 47.5625 5.09375 \nQ 40.234375 -1.421875 26.90625 -1.421875 \nQ 22.3125 -1.421875 17.546875 -0.640625 \nQ 12.796875 0.140625 7.71875 1.703125 \nL 7.71875 11.625 \nQ 12.109375 9.234375 16.796875 8.0625 \nQ 21.484375 6.890625 26.703125 6.890625 \nQ 35.15625 6.890625 40.078125 11.328125 \nQ 45.015625 15.765625 45.015625 23.390625 \nQ 45.015625 31 40.078125 35.4375 \nQ 35.15625 39.890625 26.703125 39.890625 \nQ 22.75 39.890625 18.8125 39.015625 \nQ 14.890625 38.140625 10.796875 36.28125 \nz\n\" id=\"DejaVuSans-53\"/>\n      </defs>\n      <g transform=\"translate(20.878125 245.179868)scale(0.1 -0.1)\">\n       <use xlink:href=\"#DejaVuSans-49\"/>\n       <use x=\"63.623047\" xlink:href=\"#DejaVuSans-52\"/>\n       <use x=\"127.246094\" xlink:href=\"#DejaVuSans-48\"/>\n       <use x=\"190.869141\" xlink:href=\"#DejaVuSans-53\"/>\n       <use x=\"254.492188\" xlink:href=\"#DejaVuSans-48\"/>\n      </g>\n     </g>\n    </g>\n    <g id=\"ytick_3\">\n     <g id=\"line2d_6\">\n      <g>\n       <use style=\"stroke:#000000;stroke-width:0.8;\" x=\"59.690625\" xlink:href=\"#m947498fc2a\" y=\"208.58456\"/>\n      </g>\n     </g>\n     <g id=\"text_6\">\n      <!-- 14100 -->\n      <g transform=\"translate(20.878125 212.383779)scale(0.1 -0.1)\">\n       <use xlink:href=\"#DejaVuSans-49\"/>\n       <use x=\"63.623047\" xlink:href=\"#DejaVuSans-52\"/>\n       <use x=\"127.246094\" xlink:href=\"#DejaVuSans-49\"/>\n       <use x=\"190.869141\" xlink:href=\"#DejaVuSans-48\"/>\n       <use x=\"254.492188\" xlink:href=\"#DejaVuSans-48\"/>\n      </g>\n     </g>\n    </g>\n    <g id=\"ytick_4\">\n     <g id=\"line2d_7\">\n      <g>\n       <use style=\"stroke:#000000;stroke-width:0.8;\" x=\"59.690625\" xlink:href=\"#m947498fc2a\" y=\"175.788472\"/>\n      </g>\n     </g>\n     <g id=\"text_7\">\n      <!-- 14150 -->\n      <g transform=\"translate(20.878125 179.58769)scale(0.1 -0.1)\">\n       <use xlink:href=\"#DejaVuSans-49\"/>\n       <use x=\"63.623047\" xlink:href=\"#DejaVuSans-52\"/>\n       <use x=\"127.246094\" xlink:href=\"#DejaVuSans-49\"/>\n       <use x=\"190.869141\" xlink:href=\"#DejaVuSans-53\"/>\n       <use x=\"254.492188\" xlink:href=\"#DejaVuSans-48\"/>\n      </g>\n     </g>\n    </g>\n    <g id=\"ytick_5\">\n     <g id=\"line2d_8\">\n      <g>\n       <use style=\"stroke:#000000;stroke-width:0.8;\" x=\"59.690625\" xlink:href=\"#m947498fc2a\" y=\"142.992383\"/>\n      </g>\n     </g>\n     <g id=\"text_8\">\n      <!-- 14200 -->\n      <g transform=\"translate(20.878125 146.791602)scale(0.1 -0.1)\">\n       <use xlink:href=\"#DejaVuSans-49\"/>\n       <use x=\"63.623047\" xlink:href=\"#DejaVuSans-52\"/>\n       <use x=\"127.246094\" xlink:href=\"#DejaVuSans-50\"/>\n       <use x=\"190.869141\" xlink:href=\"#DejaVuSans-48\"/>\n       <use x=\"254.492188\" xlink:href=\"#DejaVuSans-48\"/>\n      </g>\n     </g>\n    </g>\n    <g id=\"ytick_6\">\n     <g id=\"line2d_9\">\n      <g>\n       <use style=\"stroke:#000000;stroke-width:0.8;\" x=\"59.690625\" xlink:href=\"#m947498fc2a\" y=\"110.196295\"/>\n      </g>\n     </g>\n     <g id=\"text_9\">\n      <!-- 14250 -->\n      <g transform=\"translate(20.878125 113.995513)scale(0.1 -0.1)\">\n       <use xlink:href=\"#DejaVuSans-49\"/>\n       <use x=\"63.623047\" xlink:href=\"#DejaVuSans-52\"/>\n       <use x=\"127.246094\" xlink:href=\"#DejaVuSans-50\"/>\n       <use x=\"190.869141\" xlink:href=\"#DejaVuSans-53\"/>\n       <use x=\"254.492188\" xlink:href=\"#DejaVuSans-48\"/>\n      </g>\n     </g>\n    </g>\n    <g id=\"ytick_7\">\n     <g id=\"line2d_10\">\n      <g>\n       <use style=\"stroke:#000000;stroke-width:0.8;\" x=\"59.690625\" xlink:href=\"#m947498fc2a\" y=\"77.400206\"/>\n      </g>\n     </g>\n     <g id=\"text_10\">\n      <!-- 14300 -->\n      <g transform=\"translate(20.878125 81.199425)scale(0.1 -0.1)\">\n       <use xlink:href=\"#DejaVuSans-49\"/>\n       <use x=\"63.623047\" xlink:href=\"#DejaVuSans-52\"/>\n       <use x=\"127.246094\" xlink:href=\"#DejaVuSans-51\"/>\n       <use x=\"190.869141\" xlink:href=\"#DejaVuSans-48\"/>\n       <use x=\"254.492188\" xlink:href=\"#DejaVuSans-48\"/>\n      </g>\n     </g>\n    </g>\n    <g id=\"ytick_8\">\n     <g id=\"line2d_11\">\n      <g>\n       <use style=\"stroke:#000000;stroke-width:0.8;\" x=\"59.690625\" xlink:href=\"#m947498fc2a\" y=\"44.604118\"/>\n      </g>\n     </g>\n     <g id=\"text_11\">\n      <!-- 14350 -->\n      <g transform=\"translate(20.878125 48.403336)scale(0.1 -0.1)\">\n       <use xlink:href=\"#DejaVuSans-49\"/>\n       <use x=\"63.623047\" xlink:href=\"#DejaVuSans-52\"/>\n       <use x=\"127.246094\" xlink:href=\"#DejaVuSans-51\"/>\n       <use x=\"190.869141\" xlink:href=\"#DejaVuSans-53\"/>\n       <use x=\"254.492188\" xlink:href=\"#DejaVuSans-48\"/>\n      </g>\n     </g>\n    </g>\n    <g id=\"text_12\">\n     <!-- IDR -->\n     <defs>\n      <path d=\"M 9.8125 72.90625 \nL 19.671875 72.90625 \nL 19.671875 0 \nL 9.8125 0 \nz\n\" id=\"DejaVuSans-73\"/>\n      <path d=\"M 19.671875 64.796875 \nL 19.671875 8.109375 \nL 31.59375 8.109375 \nQ 46.6875 8.109375 53.6875 14.9375 \nQ 60.6875 21.78125 60.6875 36.53125 \nQ 60.6875 51.171875 53.6875 57.984375 \nQ 46.6875 64.796875 31.59375 64.796875 \nz\nM 9.8125 72.90625 \nL 30.078125 72.90625 \nQ 51.265625 72.90625 61.171875 64.09375 \nQ 71.09375 55.28125 71.09375 36.53125 \nQ 71.09375 17.671875 61.125 8.828125 \nQ 51.171875 0 30.078125 0 \nL 9.8125 0 \nz\n\" id=\"DejaVuSans-68\"/>\n      <path d=\"M 44.390625 34.1875 \nQ 47.5625 33.109375 50.5625 29.59375 \nQ 53.5625 26.078125 56.59375 19.921875 \nL 66.609375 0 \nL 56 0 \nL 46.6875 18.703125 \nQ 43.0625 26.03125 39.671875 28.421875 \nQ 36.28125 30.8125 30.421875 30.8125 \nL 19.671875 30.8125 \nL 19.671875 0 \nL 9.8125 0 \nL 9.8125 72.90625 \nL 32.078125 72.90625 \nQ 44.578125 72.90625 50.734375 67.671875 \nQ 56.890625 62.453125 56.890625 51.90625 \nQ 56.890625 45.015625 53.6875 40.46875 \nQ 50.484375 35.9375 44.390625 34.1875 \nz\nM 19.671875 64.796875 \nL 19.671875 38.921875 \nL 32.078125 38.921875 \nQ 39.203125 38.921875 42.84375 42.21875 \nQ 46.484375 45.515625 46.484375 51.90625 \nQ 46.484375 58.296875 42.84375 61.546875 \nQ 39.203125 64.796875 32.078125 64.796875 \nz\n\" id=\"DejaVuSans-82\"/>\n     </defs>\n     <g transform=\"translate(14.798438 167.017344)rotate(-90)scale(0.1 -0.1)\">\n      <use xlink:href=\"#DejaVuSans-73\"/>\n      <use x=\"29.492188\" xlink:href=\"#DejaVuSans-68\"/>\n      <use x=\"106.494141\" xlink:href=\"#DejaVuSans-82\"/>\n     </g>\n    </g>\n   </g>\n   <g id=\"line2d_12\">\n    <path clip-path=\"url(#pd6194c9a37)\" d=\"M 124.790625 264.735839 \nL 180.590625 264.735839 \nL 180.590625 236.516308 \nL 124.790625 236.516308 \nL 124.790625 264.735839 \n\" style=\"fill:none;stroke:#1f77b4;stroke-linecap:square;\"/>\n   </g>\n   <g id=\"line2d_13\">\n    <path clip-path=\"url(#pd6194c9a37)\" d=\"M 152.690625 264.735839 \nL 152.690625 275.945776 \n\" style=\"fill:none;stroke:#1f77b4;stroke-linecap:square;\"/>\n   </g>\n   <g id=\"line2d_14\">\n    <path clip-path=\"url(#pd6194c9a37)\" d=\"M 152.690625 236.516308 \nL 152.690625 220.229464 \n\" style=\"fill:none;stroke:#1f77b4;stroke-linecap:square;\"/>\n   </g>\n   <g id=\"line2d_15\">\n    <path clip-path=\"url(#pd6194c9a37)\" d=\"M 138.740625 275.945776 \nL 166.640625 275.945776 \n\" style=\"fill:none;stroke:#000000;stroke-linecap:square;\"/>\n   </g>\n   <g id=\"line2d_16\">\n    <path clip-path=\"url(#pd6194c9a37)\" d=\"M 138.740625 220.229464 \nL 166.640625 220.229464 \n\" style=\"fill:none;stroke:#000000;stroke-linecap:square;\"/>\n   </g>\n   <g id=\"line2d_17\"/>\n   <g id=\"line2d_18\">\n    <path clip-path=\"url(#pd6194c9a37)\" d=\"M 310.790625 262.897005 \nL 366.590625 262.897005 \nL 366.590625 248.529881 \nL 310.790625 248.529881 \nL 310.790625 262.897005 \n\" style=\"fill:none;stroke:#1f77b4;stroke-linecap:square;\"/>\n   </g>\n   <g id=\"line2d_19\">\n    <path clip-path=\"url(#pd6194c9a37)\" d=\"M 338.690625 262.897005 \nL 338.690625 281.76358 \n\" style=\"fill:none;stroke:#1f77b4;stroke-linecap:square;\"/>\n   </g>\n   <g id=\"line2d_20\">\n    <path clip-path=\"url(#pd6194c9a37)\" d=\"M 338.690625 248.529881 \nL 338.690625 248.529881 \n\" style=\"fill:none;stroke:#1f77b4;stroke-linecap:square;\"/>\n   </g>\n   <g id=\"line2d_21\">\n    <path clip-path=\"url(#pd6194c9a37)\" d=\"M 324.740625 281.76358 \nL 352.640625 281.76358 \n\" style=\"fill:none;stroke:#000000;stroke-linecap:square;\"/>\n   </g>\n   <g id=\"line2d_22\">\n    <path clip-path=\"url(#pd6194c9a37)\" d=\"M 324.740625 248.529881 \nL 352.640625 248.529881 \n\" style=\"fill:none;stroke:#000000;stroke-linecap:square;\"/>\n   </g>\n   <g id=\"line2d_23\">\n    <defs>\n     <path d=\"M 0 3 \nC 0.795609 3 1.55874 2.683901 2.12132 2.12132 \nC 2.683901 1.55874 3 0.795609 3 0 \nC 3 -0.795609 2.683901 -1.55874 2.12132 -2.12132 \nC 1.55874 -2.683901 0.795609 -3 0 -3 \nC -0.795609 -3 -1.55874 -2.683901 -2.12132 -2.12132 \nC -2.683901 -1.55874 -3 -0.795609 -3 0 \nC -3 0.795609 -2.683901 1.55874 -2.12132 2.12132 \nC -1.55874 2.683901 -0.795609 3 0 3 \nz\n\" id=\"m32cbfe8b46\" style=\"stroke:#000000;\"/>\n    </defs>\n    <g clip-path=\"url(#pd6194c9a37)\">\n     <use style=\"fill-opacity:0;stroke:#000000;\" x=\"338.690625\" xlink:href=\"#m32cbfe8b46\" y=\"214.386959\"/>\n    </g>\n   </g>\n   <g id=\"line2d_24\">\n    <path clip-path=\"url(#pd6194c9a37)\" d=\"M 496.790625 54.436536 \nL 552.590625 54.436536 \nL 552.590625 42.350742 \nL 496.790625 42.350742 \nL 496.790625 54.436536 \n\" style=\"fill:none;stroke:#1f77b4;stroke-linecap:square;\"/>\n   </g>\n   <g id=\"line2d_25\">\n    <path clip-path=\"url(#pd6194c9a37)\" d=\"M 524.690625 54.436536 \nL 524.690625 57.40039 \n\" style=\"fill:none;stroke:#1f77b4;stroke-linecap:square;\"/>\n   </g>\n   <g id=\"line2d_26\">\n    <path clip-path=\"url(#pd6194c9a37)\" d=\"M 524.690625 42.350742 \nL 524.690625 34.67267 \n\" style=\"fill:none;stroke:#1f77b4;stroke-linecap:square;\"/>\n   </g>\n   <g id=\"line2d_27\">\n    <path clip-path=\"url(#pd6194c9a37)\" d=\"M 510.740625 57.40039 \nL 538.640625 57.40039 \n\" style=\"fill:none;stroke:#000000;stroke-linecap:square;\"/>\n   </g>\n   <g id=\"line2d_28\">\n    <path clip-path=\"url(#pd6194c9a37)\" d=\"M 510.740625 34.67267 \nL 538.640625 34.67267 \n\" style=\"fill:none;stroke:#000000;stroke-linecap:square;\"/>\n   </g>\n   <g id=\"line2d_29\"/>\n   <g id=\"line2d_30\">\n    <path clip-path=\"url(#pd6194c9a37)\" d=\"M 124.790625 256.566689 \nL 180.590625 256.566689 \n\" style=\"fill:none;stroke:#2ca02c;stroke-linecap:square;\"/>\n   </g>\n   <g id=\"line2d_31\">\n    <path clip-path=\"url(#pd6194c9a37)\" d=\"M 310.790625 259.43545 \nL 366.590625 259.43545 \n\" style=\"fill:none;stroke:#2ca02c;stroke-linecap:square;\"/>\n   </g>\n   <g id=\"line2d_32\">\n    <path clip-path=\"url(#pd6194c9a37)\" d=\"M 496.790625 45.34349 \nL 552.590625 45.34349 \n\" style=\"fill:none;stroke:#2ca02c;stroke-linecap:square;\"/>\n   </g>\n   <g id=\"patch_3\">\n    <path d=\"M 59.690625 294.118125 \nL 59.690625 22.318125 \n\" style=\"fill:none;stroke:#000000;stroke-linecap:square;stroke-linejoin:miter;stroke-width:0.8;\"/>\n   </g>\n   <g id=\"patch_4\">\n    <path d=\"M 617.690625 294.118125 \nL 617.690625 22.318125 \n\" style=\"fill:none;stroke:#000000;stroke-linecap:square;stroke-linejoin:miter;stroke-width:0.8;\"/>\n   </g>\n   <g id=\"patch_5\">\n    <path d=\"M 59.690625 294.118125 \nL 617.690625 294.118125 \n\" style=\"fill:none;stroke:#000000;stroke-linecap:square;stroke-linejoin:miter;stroke-width:0.8;\"/>\n   </g>\n   <g id=\"patch_6\">\n    <path d=\"M 59.690625 22.318125 \nL 617.690625 22.318125 \n\" style=\"fill:none;stroke:#000000;stroke-linecap:square;stroke-linejoin:miter;stroke-width:0.8;\"/>\n   </g>\n   <g id=\"text_13\">\n    <!-- Indonesian Rupiahs (IDR) per US Dollar (USD) -->\n    <defs>\n     <path d=\"M 54.890625 33.015625 \nL 54.890625 0 \nL 45.90625 0 \nL 45.90625 32.71875 \nQ 45.90625 40.484375 42.875 44.328125 \nQ 39.84375 48.1875 33.796875 48.1875 \nQ 26.515625 48.1875 22.3125 43.546875 \nQ 18.109375 38.921875 18.109375 30.90625 \nL 18.109375 0 \nL 9.078125 0 \nL 9.078125 54.6875 \nL 18.109375 54.6875 \nL 18.109375 46.1875 \nQ 21.34375 51.125 25.703125 53.5625 \nQ 30.078125 56 35.796875 56 \nQ 45.21875 56 50.046875 50.171875 \nQ 54.890625 44.34375 54.890625 33.015625 \nz\n\" id=\"DejaVuSans-110\"/>\n     <path d=\"M 45.40625 46.390625 \nL 45.40625 75.984375 \nL 54.390625 75.984375 \nL 54.390625 0 \nL 45.40625 0 \nL 45.40625 8.203125 \nQ 42.578125 3.328125 38.25 0.953125 \nQ 33.9375 -1.421875 27.875 -1.421875 \nQ 17.96875 -1.421875 11.734375 6.484375 \nQ 5.515625 14.40625 5.515625 27.296875 \nQ 5.515625 40.1875 11.734375 48.09375 \nQ 17.96875 56 27.875 56 \nQ 33.9375 56 38.25 53.625 \nQ 42.578125 51.265625 45.40625 46.390625 \nz\nM 14.796875 27.296875 \nQ 14.796875 17.390625 18.875 11.75 \nQ 22.953125 6.109375 30.078125 6.109375 \nQ 37.203125 6.109375 41.296875 11.75 \nQ 45.40625 17.390625 45.40625 27.296875 \nQ 45.40625 37.203125 41.296875 42.84375 \nQ 37.203125 48.484375 30.078125 48.484375 \nQ 22.953125 48.484375 18.875 42.84375 \nQ 14.796875 37.203125 14.796875 27.296875 \nz\n\" id=\"DejaVuSans-100\"/>\n     <path d=\"M 30.609375 48.390625 \nQ 23.390625 48.390625 19.1875 42.75 \nQ 14.984375 37.109375 14.984375 27.296875 \nQ 14.984375 17.484375 19.15625 11.84375 \nQ 23.34375 6.203125 30.609375 6.203125 \nQ 37.796875 6.203125 41.984375 11.859375 \nQ 46.1875 17.53125 46.1875 27.296875 \nQ 46.1875 37.015625 41.984375 42.703125 \nQ 37.796875 48.390625 30.609375 48.390625 \nz\nM 30.609375 56 \nQ 42.328125 56 49.015625 48.375 \nQ 55.71875 40.765625 55.71875 27.296875 \nQ 55.71875 13.875 49.015625 6.21875 \nQ 42.328125 -1.421875 30.609375 -1.421875 \nQ 18.84375 -1.421875 12.171875 6.21875 \nQ 5.515625 13.875 5.515625 27.296875 \nQ 5.515625 40.765625 12.171875 48.375 \nQ 18.84375 56 30.609375 56 \nz\n\" id=\"DejaVuSans-111\"/>\n     <path d=\"M 56.203125 29.59375 \nL 56.203125 25.203125 \nL 14.890625 25.203125 \nQ 15.484375 15.921875 20.484375 11.0625 \nQ 25.484375 6.203125 34.421875 6.203125 \nQ 39.59375 6.203125 44.453125 7.46875 \nQ 49.3125 8.734375 54.109375 11.28125 \nL 54.109375 2.78125 \nQ 49.265625 0.734375 44.1875 -0.34375 \nQ 39.109375 -1.421875 33.890625 -1.421875 \nQ 20.796875 -1.421875 13.15625 6.1875 \nQ 5.515625 13.8125 5.515625 26.8125 \nQ 5.515625 40.234375 12.765625 48.109375 \nQ 20.015625 56 32.328125 56 \nQ 43.359375 56 49.78125 48.890625 \nQ 56.203125 41.796875 56.203125 29.59375 \nz\nM 47.21875 32.234375 \nQ 47.125 39.59375 43.09375 43.984375 \nQ 39.0625 48.390625 32.421875 48.390625 \nQ 24.90625 48.390625 20.390625 44.140625 \nQ 15.875 39.890625 15.1875 32.171875 \nz\n\" id=\"DejaVuSans-101\"/>\n     <path d=\"M 44.28125 53.078125 \nL 44.28125 44.578125 \nQ 40.484375 46.53125 36.375 47.5 \nQ 32.28125 48.484375 27.875 48.484375 \nQ 21.1875 48.484375 17.84375 46.4375 \nQ 14.5 44.390625 14.5 40.28125 \nQ 14.5 37.15625 16.890625 35.375 \nQ 19.28125 33.59375 26.515625 31.984375 \nL 29.59375 31.296875 \nQ 39.15625 29.25 43.1875 25.515625 \nQ 47.21875 21.78125 47.21875 15.09375 \nQ 47.21875 7.46875 41.1875 3.015625 \nQ 35.15625 -1.421875 24.609375 -1.421875 \nQ 20.21875 -1.421875 15.453125 -0.5625 \nQ 10.6875 0.296875 5.421875 2 \nL 5.421875 11.28125 \nQ 10.40625 8.6875 15.234375 7.390625 \nQ 20.0625 6.109375 24.8125 6.109375 \nQ 31.15625 6.109375 34.5625 8.28125 \nQ 37.984375 10.453125 37.984375 14.40625 \nQ 37.984375 18.0625 35.515625 20.015625 \nQ 33.0625 21.96875 24.703125 23.78125 \nL 21.578125 24.515625 \nQ 13.234375 26.265625 9.515625 29.90625 \nQ 5.8125 33.546875 5.8125 39.890625 \nQ 5.8125 47.609375 11.28125 51.796875 \nQ 16.75 56 26.8125 56 \nQ 31.78125 56 36.171875 55.265625 \nQ 40.578125 54.546875 44.28125 53.078125 \nz\n\" id=\"DejaVuSans-115\"/>\n     <path d=\"M 9.421875 54.6875 \nL 18.40625 54.6875 \nL 18.40625 0 \nL 9.421875 0 \nz\nM 9.421875 75.984375 \nL 18.40625 75.984375 \nL 18.40625 64.59375 \nL 9.421875 64.59375 \nz\n\" id=\"DejaVuSans-105\"/>\n     <path d=\"M 34.28125 27.484375 \nQ 23.390625 27.484375 19.1875 25 \nQ 14.984375 22.515625 14.984375 16.5 \nQ 14.984375 11.71875 18.140625 8.90625 \nQ 21.296875 6.109375 26.703125 6.109375 \nQ 34.1875 6.109375 38.703125 11.40625 \nQ 43.21875 16.703125 43.21875 25.484375 \nL 43.21875 27.484375 \nz\nM 52.203125 31.203125 \nL 52.203125 0 \nL 43.21875 0 \nL 43.21875 8.296875 \nQ 40.140625 3.328125 35.546875 0.953125 \nQ 30.953125 -1.421875 24.3125 -1.421875 \nQ 15.921875 -1.421875 10.953125 3.296875 \nQ 6 8.015625 6 15.921875 \nQ 6 25.140625 12.171875 29.828125 \nQ 18.359375 34.515625 30.609375 34.515625 \nL 43.21875 34.515625 \nL 43.21875 35.40625 \nQ 43.21875 41.609375 39.140625 45 \nQ 35.0625 48.390625 27.6875 48.390625 \nQ 23 48.390625 18.546875 47.265625 \nQ 14.109375 46.140625 10.015625 43.890625 \nL 10.015625 52.203125 \nQ 14.9375 54.109375 19.578125 55.046875 \nQ 24.21875 56 28.609375 56 \nQ 40.484375 56 46.34375 49.84375 \nQ 52.203125 43.703125 52.203125 31.203125 \nz\n\" id=\"DejaVuSans-97\"/>\n     <path id=\"DejaVuSans-32\"/>\n     <path d=\"M 8.5 21.578125 \nL 8.5 54.6875 \nL 17.484375 54.6875 \nL 17.484375 21.921875 \nQ 17.484375 14.15625 20.5 10.265625 \nQ 23.53125 6.390625 29.59375 6.390625 \nQ 36.859375 6.390625 41.078125 11.03125 \nQ 45.3125 15.671875 45.3125 23.6875 \nL 45.3125 54.6875 \nL 54.296875 54.6875 \nL 54.296875 0 \nL 45.3125 0 \nL 45.3125 8.40625 \nQ 42.046875 3.421875 37.71875 1 \nQ 33.40625 -1.421875 27.6875 -1.421875 \nQ 18.265625 -1.421875 13.375 4.4375 \nQ 8.5 10.296875 8.5 21.578125 \nz\nM 31.109375 56 \nz\n\" id=\"DejaVuSans-117\"/>\n     <path d=\"M 18.109375 8.203125 \nL 18.109375 -20.796875 \nL 9.078125 -20.796875 \nL 9.078125 54.6875 \nL 18.109375 54.6875 \nL 18.109375 46.390625 \nQ 20.953125 51.265625 25.265625 53.625 \nQ 29.59375 56 35.59375 56 \nQ 45.5625 56 51.78125 48.09375 \nQ 58.015625 40.1875 58.015625 27.296875 \nQ 58.015625 14.40625 51.78125 6.484375 \nQ 45.5625 -1.421875 35.59375 -1.421875 \nQ 29.59375 -1.421875 25.265625 0.953125 \nQ 20.953125 3.328125 18.109375 8.203125 \nz\nM 48.6875 27.296875 \nQ 48.6875 37.203125 44.609375 42.84375 \nQ 40.53125 48.484375 33.40625 48.484375 \nQ 26.265625 48.484375 22.1875 42.84375 \nQ 18.109375 37.203125 18.109375 27.296875 \nQ 18.109375 17.390625 22.1875 11.75 \nQ 26.265625 6.109375 33.40625 6.109375 \nQ 40.53125 6.109375 44.609375 11.75 \nQ 48.6875 17.390625 48.6875 27.296875 \nz\n\" id=\"DejaVuSans-112\"/>\n     <path d=\"M 54.890625 33.015625 \nL 54.890625 0 \nL 45.90625 0 \nL 45.90625 32.71875 \nQ 45.90625 40.484375 42.875 44.328125 \nQ 39.84375 48.1875 33.796875 48.1875 \nQ 26.515625 48.1875 22.3125 43.546875 \nQ 18.109375 38.921875 18.109375 30.90625 \nL 18.109375 0 \nL 9.078125 0 \nL 9.078125 75.984375 \nL 18.109375 75.984375 \nL 18.109375 46.1875 \nQ 21.34375 51.125 25.703125 53.5625 \nQ 30.078125 56 35.796875 56 \nQ 45.21875 56 50.046875 50.171875 \nQ 54.890625 44.34375 54.890625 33.015625 \nz\n\" id=\"DejaVuSans-104\"/>\n     <path d=\"M 31 75.875 \nQ 24.46875 64.65625 21.28125 53.65625 \nQ 18.109375 42.671875 18.109375 31.390625 \nQ 18.109375 20.125 21.3125 9.0625 \nQ 24.515625 -2 31 -13.1875 \nL 23.1875 -13.1875 \nQ 15.875 -1.703125 12.234375 9.375 \nQ 8.59375 20.453125 8.59375 31.390625 \nQ 8.59375 42.28125 12.203125 53.3125 \nQ 15.828125 64.359375 23.1875 75.875 \nz\n\" id=\"DejaVuSans-40\"/>\n     <path d=\"M 8.015625 75.875 \nL 15.828125 75.875 \nQ 23.140625 64.359375 26.78125 53.3125 \nQ 30.421875 42.28125 30.421875 31.390625 \nQ 30.421875 20.453125 26.78125 9.375 \nQ 23.140625 -1.703125 15.828125 -13.1875 \nL 8.015625 -13.1875 \nQ 14.5 -2 17.703125 9.0625 \nQ 20.90625 20.125 20.90625 31.390625 \nQ 20.90625 42.671875 17.703125 53.65625 \nQ 14.5 64.65625 8.015625 75.875 \nz\n\" id=\"DejaVuSans-41\"/>\n     <path d=\"M 41.109375 46.296875 \nQ 39.59375 47.171875 37.8125 47.578125 \nQ 36.03125 48 33.890625 48 \nQ 26.265625 48 22.1875 43.046875 \nQ 18.109375 38.09375 18.109375 28.8125 \nL 18.109375 0 \nL 9.078125 0 \nL 9.078125 54.6875 \nL 18.109375 54.6875 \nL 18.109375 46.1875 \nQ 20.953125 51.171875 25.484375 53.578125 \nQ 30.03125 56 36.53125 56 \nQ 37.453125 56 38.578125 55.875 \nQ 39.703125 55.765625 41.0625 55.515625 \nz\n\" id=\"DejaVuSans-114\"/>\n     <path d=\"M 8.6875 72.90625 \nL 18.609375 72.90625 \nL 18.609375 28.609375 \nQ 18.609375 16.890625 22.84375 11.734375 \nQ 27.09375 6.59375 36.625 6.59375 \nQ 46.09375 6.59375 50.34375 11.734375 \nQ 54.59375 16.890625 54.59375 28.609375 \nL 54.59375 72.90625 \nL 64.5 72.90625 \nL 64.5 27.390625 \nQ 64.5 13.140625 57.4375 5.859375 \nQ 50.390625 -1.421875 36.625 -1.421875 \nQ 22.796875 -1.421875 15.734375 5.859375 \nQ 8.6875 13.140625 8.6875 27.390625 \nz\n\" id=\"DejaVuSans-85\"/>\n     <path d=\"M 53.515625 70.515625 \nL 53.515625 60.890625 \nQ 47.90625 63.578125 42.921875 64.890625 \nQ 37.9375 66.21875 33.296875 66.21875 \nQ 25.25 66.21875 20.875 63.09375 \nQ 16.5 59.96875 16.5 54.203125 \nQ 16.5 49.359375 19.40625 46.890625 \nQ 22.3125 44.4375 30.421875 42.921875 \nL 36.375 41.703125 \nQ 47.40625 39.59375 52.65625 34.296875 \nQ 57.90625 29 57.90625 20.125 \nQ 57.90625 9.515625 50.796875 4.046875 \nQ 43.703125 -1.421875 29.984375 -1.421875 \nQ 24.8125 -1.421875 18.96875 -0.25 \nQ 13.140625 0.921875 6.890625 3.21875 \nL 6.890625 13.375 \nQ 12.890625 10.015625 18.65625 8.296875 \nQ 24.421875 6.59375 29.984375 6.59375 \nQ 38.421875 6.59375 43.015625 9.90625 \nQ 47.609375 13.234375 47.609375 19.390625 \nQ 47.609375 24.75 44.3125 27.78125 \nQ 41.015625 30.8125 33.5 32.328125 \nL 27.484375 33.5 \nQ 16.453125 35.6875 11.515625 40.375 \nQ 6.59375 45.0625 6.59375 53.421875 \nQ 6.59375 63.09375 13.40625 68.65625 \nQ 20.21875 74.21875 32.171875 74.21875 \nQ 37.3125 74.21875 42.625 73.28125 \nQ 47.953125 72.359375 53.515625 70.515625 \nz\n\" id=\"DejaVuSans-83\"/>\n     <path d=\"M 9.421875 75.984375 \nL 18.40625 75.984375 \nL 18.40625 0 \nL 9.421875 0 \nz\n\" id=\"DejaVuSans-108\"/>\n    </defs>\n    <g transform=\"translate(201.968438 16.318125)scale(0.12 -0.12)\">\n     <use xlink:href=\"#DejaVuSans-73\"/>\n     <use x=\"29.492188\" xlink:href=\"#DejaVuSans-110\"/>\n     <use x=\"92.871094\" xlink:href=\"#DejaVuSans-100\"/>\n     <use x=\"156.347656\" xlink:href=\"#DejaVuSans-111\"/>\n     <use x=\"217.529297\" xlink:href=\"#DejaVuSans-110\"/>\n     <use x=\"280.908203\" xlink:href=\"#DejaVuSans-101\"/>\n     <use x=\"342.431641\" xlink:href=\"#DejaVuSans-115\"/>\n     <use x=\"394.53125\" xlink:href=\"#DejaVuSans-105\"/>\n     <use x=\"422.314453\" xlink:href=\"#DejaVuSans-97\"/>\n     <use x=\"483.59375\" xlink:href=\"#DejaVuSans-110\"/>\n     <use x=\"546.972656\" xlink:href=\"#DejaVuSans-32\"/>\n     <use x=\"578.759766\" xlink:href=\"#DejaVuSans-82\"/>\n     <use x=\"643.742188\" xlink:href=\"#DejaVuSans-117\"/>\n     <use x=\"707.121094\" xlink:href=\"#DejaVuSans-112\"/>\n     <use x=\"770.597656\" xlink:href=\"#DejaVuSans-105\"/>\n     <use x=\"798.380859\" xlink:href=\"#DejaVuSans-97\"/>\n     <use x=\"859.660156\" xlink:href=\"#DejaVuSans-104\"/>\n     <use x=\"923.039062\" xlink:href=\"#DejaVuSans-115\"/>\n     <use x=\"975.138672\" xlink:href=\"#DejaVuSans-32\"/>\n     <use x=\"1006.925781\" xlink:href=\"#DejaVuSans-40\"/>\n     <use x=\"1045.939453\" xlink:href=\"#DejaVuSans-73\"/>\n     <use x=\"1075.431641\" xlink:href=\"#DejaVuSans-68\"/>\n     <use x=\"1152.433594\" xlink:href=\"#DejaVuSans-82\"/>\n     <use x=\"1221.916016\" xlink:href=\"#DejaVuSans-41\"/>\n     <use x=\"1260.929688\" xlink:href=\"#DejaVuSans-32\"/>\n     <use x=\"1292.716797\" xlink:href=\"#DejaVuSans-112\"/>\n     <use x=\"1356.193359\" xlink:href=\"#DejaVuSans-101\"/>\n     <use x=\"1417.716797\" xlink:href=\"#DejaVuSans-114\"/>\n     <use x=\"1458.830078\" xlink:href=\"#DejaVuSans-32\"/>\n     <use x=\"1490.617188\" xlink:href=\"#DejaVuSans-85\"/>\n     <use x=\"1563.810547\" xlink:href=\"#DejaVuSans-83\"/>\n     <use x=\"1627.287109\" xlink:href=\"#DejaVuSans-32\"/>\n     <use x=\"1659.074219\" xlink:href=\"#DejaVuSans-68\"/>\n     <use x=\"1736.076172\" xlink:href=\"#DejaVuSans-111\"/>\n     <use x=\"1797.257812\" xlink:href=\"#DejaVuSans-108\"/>\n     <use x=\"1825.041016\" xlink:href=\"#DejaVuSans-108\"/>\n     <use x=\"1852.824219\" xlink:href=\"#DejaVuSans-97\"/>\n     <use x=\"1914.103516\" xlink:href=\"#DejaVuSans-114\"/>\n     <use x=\"1955.216797\" xlink:href=\"#DejaVuSans-32\"/>\n     <use x=\"1987.003906\" xlink:href=\"#DejaVuSans-40\"/>\n     <use x=\"2026.017578\" xlink:href=\"#DejaVuSans-85\"/>\n     <use x=\"2099.210938\" xlink:href=\"#DejaVuSans-83\"/>\n     <use x=\"2162.6875\" xlink:href=\"#DejaVuSans-68\"/>\n     <use x=\"2239.689453\" xlink:href=\"#DejaVuSans-41\"/>\n    </g>\n   </g>\n  </g>\n </g>\n <defs>\n  <clipPath id=\"pd6194c9a37\">\n   <rect height=\"271.8\" width=\"558\" x=\"59.690625\" y=\"22.318125\"/>\n  </clipPath>\n </defs>\n</svg>\n",
      "image/png": "[encoded data removed]"
     },
     "metadata": {
      "needs_background": "light"
     }
    }
   ],
   "source": [
    "mean_Ex_RI[['2021-01','2021-02','2021-03']].plot.box(title='Indonesian Rupiahs (IDR) per US Dollar (USD)',figsize=(10,5)).set_ylabel('IDR')"
   ]
  },
  {
   "source": [
    "# IMBD Scraping"
   ],
   "cell_type": "markdown",
   "metadata": {}
  },
  {
   "source": [
    "the follwoing codes are meant to extract director and stars for each movie elements "
   ],
   "cell_type": "markdown",
   "metadata": {}
  },
  {
   "cell_type": "code",
   "execution_count": 113,
   "metadata": {},
   "outputs": [],
   "source": [
    "import requests \n",
    "from bs4 import BeautifulSoup \n",
    "import re \n",
    "\n",
    "# function to extract director and stars\n",
    "def extract_director_star(text):\n",
    "    split_result = re.sub(\"Director:|Stars:||\\n|\\s{2}\", '', text).split('|')\n",
    "    if len(split_result) == 2 :# ada director\n",
    "        director = split_result[0]\n",
    "    else: # tidak ada director\n",
    "        director = None \n",
    "\n",
    "    star = split_result[-1]\n",
    "    return director, star \n",
    "\n",
    "# get soup object \n",
    "url = 'https://www.imdb.com/search/title/?release_date=2020-01-01,2020-12-31&start=1&ref_=adv_nxt'\n",
    "url_get = requests.get(url)\n",
    "soup = BeautifulSoup(url_get.content,\"html.parser\")\n",
    "\n",
    "# get all director and stars elements\n",
    "director_stars = soup.find_all('p', {'class':''})\n",
    "directors, stars = list(zip(*[extract_director_star(element.text) for element in director_stars]))\n",
    "\n",
    "import pandas as pd \n",
    "# transform list object into dataframe\n",
    "df_star_director = pd.DataFrame([stars, directors], index=['star', 'director']).T\n"
   ]
  },
  {
   "cell_type": "code",
   "execution_count": 114,
   "metadata": {},
   "outputs": [
    {
     "output_type": "execute_result",
     "data": {
      "text/plain": [
       "                                                star         director\n",
       "0  Carey Mulligan,Bo Burnham,Alison Brie,Clancy B...  Emerald Fennell\n",
       "1  Frances McDormand,David Strathairn,Linda May,G...       Chloé Zhao\n",
       "2  Gary Oldman,Amanda Seyfried,Lily Collins,Tom P...    David Fincher\n",
       "3  Rosamund Pike,Peter Dinklage,Eiza González,Dia...       J Blakeson\n",
       "4          Steven Yeun,Yeri Han,Alan S. Kim,Noel Cho  Lee Isaac Chung"
      ],
      "text/html": "<div>\n<style scoped>\n    .dataframe tbody tr th:only-of-type {\n        vertical-align: middle;\n    }\n\n    .dataframe tbody tr th {\n        vertical-align: top;\n    }\n\n    .dataframe thead th {\n        text-align: right;\n    }\n</style>\n<table border=\"1\" class=\"dataframe\">\n  <thead>\n    <tr style=\"text-align: right;\">\n      <th></th>\n      <th>star</th>\n      <th>director</th>\n    </tr>\n  </thead>\n  <tbody>\n    <tr>\n      <th>0</th>\n      <td>Carey Mulligan,Bo Burnham,Alison Brie,Clancy B...</td>\n      <td>Emerald Fennell</td>\n    </tr>\n    <tr>\n      <th>1</th>\n      <td>Frances McDormand,David Strathairn,Linda May,G...</td>\n      <td>Chloé Zhao</td>\n    </tr>\n    <tr>\n      <th>2</th>\n      <td>Gary Oldman,Amanda Seyfried,Lily Collins,Tom P...</td>\n      <td>David Fincher</td>\n    </tr>\n    <tr>\n      <th>3</th>\n      <td>Rosamund Pike,Peter Dinklage,Eiza González,Dia...</td>\n      <td>J Blakeson</td>\n    </tr>\n    <tr>\n      <th>4</th>\n      <td>Steven Yeun,Yeri Han,Alan S. Kim,Noel Cho</td>\n      <td>Lee Isaac Chung</td>\n    </tr>\n  </tbody>\n</table>\n</div>"
     },
     "metadata": {},
     "execution_count": 114
    }
   ],
   "source": [
    "df_star_director.head()"
   ]
  },
  {
   "cell_type": "code",
   "execution_count": null,
   "metadata": {},
   "outputs": [],
   "source": []
  }
 ],
 "metadata": {
  "kernelspec": {
   "name": "python3",
   "display_name": "Python 3.8.3 64-bit ('tf': conda)",
   "metadata": {
    "interpreter": {
     "hash": "10e89b4373ca82b9aa008416dbc6678ec2573a3d463e333e4d350f38af34d33f"
    }
   }
  },
  "language_info": {
   "codemirror_mode": {
    "name": "ipython",
    "version": 3
   },
   "file_extension": ".py",
   "mimetype": "text/x-python",
   "name": "python",
   "nbconvert_exporter": "python",
   "pygments_lexer": "ipython3",
   "version": "3.8.3-final"
  },
  "toc": {
   "base_numbering": 1,
   "nav_menu": {},
   "number_sections": true,
   "sideBar": true,
   "skip_h1_title": false,
   "title_cell": "Table of Contents",
   "title_sidebar": "Contents",
   "toc_cell": false,
   "toc_position": {},
   "toc_section_display": true,
   "toc_window_display": false
  }
 },
 "nbformat": 4,
 "nbformat_minor": 2
}